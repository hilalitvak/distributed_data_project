{
 "cells": [
  {
   "cell_type": "markdown",
   "metadata": {
    "application/vnd.databricks.v1+cell": {
     "cellMetadata": {},
     "inputWidgets": {},
     "nuid": "12e5b014-dc45-484c-afc6-53ee243c2e5c",
     "showTitle": false,
     "title": ""
    }
   },
   "source": [
    "## 2.1"
   ]
  },
  {
   "cell_type": "code",
   "execution_count": 0,
   "metadata": {
    "application/vnd.databricks.v1+cell": {
     "cellMetadata": {
      "byteLimit": 2048000,
      "rowLimit": 10000
     },
     "inputWidgets": {},
     "nuid": "a5fa0e80-5a67-46ca-b7a2-c6fef3a041b0",
     "showTitle": false,
     "title": ""
    }
   },
   "outputs": [
    {
     "output_type": "stream",
     "name": "stdout",
     "output_type": "stream",
     "text": [
      "Data for: project1_part21_Wilkes_BarreScrantonHztn_324075548_326172756\n"
     ]
    },
    {
     "output_type": "display_data",
     "data": {
      "text/html": [
       "<style scoped>\n",
       "  .table-result-container {\n",
       "    max-height: 300px;\n",
       "    overflow: auto;\n",
       "  }\n",
       "  table, th, td {\n",
       "    border: 1px solid black;\n",
       "    border-collapse: collapse;\n",
       "  }\n",
       "  th, td {\n",
       "    padding: 5px;\n",
       "  }\n",
       "  th {\n",
       "    text-align: left;\n",
       "  }\n",
       "</style><div class='table-result-container'><table class='table-result'><thead style='background-color: white'><tr><th>genre</th><th>popularity</th></tr></thead><tbody><tr><td>Shopping</td><td>261219839</td></tr><tr><td>News</td><td>148852784</td></tr><tr><td>Sports non-event</td><td>85822616</td></tr><tr><td>Sports talk</td><td>85567230</td></tr><tr><td>Weather</td><td>64017959</td></tr><tr><td>Consumer</td><td>56866440</td></tr><tr><td>Music</td><td>49066687</td></tr><tr><td>Special</td><td>11731614</td></tr><tr><td>Variety</td><td>10097387</td></tr><tr><td>Talk</td><td>8871315</td></tr><tr><td>Religious</td><td>5645726</td></tr><tr><td>Sitcom</td><td>5627313</td></tr><tr><td>Comedy</td><td>5178824</td></tr><tr><td>Children</td><td>5025769</td></tr><tr><td>Animated</td><td>4338814</td></tr><tr><td>Baseball</td><td>3550699</td></tr><tr><td>Reality</td><td>3287284</td></tr><tr><td>Action</td><td>3237695</td></tr><tr><td>Football</td><td>3204945</td></tr><tr><td>Politics</td><td>3116836</td></tr><tr><td>Public affairs</td><td>3038071</td></tr><tr><td>Basketball</td><td>2896637</td></tr><tr><td>Adventure</td><td>2891695</td></tr><tr><td>Drama</td><td>2348705</td></tr><tr><td>Educational</td><td>2183785</td></tr><tr><td>Entertainment</td><td>1994195</td></tr><tr><td>Bus./financial</td><td>1917858</td></tr><tr><td>Suspense</td><td>1827503</td></tr><tr><td>Fantasy</td><td>1776320</td></tr><tr><td>Crime drama</td><td>1566865</td></tr><tr><td>Community</td><td>1437763</td></tr><tr><td>Hockey</td><td>1375074</td></tr><tr><td>Documentary</td><td>1368179</td></tr><tr><td>Science fiction</td><td>1349100</td></tr><tr><td>Newsmagazine</td><td>1295933</td></tr><tr><td>Interview</td><td>1249448</td></tr><tr><td>Musical</td><td>1193788</td></tr><tr><td>Game show</td><td>1151427</td></tr><tr><td>Health</td><td>1079818</td></tr><tr><td>Romance</td><td>985493</td></tr><tr><td>Crime</td><td>877744</td></tr><tr><td>Comedy-drama</td><td>805462</td></tr><tr><td>Law</td><td>766348</td></tr><tr><td>Horror</td><td>738757</td></tr><tr><td>Anthology</td><td>693973</td></tr><tr><td>House/garden</td><td>673873</td></tr><tr><td>Romance-comedy</td><td>648044</td></tr><tr><td>Mystery</td><td>619904</td></tr><tr><td>Science</td><td>488750</td></tr><tr><td>Adults only</td><td>444036</td></tr><tr><td>Golf</td><td>342574</td></tr><tr><td>Cooking</td><td>325922</td></tr><tr><td>Animals</td><td>318054</td></tr><tr><td>Home improvement</td><td>315246</td></tr><tr><td>Western</td><td>291233</td></tr><tr><td>War</td><td>290746</td></tr><tr><td>Outdoors</td><td>270036</td></tr><tr><td>Soap</td><td>266648</td></tr><tr><td>History</td><td>258829</td></tr><tr><td>Sports event</td><td>255613</td></tr><tr><td>Travel</td><td>250035</td></tr><tr><td>Biography</td><td>227004</td></tr><tr><td>Docudrama</td><td>219913</td></tr><tr><td>Medical</td><td>216187</td></tr><tr><td>Nature</td><td>200983</td></tr><tr><td>Soccer</td><td>199419</td></tr><tr><td>Historical drama</td><td>198830</td></tr><tr><td>Pro wrestling</td><td>175855</td></tr><tr><td>Auto racing</td><td>166422</td></tr><tr><td>How-to</td><td>162723</td></tr><tr><td>Paranormal</td><td>132517</td></tr><tr><td>Agriculture</td><td>129516</td></tr><tr><td>Fashion</td><td>107392</td></tr><tr><td>Collectibles</td><td>95144</td></tr><tr><td>Auto</td><td>91166</td></tr><tr><td>Fishing</td><td>87396</td></tr><tr><td>Art</td><td>67474</td></tr><tr><td>Martial arts</td><td>62384</td></tr><tr><td>Standup</td><td>61692</td></tr><tr><td>Music special</td><td>60361</td></tr><tr><td>Self improvement</td><td>60301</td></tr><tr><td>Musical comedy</td><td>56851</td></tr><tr><td>Military</td><td>50707</td></tr><tr><td>Horse</td><td>44707</td></tr><tr><td>Mixed martial arts</td><td>44615</td></tr><tr><td>Auction</td><td>42947</td></tr><tr><td>Hunting</td><td>42299</td></tr><tr><td>Poker</td><td>35786</td></tr><tr><td>Card games</td><td>35415</td></tr><tr><td>Boxing</td><td>34543</td></tr><tr><td>Playoff sports</td><td>28921</td></tr><tr><td>Technology</td><td>26884</td></tr><tr><td>Dance</td><td>23263</td></tr><tr><td>Action sports</td><td>18700</td></tr><tr><td>Aviation</td><td>18370</td></tr><tr><td>Tennis</td><td>17682</td></tr><tr><td>Running</td><td>17317</td></tr><tr><td>Wrestling</td><td>16185</td></tr><tr><td>Awards</td><td>15426</td></tr><tr><td>Spanish</td><td>14269</td></tr><tr><td>Parenting</td><td>11430</td></tr><tr><td>Exercise</td><td>11006</td></tr><tr><td>Computers</td><td>9306</td></tr><tr><td>Gaming</td><td>8235</td></tr><tr><td>Environment</td><td>7026</td></tr><tr><td>Softball</td><td>6753</td></tr><tr><td>Miniseries</td><td>5381</td></tr><tr><td>Arts/crafts</td><td>4887</td></tr><tr><td>Debate</td><td>4878</td></tr><tr><td>Skiing</td><td>4670</td></tr><tr><td>Anime</td><td>4004</td></tr><tr><td>Weightlifting</td><td>3445</td></tr><tr><td>Shooting</td><td>3088</td></tr><tr><td>Event</td><td>2657</td></tr><tr><td>Fundraiser</td><td>2268</td></tr><tr><td>Gay/lesbian</td><td>2009</td></tr><tr><td>Parade</td><td>1939</td></tr><tr><td>Cheerleading</td><td>1724</td></tr><tr><td>Snowmobile</td><td>1526</td></tr><tr><td>Holiday</td><td>1346</td></tr><tr><td>Motorcycle</td><td>1326</td></tr><tr><td>Motorsports</td><td>1287</td></tr><tr><td>Snowboarding</td><td>1196</td></tr><tr><td>Motorcycle racing</td><td>1142</td></tr><tr><td>Dog show</td><td>1114</td></tr><tr><td>Rodeo</td><td>1056</td></tr><tr><td>Boat</td><td>1042</td></tr><tr><td>Performing arts</td><td>960</td></tr><tr><td>Figure skating</td><td>816</td></tr><tr><td>Bicycle racing</td><td>751</td></tr><tr><td>Archery</td><td>748</td></tr><tr><td>Triathlon</td><td>714</td></tr><tr><td>Lacrosse</td><td>661</td></tr><tr><td>Gymnastics</td><td>604</td></tr><tr><td>Pool</td><td>516</td></tr><tr><td>Olympics</td><td>506</td></tr><tr><td>Diving</td><td>500</td></tr><tr><td>Yacht racing</td><td>466</td></tr><tr><td>Rugby</td><td>461</td></tr><tr><td>Equestrian</td><td>449</td></tr><tr><td>Track/field</td><td>426</td></tr><tr><td>Watersports</td><td>420</td></tr><tr><td>Arm wrestling</td><td>411</td></tr><tr><td>Volleyball</td><td>345</td></tr><tr><td>Beach volleyball</td><td>335</td></tr><tr><td>Beach soccer</td><td>327</td></tr><tr><td>Bowling</td><td>265</td></tr><tr><td>Skateboarding</td><td>248</td></tr><tr><td>Sailing</td><td>187</td></tr><tr><td>Surfing</td><td>174</td></tr><tr><td>Drag racing</td><td>165</td></tr><tr><td>Children-music</td><td>143</td></tr><tr><td>Intl soccer</td><td>127</td></tr><tr><td>Kayaking</td><td>88</td></tr><tr><td>Mountain biking</td><td>79</td></tr><tr><td>Bicycle</td><td>72</td></tr><tr><td>Swimming</td><td>61</td></tr><tr><td>Theater</td><td>59</td></tr><tr><td>Holiday special</td><td>55</td></tr><tr><td>Cricket</td><td>29</td></tr><tr><td>Dog racing</td><td>28</td></tr><tr><td>Boat racing</td><td>23</td></tr><tr><td>Field hockey</td><td>22</td></tr><tr><td>Billiards</td><td>22</td></tr><tr><td>Curling</td><td>10</td></tr><tr><td>Racquet</td><td>7</td></tr><tr><td>Squash</td><td>7</td></tr><tr><td>Darts</td><td>3</td></tr><tr><td>Speed skating</td><td>2</td></tr><tr><td>Polo</td><td>1</td></tr><tr><td>Luge</td><td>1</td></tr></tbody></table></div>"
      ]
     },
     "metadata": {
      "application/vnd.databricks.v1+output": {
       "addedWidgets": {},
       "aggData": [],
       "aggError": "",
       "aggOverflow": false,
       "aggSchema": [],
       "aggSeriesLimitReached": false,
       "aggType": "",
       "arguments": {},
       "columnCustomDisplayInfos": {},
       "data": [
        [
         "Shopping",
         261219839
        ],
        [
         "News",
         148852784
        ],
        [
         "Sports non-event",
         85822616
        ],
        [
         "Sports talk",
         85567230
        ],
        [
         "Weather",
         64017959
        ],
        [
         "Consumer",
         56866440
        ],
        [
         "Music",
         49066687
        ],
        [
         "Special",
         11731614
        ],
        [
         "Variety",
         10097387
        ],
        [
         "Talk",
         8871315
        ],
        [
         "Religious",
         5645726
        ],
        [
         "Sitcom",
         5627313
        ],
        [
         "Comedy",
         5178824
        ],
        [
         "Children",
         5025769
        ],
        [
         "Animated",
         4338814
        ],
        [
         "Baseball",
         3550699
        ],
        [
         "Reality",
         3287284
        ],
        [
         "Action",
         3237695
        ],
        [
         "Football",
         3204945
        ],
        [
         "Politics",
         3116836
        ],
        [
         "Public affairs",
         3038071
        ],
        [
         "Basketball",
         2896637
        ],
        [
         "Adventure",
         2891695
        ],
        [
         "Drama",
         2348705
        ],
        [
         "Educational",
         2183785
        ],
        [
         "Entertainment",
         1994195
        ],
        [
         "Bus./financial",
         1917858
        ],
        [
         "Suspense",
         1827503
        ],
        [
         "Fantasy",
         1776320
        ],
        [
         "Crime drama",
         1566865
        ],
        [
         "Community",
         1437763
        ],
        [
         "Hockey",
         1375074
        ],
        [
         "Documentary",
         1368179
        ],
        [
         "Science fiction",
         1349100
        ],
        [
         "Newsmagazine",
         1295933
        ],
        [
         "Interview",
         1249448
        ],
        [
         "Musical",
         1193788
        ],
        [
         "Game show",
         1151427
        ],
        [
         "Health",
         1079818
        ],
        [
         "Romance",
         985493
        ],
        [
         "Crime",
         877744
        ],
        [
         "Comedy-drama",
         805462
        ],
        [
         "Law",
         766348
        ],
        [
         "Horror",
         738757
        ],
        [
         "Anthology",
         693973
        ],
        [
         "House/garden",
         673873
        ],
        [
         "Romance-comedy",
         648044
        ],
        [
         "Mystery",
         619904
        ],
        [
         "Science",
         488750
        ],
        [
         "Adults only",
         444036
        ],
        [
         "Golf",
         342574
        ],
        [
         "Cooking",
         325922
        ],
        [
         "Animals",
         318054
        ],
        [
         "Home improvement",
         315246
        ],
        [
         "Western",
         291233
        ],
        [
         "War",
         290746
        ],
        [
         "Outdoors",
         270036
        ],
        [
         "Soap",
         266648
        ],
        [
         "History",
         258829
        ],
        [
         "Sports event",
         255613
        ],
        [
         "Travel",
         250035
        ],
        [
         "Biography",
         227004
        ],
        [
         "Docudrama",
         219913
        ],
        [
         "Medical",
         216187
        ],
        [
         "Nature",
         200983
        ],
        [
         "Soccer",
         199419
        ],
        [
         "Historical drama",
         198830
        ],
        [
         "Pro wrestling",
         175855
        ],
        [
         "Auto racing",
         166422
        ],
        [
         "How-to",
         162723
        ],
        [
         "Paranormal",
         132517
        ],
        [
         "Agriculture",
         129516
        ],
        [
         "Fashion",
         107392
        ],
        [
         "Collectibles",
         95144
        ],
        [
         "Auto",
         91166
        ],
        [
         "Fishing",
         87396
        ],
        [
         "Art",
         67474
        ],
        [
         "Martial arts",
         62384
        ],
        [
         "Standup",
         61692
        ],
        [
         "Music special",
         60361
        ],
        [
         "Self improvement",
         60301
        ],
        [
         "Musical comedy",
         56851
        ],
        [
         "Military",
         50707
        ],
        [
         "Horse",
         44707
        ],
        [
         "Mixed martial arts",
         44615
        ],
        [
         "Auction",
         42947
        ],
        [
         "Hunting",
         42299
        ],
        [
         "Poker",
         35786
        ],
        [
         "Card games",
         35415
        ],
        [
         "Boxing",
         34543
        ],
        [
         "Playoff sports",
         28921
        ],
        [
         "Technology",
         26884
        ],
        [
         "Dance",
         23263
        ],
        [
         "Action sports",
         18700
        ],
        [
         "Aviation",
         18370
        ],
        [
         "Tennis",
         17682
        ],
        [
         "Running",
         17317
        ],
        [
         "Wrestling",
         16185
        ],
        [
         "Awards",
         15426
        ],
        [
         "Spanish",
         14269
        ],
        [
         "Parenting",
         11430
        ],
        [
         "Exercise",
         11006
        ],
        [
         "Computers",
         9306
        ],
        [
         "Gaming",
         8235
        ],
        [
         "Environment",
         7026
        ],
        [
         "Softball",
         6753
        ],
        [
         "Miniseries",
         5381
        ],
        [
         "Arts/crafts",
         4887
        ],
        [
         "Debate",
         4878
        ],
        [
         "Skiing",
         4670
        ],
        [
         "Anime",
         4004
        ],
        [
         "Weightlifting",
         3445
        ],
        [
         "Shooting",
         3088
        ],
        [
         "Event",
         2657
        ],
        [
         "Fundraiser",
         2268
        ],
        [
         "Gay/lesbian",
         2009
        ],
        [
         "Parade",
         1939
        ],
        [
         "Cheerleading",
         1724
        ],
        [
         "Snowmobile",
         1526
        ],
        [
         "Holiday",
         1346
        ],
        [
         "Motorcycle",
         1326
        ],
        [
         "Motorsports",
         1287
        ],
        [
         "Snowboarding",
         1196
        ],
        [
         "Motorcycle racing",
         1142
        ],
        [
         "Dog show",
         1114
        ],
        [
         "Rodeo",
         1056
        ],
        [
         "Boat",
         1042
        ],
        [
         "Performing arts",
         960
        ],
        [
         "Figure skating",
         816
        ],
        [
         "Bicycle racing",
         751
        ],
        [
         "Archery",
         748
        ],
        [
         "Triathlon",
         714
        ],
        [
         "Lacrosse",
         661
        ],
        [
         "Gymnastics",
         604
        ],
        [
         "Pool",
         516
        ],
        [
         "Olympics",
         506
        ],
        [
         "Diving",
         500
        ],
        [
         "Yacht racing",
         466
        ],
        [
         "Rugby",
         461
        ],
        [
         "Equestrian",
         449
        ],
        [
         "Track/field",
         426
        ],
        [
         "Watersports",
         420
        ],
        [
         "Arm wrestling",
         411
        ],
        [
         "Volleyball",
         345
        ],
        [
         "Beach volleyball",
         335
        ],
        [
         "Beach soccer",
         327
        ],
        [
         "Bowling",
         265
        ],
        [
         "Skateboarding",
         248
        ],
        [
         "Sailing",
         187
        ],
        [
         "Surfing",
         174
        ],
        [
         "Drag racing",
         165
        ],
        [
         "Children-music",
         143
        ],
        [
         "Intl soccer",
         127
        ],
        [
         "Kayaking",
         88
        ],
        [
         "Mountain biking",
         79
        ],
        [
         "Bicycle",
         72
        ],
        [
         "Swimming",
         61
        ],
        [
         "Theater",
         59
        ],
        [
         "Holiday special",
         55
        ],
        [
         "Cricket",
         29
        ],
        [
         "Dog racing",
         28
        ],
        [
         "Boat racing",
         23
        ],
        [
         "Field hockey",
         22
        ],
        [
         "Billiards",
         22
        ],
        [
         "Curling",
         10
        ],
        [
         "Racquet",
         7
        ],
        [
         "Squash",
         7
        ],
        [
         "Darts",
         3
        ],
        [
         "Speed skating",
         2
        ],
        [
         "Polo",
         1
        ],
        [
         "Luge",
         1
        ]
       ],
       "datasetInfos": [],
       "dbfsResultPath": null,
       "isJsonSchema": true,
       "metadata": {},
       "overflow": false,
       "plotOptions": {
        "customPlotOptions": {},
        "displayType": "table",
        "pivotAggregation": null,
        "pivotColumns": null,
        "xColumns": null,
        "yColumns": null
       },
       "removedWidgets": [],
       "schema": [
        {
         "metadata": "{}",
         "name": "genre",
         "type": "\"string\""
        },
        {
         "metadata": "{}",
         "name": "popularity",
         "type": "\"long\""
        }
       ],
       "type": "table"
      }
     },
     "output_type": "display_data"
    },
    {
     "output_type": "stream",
     "name": "stdout",
     "output_type": "stream",
     "text": [
      "\n\nData for: project1_part21_CharlestonHuntington_324075548_326172756\n"
     ]
    },
    {
     "output_type": "display_data",
     "data": {
      "text/html": [
       "<style scoped>\n",
       "  .table-result-container {\n",
       "    max-height: 300px;\n",
       "    overflow: auto;\n",
       "  }\n",
       "  table, th, td {\n",
       "    border: 1px solid black;\n",
       "    border-collapse: collapse;\n",
       "  }\n",
       "  th, td {\n",
       "    padding: 5px;\n",
       "  }\n",
       "  th {\n",
       "    text-align: left;\n",
       "  }\n",
       "</style><div class='table-result-container'><table class='table-result'><thead style='background-color: white'><tr><th>genre</th><th>popularity</th></tr></thead><tbody><tr><td>Shopping</td><td>600951304</td></tr><tr><td>News</td><td>177107438</td></tr><tr><td>Sports non-event</td><td>127370002</td></tr><tr><td>Sports talk</td><td>124124718</td></tr><tr><td>Consumer</td><td>80987076</td></tr><tr><td>Music</td><td>51516063</td></tr><tr><td>Community</td><td>36293977</td></tr><tr><td>Public affairs</td><td>34083231</td></tr><tr><td>Variety</td><td>29858148</td></tr><tr><td>Special</td><td>17404367</td></tr><tr><td>Religious</td><td>13336877</td></tr><tr><td>Children</td><td>10644893</td></tr><tr><td>Talk</td><td>9437459</td></tr><tr><td>Animated</td><td>8490586</td></tr><tr><td>Sitcom</td><td>8055641</td></tr><tr><td>Politics</td><td>7435401</td></tr><tr><td>Educational</td><td>6499523</td></tr><tr><td>Comedy</td><td>5950596</td></tr><tr><td>Weather</td><td>5318164</td></tr><tr><td>Adventure</td><td>4163734</td></tr><tr><td>Reality</td><td>3725598</td></tr><tr><td>Action</td><td>3711944</td></tr><tr><td>House/garden</td><td>3371859</td></tr><tr><td>Auto</td><td>3121654</td></tr><tr><td>Fantasy</td><td>2450526</td></tr><tr><td>Drama</td><td>2360977</td></tr><tr><td>Suspense</td><td>2147828</td></tr><tr><td>Entertainment</td><td>2125386</td></tr><tr><td>Newsmagazine</td><td>2110960</td></tr><tr><td>Football</td><td>2042177</td></tr><tr><td>Interview</td><td>1927875</td></tr><tr><td>Health</td><td>1855159</td></tr><tr><td>Crime drama</td><td>1715864</td></tr><tr><td>Science fiction</td><td>1639655</td></tr><tr><td>Pro wrestling</td><td>1637171</td></tr><tr><td>Documentary</td><td>1566917</td></tr><tr><td>Romance</td><td>1105211</td></tr><tr><td>Bus./financial</td><td>1086364</td></tr><tr><td>Game show</td><td>1077939</td></tr><tr><td>Horror</td><td>876714</td></tr><tr><td>Anthology</td><td>876152</td></tr><tr><td>Crime</td><td>859638</td></tr><tr><td>Outdoors</td><td>856855</td></tr><tr><td>Western</td><td>815909</td></tr><tr><td>Mystery</td><td>815417</td></tr><tr><td>Law</td><td>732993</td></tr><tr><td>Romance-comedy</td><td>731182</td></tr><tr><td>Golf</td><td>594939</td></tr><tr><td>Comedy-drama</td><td>490246</td></tr><tr><td>Home improvement</td><td>423111</td></tr><tr><td>Sports event</td><td>381048</td></tr><tr><td>Auto racing</td><td>374846</td></tr><tr><td>Exercise</td><td>372112</td></tr><tr><td>Travel</td><td>341926</td></tr><tr><td>Cooking</td><td>335145</td></tr><tr><td>War</td><td>311894</td></tr><tr><td>Medical</td><td>306989</td></tr><tr><td>Nature</td><td>305163</td></tr><tr><td>Baseball</td><td>302927</td></tr><tr><td>Animals</td><td>275075</td></tr><tr><td>History</td><td>256210</td></tr><tr><td>Historical drama</td><td>254948</td></tr><tr><td>Science</td><td>252858</td></tr><tr><td>Fishing</td><td>233522</td></tr><tr><td>Docudrama</td><td>226966</td></tr><tr><td>Biography</td><td>217859</td></tr><tr><td>How-to</td><td>211359</td></tr><tr><td>Basketball</td><td>210612</td></tr><tr><td>Paranormal</td><td>170510</td></tr><tr><td>Hunting</td><td>168399</td></tr><tr><td>Mixed martial arts</td><td>157322</td></tr><tr><td>Musical</td><td>150050</td></tr><tr><td>Adults only</td><td>141515</td></tr><tr><td>Fashion</td><td>131095</td></tr><tr><td>Poker</td><td>118523</td></tr><tr><td>Card games</td><td>118067</td></tr><tr><td>Collectibles</td><td>109963</td></tr><tr><td>Martial arts</td><td>96786</td></tr><tr><td>Soccer</td><td>77344</td></tr><tr><td>Art</td><td>73905</td></tr><tr><td>Action sports</td><td>63934</td></tr><tr><td>Agriculture</td><td>62777</td></tr><tr><td>Musical comedy</td><td>60808</td></tr><tr><td>Auction</td><td>56508</td></tr><tr><td>Dance</td><td>41634</td></tr><tr><td>Playoff sports</td><td>34967</td></tr><tr><td>Boxing</td><td>34127</td></tr><tr><td>Soap</td><td>31982</td></tr><tr><td>Hockey</td><td>27599</td></tr><tr><td>Aviation</td><td>26006</td></tr><tr><td>Standup</td><td>25347</td></tr><tr><td>Self improvement</td><td>22527</td></tr><tr><td>Parenting</td><td>22168</td></tr><tr><td>Technology</td><td>19007</td></tr><tr><td>Military</td><td>16503</td></tr><tr><td>Gaming</td><td>16037</td></tr><tr><td>Horse</td><td>13146</td></tr><tr><td>Environment</td><td>9667</td></tr><tr><td>Spanish</td><td>9573</td></tr><tr><td>Computers</td><td>7867</td></tr><tr><td>Awards</td><td>7706</td></tr><tr><td>Snowmobile</td><td>7504</td></tr><tr><td>Anime</td><td>6652</td></tr><tr><td>Shooting</td><td>5922</td></tr><tr><td>Softball</td><td>5215</td></tr><tr><td>Wrestling</td><td>4606</td></tr><tr><td>Fundraiser</td><td>4143</td></tr><tr><td>Tennis</td><td>4053</td></tr><tr><td>Skiing</td><td>4029</td></tr><tr><td>Rodeo</td><td>3422</td></tr><tr><td>Event</td><td>3348</td></tr><tr><td>Arts/crafts</td><td>2916</td></tr><tr><td>Gay/lesbian</td><td>2337</td></tr><tr><td>Debate</td><td>1962</td></tr><tr><td>Motorsports</td><td>1778</td></tr><tr><td>Motorcycle racing</td><td>1719</td></tr><tr><td>Beach volleyball</td><td>1656</td></tr><tr><td>Beach soccer</td><td>1634</td></tr><tr><td>Boat</td><td>1611</td></tr><tr><td>Miniseries</td><td>1414</td></tr><tr><td>Snowboarding</td><td>1403</td></tr><tr><td>Motorcycle</td><td>1249</td></tr><tr><td>Archery</td><td>1153</td></tr><tr><td>Parade</td><td>1152</td></tr><tr><td>Pool</td><td>1126</td></tr><tr><td>Dog show</td><td>1027</td></tr><tr><td>Weightlifting</td><td>1008</td></tr><tr><td>Figure skating</td><td>964</td></tr><tr><td>Bicycle racing</td><td>954</td></tr><tr><td>Gymnastics</td><td>872</td></tr><tr><td>Triathlon</td><td>832</td></tr><tr><td>Olympics</td><td>805</td></tr><tr><td>Diving</td><td>771</td></tr><tr><td>Volleyball</td><td>577</td></tr><tr><td>Running</td><td>518</td></tr><tr><td>Track/field</td><td>509</td></tr><tr><td>Arm wrestling</td><td>469</td></tr><tr><td>Equestrian</td><td>419</td></tr><tr><td>Performing arts</td><td>419</td></tr><tr><td>Surfing</td><td>412</td></tr><tr><td>Kayaking</td><td>379</td></tr><tr><td>Skateboarding</td><td>346</td></tr><tr><td>Holiday</td><td>344</td></tr><tr><td>Drag racing</td><td>257</td></tr><tr><td>Rugby</td><td>241</td></tr><tr><td>Swimming</td><td>218</td></tr><tr><td>Theater</td><td>208</td></tr><tr><td>Music special</td><td>184</td></tr><tr><td>Lacrosse</td><td>181</td></tr><tr><td>Holiday special</td><td>154</td></tr><tr><td>Bowling</td><td>127</td></tr><tr><td>Intl soccer</td><td>115</td></tr><tr><td>Watersports</td><td>72</td></tr><tr><td>Yacht racing</td><td>54</td></tr><tr><td>Billiards</td><td>51</td></tr><tr><td>Sailing</td><td>45</td></tr><tr><td>Water polo</td><td>40</td></tr><tr><td>Cheerleading</td><td>38</td></tr><tr><td>Curling</td><td>37</td></tr><tr><td>Field hockey</td><td>31</td></tr><tr><td>Cricket</td><td>21</td></tr><tr><td>Boat racing</td><td>19</td></tr><tr><td>Speed skating</td><td>17</td></tr><tr><td>Luge</td><td>11</td></tr><tr><td>Table tennis</td><td>6</td></tr><tr><td>Bobsled</td><td>4</td></tr><tr><td>Holiday-children special</td><td>2</td></tr></tbody></table></div>"
      ]
     },
     "metadata": {
      "application/vnd.databricks.v1+output": {
       "addedWidgets": {},
       "aggData": [],
       "aggError": "",
       "aggOverflow": false,
       "aggSchema": [],
       "aggSeriesLimitReached": false,
       "aggType": "",
       "arguments": {},
       "columnCustomDisplayInfos": {},
       "data": [
        [
         "Shopping",
         600951304
        ],
        [
         "News",
         177107438
        ],
        [
         "Sports non-event",
         127370002
        ],
        [
         "Sports talk",
         124124718
        ],
        [
         "Consumer",
         80987076
        ],
        [
         "Music",
         51516063
        ],
        [
         "Community",
         36293977
        ],
        [
         "Public affairs",
         34083231
        ],
        [
         "Variety",
         29858148
        ],
        [
         "Special",
         17404367
        ],
        [
         "Religious",
         13336877
        ],
        [
         "Children",
         10644893
        ],
        [
         "Talk",
         9437459
        ],
        [
         "Animated",
         8490586
        ],
        [
         "Sitcom",
         8055641
        ],
        [
         "Politics",
         7435401
        ],
        [
         "Educational",
         6499523
        ],
        [
         "Comedy",
         5950596
        ],
        [
         "Weather",
         5318164
        ],
        [
         "Adventure",
         4163734
        ],
        [
         "Reality",
         3725598
        ],
        [
         "Action",
         3711944
        ],
        [
         "House/garden",
         3371859
        ],
        [
         "Auto",
         3121654
        ],
        [
         "Fantasy",
         2450526
        ],
        [
         "Drama",
         2360977
        ],
        [
         "Suspense",
         2147828
        ],
        [
         "Entertainment",
         2125386
        ],
        [
         "Newsmagazine",
         2110960
        ],
        [
         "Football",
         2042177
        ],
        [
         "Interview",
         1927875
        ],
        [
         "Health",
         1855159
        ],
        [
         "Crime drama",
         1715864
        ],
        [
         "Science fiction",
         1639655
        ],
        [
         "Pro wrestling",
         1637171
        ],
        [
         "Documentary",
         1566917
        ],
        [
         "Romance",
         1105211
        ],
        [
         "Bus./financial",
         1086364
        ],
        [
         "Game show",
         1077939
        ],
        [
         "Horror",
         876714
        ],
        [
         "Anthology",
         876152
        ],
        [
         "Crime",
         859638
        ],
        [
         "Outdoors",
         856855
        ],
        [
         "Western",
         815909
        ],
        [
         "Mystery",
         815417
        ],
        [
         "Law",
         732993
        ],
        [
         "Romance-comedy",
         731182
        ],
        [
         "Golf",
         594939
        ],
        [
         "Comedy-drama",
         490246
        ],
        [
         "Home improvement",
         423111
        ],
        [
         "Sports event",
         381048
        ],
        [
         "Auto racing",
         374846
        ],
        [
         "Exercise",
         372112
        ],
        [
         "Travel",
         341926
        ],
        [
         "Cooking",
         335145
        ],
        [
         "War",
         311894
        ],
        [
         "Medical",
         306989
        ],
        [
         "Nature",
         305163
        ],
        [
         "Baseball",
         302927
        ],
        [
         "Animals",
         275075
        ],
        [
         "History",
         256210
        ],
        [
         "Historical drama",
         254948
        ],
        [
         "Science",
         252858
        ],
        [
         "Fishing",
         233522
        ],
        [
         "Docudrama",
         226966
        ],
        [
         "Biography",
         217859
        ],
        [
         "How-to",
         211359
        ],
        [
         "Basketball",
         210612
        ],
        [
         "Paranormal",
         170510
        ],
        [
         "Hunting",
         168399
        ],
        [
         "Mixed martial arts",
         157322
        ],
        [
         "Musical",
         150050
        ],
        [
         "Adults only",
         141515
        ],
        [
         "Fashion",
         131095
        ],
        [
         "Poker",
         118523
        ],
        [
         "Card games",
         118067
        ],
        [
         "Collectibles",
         109963
        ],
        [
         "Martial arts",
         96786
        ],
        [
         "Soccer",
         77344
        ],
        [
         "Art",
         73905
        ],
        [
         "Action sports",
         63934
        ],
        [
         "Agriculture",
         62777
        ],
        [
         "Musical comedy",
         60808
        ],
        [
         "Auction",
         56508
        ],
        [
         "Dance",
         41634
        ],
        [
         "Playoff sports",
         34967
        ],
        [
         "Boxing",
         34127
        ],
        [
         "Soap",
         31982
        ],
        [
         "Hockey",
         27599
        ],
        [
         "Aviation",
         26006
        ],
        [
         "Standup",
         25347
        ],
        [
         "Self improvement",
         22527
        ],
        [
         "Parenting",
         22168
        ],
        [
         "Technology",
         19007
        ],
        [
         "Military",
         16503
        ],
        [
         "Gaming",
         16037
        ],
        [
         "Horse",
         13146
        ],
        [
         "Environment",
         9667
        ],
        [
         "Spanish",
         9573
        ],
        [
         "Computers",
         7867
        ],
        [
         "Awards",
         7706
        ],
        [
         "Snowmobile",
         7504
        ],
        [
         "Anime",
         6652
        ],
        [
         "Shooting",
         5922
        ],
        [
         "Softball",
         5215
        ],
        [
         "Wrestling",
         4606
        ],
        [
         "Fundraiser",
         4143
        ],
        [
         "Tennis",
         4053
        ],
        [
         "Skiing",
         4029
        ],
        [
         "Rodeo",
         3422
        ],
        [
         "Event",
         3348
        ],
        [
         "Arts/crafts",
         2916
        ],
        [
         "Gay/lesbian",
         2337
        ],
        [
         "Debate",
         1962
        ],
        [
         "Motorsports",
         1778
        ],
        [
         "Motorcycle racing",
         1719
        ],
        [
         "Beach volleyball",
         1656
        ],
        [
         "Beach soccer",
         1634
        ],
        [
         "Boat",
         1611
        ],
        [
         "Miniseries",
         1414
        ],
        [
         "Snowboarding",
         1403
        ],
        [
         "Motorcycle",
         1249
        ],
        [
         "Archery",
         1153
        ],
        [
         "Parade",
         1152
        ],
        [
         "Pool",
         1126
        ],
        [
         "Dog show",
         1027
        ],
        [
         "Weightlifting",
         1008
        ],
        [
         "Figure skating",
         964
        ],
        [
         "Bicycle racing",
         954
        ],
        [
         "Gymnastics",
         872
        ],
        [
         "Triathlon",
         832
        ],
        [
         "Olympics",
         805
        ],
        [
         "Diving",
         771
        ],
        [
         "Volleyball",
         577
        ],
        [
         "Running",
         518
        ],
        [
         "Track/field",
         509
        ],
        [
         "Arm wrestling",
         469
        ],
        [
         "Equestrian",
         419
        ],
        [
         "Performing arts",
         419
        ],
        [
         "Surfing",
         412
        ],
        [
         "Kayaking",
         379
        ],
        [
         "Skateboarding",
         346
        ],
        [
         "Holiday",
         344
        ],
        [
         "Drag racing",
         257
        ],
        [
         "Rugby",
         241
        ],
        [
         "Swimming",
         218
        ],
        [
         "Theater",
         208
        ],
        [
         "Music special",
         184
        ],
        [
         "Lacrosse",
         181
        ],
        [
         "Holiday special",
         154
        ],
        [
         "Bowling",
         127
        ],
        [
         "Intl soccer",
         115
        ],
        [
         "Watersports",
         72
        ],
        [
         "Yacht racing",
         54
        ],
        [
         "Billiards",
         51
        ],
        [
         "Sailing",
         45
        ],
        [
         "Water polo",
         40
        ],
        [
         "Cheerleading",
         38
        ],
        [
         "Curling",
         37
        ],
        [
         "Field hockey",
         31
        ],
        [
         "Cricket",
         21
        ],
        [
         "Boat racing",
         19
        ],
        [
         "Speed skating",
         17
        ],
        [
         "Luge",
         11
        ],
        [
         "Table tennis",
         6
        ],
        [
         "Bobsled",
         4
        ],
        [
         "Holiday-children special",
         2
        ]
       ],
       "datasetInfos": [],
       "dbfsResultPath": null,
       "isJsonSchema": true,
       "metadata": {},
       "overflow": false,
       "plotOptions": {
        "customPlotOptions": {},
        "displayType": "table",
        "pivotAggregation": null,
        "pivotColumns": null,
        "xColumns": null,
        "yColumns": null
       },
       "removedWidgets": [],
       "schema": [
        {
         "metadata": "{}",
         "name": "genre",
         "type": "\"string\""
        },
        {
         "metadata": "{}",
         "name": "popularity",
         "type": "\"long\""
        }
       ],
       "type": "table"
      }
     },
     "output_type": "display_data"
    },
    {
     "output_type": "stream",
     "name": "stdout",
     "output_type": "stream",
     "text": [
      "\n\nData for: project1_part21_SeattleTacoma_324075548_326172756\n"
     ]
    },
    {
     "output_type": "display_data",
     "data": {
      "text/html": [
       "<style scoped>\n",
       "  .table-result-container {\n",
       "    max-height: 300px;\n",
       "    overflow: auto;\n",
       "  }\n",
       "  table, th, td {\n",
       "    border: 1px solid black;\n",
       "    border-collapse: collapse;\n",
       "  }\n",
       "  th, td {\n",
       "    padding: 5px;\n",
       "  }\n",
       "  th {\n",
       "    text-align: left;\n",
       "  }\n",
       "</style><div class='table-result-container'><table class='table-result'><thead style='background-color: white'><tr><th>genre</th><th>popularity</th></tr></thead><tbody><tr><td>Shopping</td><td>242530329</td></tr><tr><td>News</td><td>103858008</td></tr><tr><td>Consumer</td><td>64741442</td></tr><tr><td>Sports non-event</td><td>52226020</td></tr><tr><td>Sports talk</td><td>51220421</td></tr><tr><td>Music</td><td>24606550</td></tr><tr><td>Special</td><td>6603163</td></tr><tr><td>Talk</td><td>6513109</td></tr><tr><td>Religious</td><td>5346312</td></tr><tr><td>Sitcom</td><td>3085499</td></tr><tr><td>Politics</td><td>2797376</td></tr><tr><td>Comedy</td><td>2710313</td></tr><tr><td>Children</td><td>2280156</td></tr><tr><td>Action</td><td>2148288</td></tr><tr><td>Animated</td><td>2081811</td></tr><tr><td>Reality</td><td>2058332</td></tr><tr><td>Football</td><td>1964212</td></tr><tr><td>Adventure</td><td>1909144</td></tr><tr><td>Drama</td><td>1624961</td></tr><tr><td>Entertainment</td><td>1349384</td></tr><tr><td>Educational</td><td>1345352</td></tr><tr><td>Health</td><td>1079812</td></tr><tr><td>Suspense</td><td>1070462</td></tr><tr><td>Baseball</td><td>1036486</td></tr><tr><td>Fantasy</td><td>1007025</td></tr><tr><td>Community</td><td>881044</td></tr><tr><td>Crime drama</td><td>878521</td></tr><tr><td>Documentary</td><td>857572</td></tr><tr><td>Public affairs</td><td>854581</td></tr><tr><td>Science fiction</td><td>823159</td></tr><tr><td>Bus./financial</td><td>817602</td></tr><tr><td>Interview</td><td>699419</td></tr><tr><td>Crime</td><td>664647</td></tr><tr><td>Weather</td><td>664475</td></tr><tr><td>Variety</td><td>591611</td></tr><tr><td>Newsmagazine</td><td>528698</td></tr><tr><td>Anthology</td><td>500152</td></tr><tr><td>Law</td><td>471477</td></tr><tr><td>House/garden</td><td>471222</td></tr><tr><td>Art</td><td>448233</td></tr><tr><td>Travel</td><td>445005</td></tr><tr><td>Horror</td><td>436154</td></tr><tr><td>Romance-comedy</td><td>431640</td></tr><tr><td>Romance</td><td>404916</td></tr><tr><td>Comedy-drama</td><td>404240</td></tr><tr><td>Game show</td><td>402325</td></tr><tr><td>Mystery</td><td>383829</td></tr><tr><td>Western</td><td>353193</td></tr><tr><td>Golf</td><td>289070</td></tr><tr><td>Pro wrestling</td><td>268791</td></tr><tr><td>Home improvement</td><td>254836</td></tr><tr><td>Cooking</td><td>244704</td></tr><tr><td>Medical</td><td>221644</td></tr><tr><td>Science</td><td>218093</td></tr><tr><td>Animals</td><td>206324</td></tr><tr><td>Musical</td><td>196491</td></tr><tr><td>War</td><td>194398</td></tr><tr><td>Outdoors</td><td>189758</td></tr><tr><td>Historical drama</td><td>186243</td></tr><tr><td>How-to</td><td>182716</td></tr><tr><td>Sports event</td><td>173258</td></tr><tr><td>Nature</td><td>164879</td></tr><tr><td>Docudrama</td><td>162871</td></tr><tr><td>Biography</td><td>144529</td></tr><tr><td>Soap</td><td>111407</td></tr><tr><td>Basketball</td><td>101304</td></tr><tr><td>History</td><td>95707</td></tr><tr><td>Auto</td><td>90183</td></tr><tr><td>Self improvement</td><td>86835</td></tr><tr><td>Paranormal</td><td>74519</td></tr><tr><td>Soccer</td><td>71559</td></tr><tr><td>Musical comedy</td><td>64015</td></tr><tr><td>Collectibles</td><td>58426</td></tr><tr><td>Mixed martial arts</td><td>57566</td></tr><tr><td>Fashion</td><td>56945</td></tr><tr><td>Auto racing</td><td>56725</td></tr><tr><td>Poker</td><td>53254</td></tr><tr><td>Card games</td><td>53064</td></tr><tr><td>Martial arts</td><td>47843</td></tr><tr><td>Boat</td><td>33779</td></tr><tr><td>Action sports</td><td>30615</td></tr><tr><td>Adults only</td><td>30295</td></tr><tr><td>Standup</td><td>25464</td></tr><tr><td>Auction</td><td>25195</td></tr><tr><td>Hunting</td><td>24818</td></tr><tr><td>Fishing</td><td>21833</td></tr><tr><td>Military</td><td>16746</td></tr><tr><td>Technology</td><td>16694</td></tr><tr><td>Playoff sports</td><td>15364</td></tr><tr><td>Boxing</td><td>14902</td></tr><tr><td>Dance</td><td>14073</td></tr><tr><td>Tennis</td><td>10887</td></tr><tr><td>Awards</td><td>8987</td></tr><tr><td>Hockey</td><td>7752</td></tr><tr><td>Exercise</td><td>7237</td></tr><tr><td>Aviation</td><td>6388</td></tr><tr><td>Parenting</td><td>6331</td></tr><tr><td>Environment</td><td>5325</td></tr><tr><td>Wrestling</td><td>4931</td></tr><tr><td>Skiing</td><td>4198</td></tr><tr><td>Horse</td><td>3973</td></tr><tr><td>Computers</td><td>3823</td></tr><tr><td>Aerobics</td><td>3465</td></tr><tr><td>Gaming</td><td>3274</td></tr><tr><td>Arts/crafts</td><td>2824</td></tr><tr><td>Anime</td><td>2697</td></tr><tr><td>Agriculture</td><td>2670</td></tr><tr><td>Beach volleyball</td><td>2445</td></tr><tr><td>Beach soccer</td><td>2431</td></tr><tr><td>Dog show</td><td>1991</td></tr><tr><td>Shooting</td><td>1920</td></tr><tr><td>Miniseries</td><td>1905</td></tr><tr><td>Softball</td><td>1777</td></tr><tr><td>Debate</td><td>1648</td></tr><tr><td>Event</td><td>1547</td></tr><tr><td>Snowboarding</td><td>1546</td></tr><tr><td>Volleyball</td><td>1461</td></tr><tr><td>Gay/lesbian</td><td>1442</td></tr><tr><td>Motorcycle</td><td>1398</td></tr><tr><td>Spanish</td><td>1338</td></tr><tr><td>Bicycle racing</td><td>1185</td></tr><tr><td>Diving</td><td>980</td></tr><tr><td>Motorsports</td><td>978</td></tr><tr><td>Fundraiser</td><td>973</td></tr><tr><td>Figure skating</td><td>825</td></tr><tr><td>Rodeo</td><td>812</td></tr><tr><td>Cheerleading</td><td>790</td></tr><tr><td>Music special</td><td>787</td></tr><tr><td>Gymnastics</td><td>768</td></tr><tr><td>Motorcycle racing</td><td>693</td></tr><tr><td>Rugby</td><td>620</td></tr><tr><td>Olympics</td><td>599</td></tr><tr><td>Track/field</td><td>591</td></tr><tr><td>Parade</td><td>571</td></tr><tr><td>Watersports</td><td>544</td></tr><tr><td>Archery</td><td>412</td></tr><tr><td>Surfing</td><td>400</td></tr><tr><td>Yacht racing</td><td>379</td></tr><tr><td>Kayaking</td><td>355</td></tr><tr><td>Performing arts</td><td>333</td></tr><tr><td>Weightlifting</td><td>279</td></tr><tr><td>Holiday</td><td>258</td></tr><tr><td>Theater</td><td>236</td></tr><tr><td>Running</td><td>218</td></tr><tr><td>Skateboarding</td><td>191</td></tr><tr><td>Lacrosse</td><td>190</td></tr><tr><td>Drag racing</td><td>185</td></tr><tr><td>Arm wrestling</td><td>173</td></tr><tr><td>Swimming</td><td>147</td></tr><tr><td>Bowling</td><td>139</td></tr><tr><td>Holiday special</td><td>104</td></tr><tr><td>Rowing</td><td>95</td></tr><tr><td>Intl soccer</td><td>76</td></tr><tr><td>Triathlon</td><td>67</td></tr><tr><td>Snowmobile</td><td>65</td></tr><tr><td>Equestrian</td><td>61</td></tr><tr><td>Bicycle</td><td>56</td></tr><tr><td>Soap talk</td><td>54</td></tr><tr><td>Water polo</td><td>49</td></tr><tr><td>Pool</td><td>46</td></tr><tr><td>Sumo wrestling</td><td>45</td></tr><tr><td>Curling</td><td>39</td></tr><tr><td>Mountain biking</td><td>27</td></tr><tr><td>Hydroplane racing</td><td>20</td></tr><tr><td>Billiards</td><td>20</td></tr><tr><td>Speed skating</td><td>16</td></tr><tr><td>Field hockey</td><td>16</td></tr><tr><td>Sailing</td><td>12</td></tr><tr><td>Boat racing</td><td>10</td></tr><tr><td>Cricket</td><td>4</td></tr><tr><td>Skeleton</td><td>2</td></tr><tr><td>Racquet</td><td>2</td></tr><tr><td>Squash</td><td>2</td></tr><tr><td>Luge</td><td>1</td></tr><tr><td>Darts</td><td>1</td></tr><tr><td>Bobsled</td><td>1</td></tr></tbody></table></div>"
      ]
     },
     "metadata": {
      "application/vnd.databricks.v1+output": {
       "addedWidgets": {},
       "aggData": [],
       "aggError": "",
       "aggOverflow": false,
       "aggSchema": [],
       "aggSeriesLimitReached": false,
       "aggType": "",
       "arguments": {},
       "columnCustomDisplayInfos": {},
       "data": [
        [
         "Shopping",
         242530329
        ],
        [
         "News",
         103858008
        ],
        [
         "Consumer",
         64741442
        ],
        [
         "Sports non-event",
         52226020
        ],
        [
         "Sports talk",
         51220421
        ],
        [
         "Music",
         24606550
        ],
        [
         "Special",
         6603163
        ],
        [
         "Talk",
         6513109
        ],
        [
         "Religious",
         5346312
        ],
        [
         "Sitcom",
         3085499
        ],
        [
         "Politics",
         2797376
        ],
        [
         "Comedy",
         2710313
        ],
        [
         "Children",
         2280156
        ],
        [
         "Action",
         2148288
        ],
        [
         "Animated",
         2081811
        ],
        [
         "Reality",
         2058332
        ],
        [
         "Football",
         1964212
        ],
        [
         "Adventure",
         1909144
        ],
        [
         "Drama",
         1624961
        ],
        [
         "Entertainment",
         1349384
        ],
        [
         "Educational",
         1345352
        ],
        [
         "Health",
         1079812
        ],
        [
         "Suspense",
         1070462
        ],
        [
         "Baseball",
         1036486
        ],
        [
         "Fantasy",
         1007025
        ],
        [
         "Community",
         881044
        ],
        [
         "Crime drama",
         878521
        ],
        [
         "Documentary",
         857572
        ],
        [
         "Public affairs",
         854581
        ],
        [
         "Science fiction",
         823159
        ],
        [
         "Bus./financial",
         817602
        ],
        [
         "Interview",
         699419
        ],
        [
         "Crime",
         664647
        ],
        [
         "Weather",
         664475
        ],
        [
         "Variety",
         591611
        ],
        [
         "Newsmagazine",
         528698
        ],
        [
         "Anthology",
         500152
        ],
        [
         "Law",
         471477
        ],
        [
         "House/garden",
         471222
        ],
        [
         "Art",
         448233
        ],
        [
         "Travel",
         445005
        ],
        [
         "Horror",
         436154
        ],
        [
         "Romance-comedy",
         431640
        ],
        [
         "Romance",
         404916
        ],
        [
         "Comedy-drama",
         404240
        ],
        [
         "Game show",
         402325
        ],
        [
         "Mystery",
         383829
        ],
        [
         "Western",
         353193
        ],
        [
         "Golf",
         289070
        ],
        [
         "Pro wrestling",
         268791
        ],
        [
         "Home improvement",
         254836
        ],
        [
         "Cooking",
         244704
        ],
        [
         "Medical",
         221644
        ],
        [
         "Science",
         218093
        ],
        [
         "Animals",
         206324
        ],
        [
         "Musical",
         196491
        ],
        [
         "War",
         194398
        ],
        [
         "Outdoors",
         189758
        ],
        [
         "Historical drama",
         186243
        ],
        [
         "How-to",
         182716
        ],
        [
         "Sports event",
         173258
        ],
        [
         "Nature",
         164879
        ],
        [
         "Docudrama",
         162871
        ],
        [
         "Biography",
         144529
        ],
        [
         "Soap",
         111407
        ],
        [
         "Basketball",
         101304
        ],
        [
         "History",
         95707
        ],
        [
         "Auto",
         90183
        ],
        [
         "Self improvement",
         86835
        ],
        [
         "Paranormal",
         74519
        ],
        [
         "Soccer",
         71559
        ],
        [
         "Musical comedy",
         64015
        ],
        [
         "Collectibles",
         58426
        ],
        [
         "Mixed martial arts",
         57566
        ],
        [
         "Fashion",
         56945
        ],
        [
         "Auto racing",
         56725
        ],
        [
         "Poker",
         53254
        ],
        [
         "Card games",
         53064
        ],
        [
         "Martial arts",
         47843
        ],
        [
         "Boat",
         33779
        ],
        [
         "Action sports",
         30615
        ],
        [
         "Adults only",
         30295
        ],
        [
         "Standup",
         25464
        ],
        [
         "Auction",
         25195
        ],
        [
         "Hunting",
         24818
        ],
        [
         "Fishing",
         21833
        ],
        [
         "Military",
         16746
        ],
        [
         "Technology",
         16694
        ],
        [
         "Playoff sports",
         15364
        ],
        [
         "Boxing",
         14902
        ],
        [
         "Dance",
         14073
        ],
        [
         "Tennis",
         10887
        ],
        [
         "Awards",
         8987
        ],
        [
         "Hockey",
         7752
        ],
        [
         "Exercise",
         7237
        ],
        [
         "Aviation",
         6388
        ],
        [
         "Parenting",
         6331
        ],
        [
         "Environment",
         5325
        ],
        [
         "Wrestling",
         4931
        ],
        [
         "Skiing",
         4198
        ],
        [
         "Horse",
         3973
        ],
        [
         "Computers",
         3823
        ],
        [
         "Aerobics",
         3465
        ],
        [
         "Gaming",
         3274
        ],
        [
         "Arts/crafts",
         2824
        ],
        [
         "Anime",
         2697
        ],
        [
         "Agriculture",
         2670
        ],
        [
         "Beach volleyball",
         2445
        ],
        [
         "Beach soccer",
         2431
        ],
        [
         "Dog show",
         1991
        ],
        [
         "Shooting",
         1920
        ],
        [
         "Miniseries",
         1905
        ],
        [
         "Softball",
         1777
        ],
        [
         "Debate",
         1648
        ],
        [
         "Event",
         1547
        ],
        [
         "Snowboarding",
         1546
        ],
        [
         "Volleyball",
         1461
        ],
        [
         "Gay/lesbian",
         1442
        ],
        [
         "Motorcycle",
         1398
        ],
        [
         "Spanish",
         1338
        ],
        [
         "Bicycle racing",
         1185
        ],
        [
         "Diving",
         980
        ],
        [
         "Motorsports",
         978
        ],
        [
         "Fundraiser",
         973
        ],
        [
         "Figure skating",
         825
        ],
        [
         "Rodeo",
         812
        ],
        [
         "Cheerleading",
         790
        ],
        [
         "Music special",
         787
        ],
        [
         "Gymnastics",
         768
        ],
        [
         "Motorcycle racing",
         693
        ],
        [
         "Rugby",
         620
        ],
        [
         "Olympics",
         599
        ],
        [
         "Track/field",
         591
        ],
        [
         "Parade",
         571
        ],
        [
         "Watersports",
         544
        ],
        [
         "Archery",
         412
        ],
        [
         "Surfing",
         400
        ],
        [
         "Yacht racing",
         379
        ],
        [
         "Kayaking",
         355
        ],
        [
         "Performing arts",
         333
        ],
        [
         "Weightlifting",
         279
        ],
        [
         "Holiday",
         258
        ],
        [
         "Theater",
         236
        ],
        [
         "Running",
         218
        ],
        [
         "Skateboarding",
         191
        ],
        [
         "Lacrosse",
         190
        ],
        [
         "Drag racing",
         185
        ],
        [
         "Arm wrestling",
         173
        ],
        [
         "Swimming",
         147
        ],
        [
         "Bowling",
         139
        ],
        [
         "Holiday special",
         104
        ],
        [
         "Rowing",
         95
        ],
        [
         "Intl soccer",
         76
        ],
        [
         "Triathlon",
         67
        ],
        [
         "Snowmobile",
         65
        ],
        [
         "Equestrian",
         61
        ],
        [
         "Bicycle",
         56
        ],
        [
         "Soap talk",
         54
        ],
        [
         "Water polo",
         49
        ],
        [
         "Pool",
         46
        ],
        [
         "Sumo wrestling",
         45
        ],
        [
         "Curling",
         39
        ],
        [
         "Mountain biking",
         27
        ],
        [
         "Hydroplane racing",
         20
        ],
        [
         "Billiards",
         20
        ],
        [
         "Speed skating",
         16
        ],
        [
         "Field hockey",
         16
        ],
        [
         "Sailing",
         12
        ],
        [
         "Boat racing",
         10
        ],
        [
         "Cricket",
         4
        ],
        [
         "Skeleton",
         2
        ],
        [
         "Racquet",
         2
        ],
        [
         "Squash",
         2
        ],
        [
         "Luge",
         1
        ],
        [
         "Darts",
         1
        ],
        [
         "Bobsled",
         1
        ]
       ],
       "datasetInfos": [],
       "dbfsResultPath": null,
       "isJsonSchema": true,
       "metadata": {},
       "overflow": false,
       "plotOptions": {
        "customPlotOptions": {},
        "displayType": "table",
        "pivotAggregation": null,
        "pivotColumns": null,
        "xColumns": null,
        "yColumns": null
       },
       "removedWidgets": [],
       "schema": [
        {
         "metadata": "{}",
         "name": "genre",
         "type": "\"string\""
        },
        {
         "metadata": "{}",
         "name": "popularity",
         "type": "\"long\""
        }
       ],
       "type": "table"
      }
     },
     "output_type": "display_data"
    },
    {
     "output_type": "stream",
     "name": "stdout",
     "output_type": "stream",
     "text": [
      "\n\nData for: project1_part21_Toledo_324075548_326172756\n"
     ]
    },
    {
     "output_type": "display_data",
     "data": {
      "text/html": [
       "<style scoped>\n",
       "  .table-result-container {\n",
       "    max-height: 300px;\n",
       "    overflow: auto;\n",
       "  }\n",
       "  table, th, td {\n",
       "    border: 1px solid black;\n",
       "    border-collapse: collapse;\n",
       "  }\n",
       "  th, td {\n",
       "    padding: 5px;\n",
       "  }\n",
       "  th {\n",
       "    text-align: left;\n",
       "  }\n",
       "</style><div class='table-result-container'><table class='table-result'><thead style='background-color: white'><tr><th>genre</th><th>popularity</th></tr></thead><tbody><tr><td>Shopping</td><td>87077505</td></tr><tr><td>News</td><td>53445738</td></tr><tr><td>Sports non-event</td><td>32979662</td></tr><tr><td>Sports talk</td><td>31346200</td></tr><tr><td>Consumer</td><td>20058315</td></tr><tr><td>Music</td><td>5736974</td></tr><tr><td>Special</td><td>4019246</td></tr><tr><td>Weather</td><td>2222742</td></tr><tr><td>Talk</td><td>1987413</td></tr><tr><td>Religious</td><td>1689615</td></tr><tr><td>Sitcom</td><td>1345861</td></tr><tr><td>Comedy</td><td>1048951</td></tr><tr><td>Children</td><td>1007167</td></tr><tr><td>Reality</td><td>929863</td></tr><tr><td>Animated</td><td>905657</td></tr><tr><td>Football</td><td>798886</td></tr><tr><td>Politics</td><td>795927</td></tr><tr><td>Entertainment</td><td>701600</td></tr><tr><td>Baseball</td><td>699346</td></tr><tr><td>Action</td><td>657858</td></tr><tr><td>Adventure</td><td>644053</td></tr><tr><td>Educational</td><td>484108</td></tr><tr><td>Interview</td><td>453141</td></tr><tr><td>Drama</td><td>426155</td></tr><tr><td>Bus./financial</td><td>390696</td></tr><tr><td>Fantasy</td><td>378520</td></tr><tr><td>Public affairs</td><td>350638</td></tr><tr><td>Documentary</td><td>344816</td></tr><tr><td>Suspense</td><td>338497</td></tr><tr><td>Crime drama</td><td>334779</td></tr><tr><td>Musical</td><td>334405</td></tr><tr><td>Newsmagazine</td><td>326939</td></tr><tr><td>Variety</td><td>310939</td></tr><tr><td>Science fiction</td><td>275898</td></tr><tr><td>Crime</td><td>257964</td></tr><tr><td>Anthology</td><td>252165</td></tr><tr><td>Game show</td><td>247698</td></tr><tr><td>Law</td><td>220916</td></tr><tr><td>House/garden</td><td>219365</td></tr><tr><td>Golf</td><td>185017</td></tr><tr><td>Health</td><td>147940</td></tr><tr><td>Mystery</td><td>141049</td></tr><tr><td>Horror</td><td>139859</td></tr><tr><td>Sports event</td><td>132677</td></tr><tr><td>Romance-comedy</td><td>130310</td></tr><tr><td>Home improvement</td><td>126013</td></tr><tr><td>Cooking</td><td>109101</td></tr><tr><td>Science</td><td>105630</td></tr><tr><td>Basketball</td><td>104641</td></tr><tr><td>Romance</td><td>96613</td></tr><tr><td>Pro wrestling</td><td>85205</td></tr><tr><td>Comedy-drama</td><td>83753</td></tr><tr><td>Outdoors</td><td>75871</td></tr><tr><td>Agriculture</td><td>73956</td></tr><tr><td>Mixed martial arts</td><td>68591</td></tr><tr><td>Travel</td><td>67944</td></tr><tr><td>How-to</td><td>66758</td></tr><tr><td>Western</td><td>62881</td></tr><tr><td>Nature</td><td>62358</td></tr><tr><td>Animals</td><td>57784</td></tr><tr><td>Community</td><td>55763</td></tr><tr><td>Medical</td><td>53659</td></tr><tr><td>Hockey</td><td>52536</td></tr><tr><td>Soap</td><td>50862</td></tr><tr><td>History</td><td>49419</td></tr><tr><td>Action sports</td><td>46035</td></tr><tr><td>War</td><td>45553</td></tr><tr><td>Auto racing</td><td>45130</td></tr><tr><td>Docudrama</td><td>43163</td></tr><tr><td>Biography</td><td>40293</td></tr><tr><td>Auto</td><td>34034</td></tr><tr><td>Paranormal</td><td>31815</td></tr><tr><td>Poker</td><td>31708</td></tr><tr><td>Card games</td><td>31598</td></tr><tr><td>Historical drama</td><td>31430</td></tr><tr><td>Soccer</td><td>25894</td></tr><tr><td>Collectibles</td><td>25734</td></tr><tr><td>Fashion</td><td>23600</td></tr><tr><td>Exercise</td><td>20218</td></tr><tr><td>Martial arts</td><td>16463</td></tr><tr><td>Art</td><td>15433</td></tr><tr><td>Playoff sports</td><td>14451</td></tr><tr><td>Adults only</td><td>13438</td></tr><tr><td>Fishing</td><td>12662</td></tr><tr><td>Auction</td><td>12306</td></tr><tr><td>Musical comedy</td><td>11037</td></tr><tr><td>Self improvement</td><td>10552</td></tr><tr><td>Standup</td><td>9613</td></tr><tr><td>Hunting</td><td>8569</td></tr><tr><td>Tennis</td><td>6534</td></tr><tr><td>Awards</td><td>6497</td></tr><tr><td>Technology</td><td>6373</td></tr><tr><td>Horse</td><td>6324</td></tr><tr><td>Boxing</td><td>5917</td></tr><tr><td>Military</td><td>5755</td></tr><tr><td>Dance</td><td>5526</td></tr><tr><td>Running</td><td>4620</td></tr><tr><td>Aviation</td><td>4099</td></tr><tr><td>Parenting</td><td>3158</td></tr><tr><td>Environment</td><td>3032</td></tr><tr><td>Bowling</td><td>2320</td></tr><tr><td>Wrestling</td><td>2208</td></tr><tr><td>Spanish</td><td>2161</td></tr><tr><td>Softball</td><td>1881</td></tr><tr><td>Anime</td><td>1439</td></tr><tr><td>Gaming</td><td>1436</td></tr><tr><td>Computers</td><td>1419</td></tr><tr><td>Rodeo</td><td>1041</td></tr><tr><td>Debate</td><td>1002</td></tr><tr><td>Miniseries</td><td>990</td></tr><tr><td>Music special</td><td>868</td></tr><tr><td>Motorsports</td><td>832</td></tr><tr><td>Event</td><td>831</td></tr><tr><td>Volleyball</td><td>803</td></tr><tr><td>Snowboarding</td><td>731</td></tr><tr><td>Shooting</td><td>715</td></tr><tr><td>Skiing</td><td>686</td></tr><tr><td>Bicycle racing</td><td>686</td></tr><tr><td>Gay/lesbian</td><td>510</td></tr><tr><td>Lacrosse</td><td>500</td></tr><tr><td>Diving</td><td>494</td></tr><tr><td>Gymnastics</td><td>478</td></tr><tr><td>Performing arts</td><td>469</td></tr><tr><td>Surfing</td><td>464</td></tr><tr><td>Holiday</td><td>421</td></tr><tr><td>Fundraiser</td><td>407</td></tr><tr><td>Track/field</td><td>375</td></tr><tr><td>Motorcycle</td><td>344</td></tr><tr><td>Kayaking</td><td>326</td></tr><tr><td>Olympics</td><td>322</td></tr><tr><td>Arts/crafts</td><td>300</td></tr><tr><td>Figure skating</td><td>295</td></tr><tr><td>Parade</td><td>284</td></tr><tr><td>Boat</td><td>275</td></tr><tr><td>Dog show</td><td>217</td></tr><tr><td>Pool</td><td>134</td></tr><tr><td>Yacht racing</td><td>127</td></tr><tr><td>Motorcycle racing</td><td>115</td></tr><tr><td>Cheerleading</td><td>114</td></tr><tr><td>Rugby</td><td>101</td></tr><tr><td>Swimming</td><td>100</td></tr><tr><td>Arm wrestling</td><td>88</td></tr><tr><td>Drag racing</td><td>71</td></tr><tr><td>Archery</td><td>58</td></tr><tr><td>Field hockey</td><td>42</td></tr><tr><td>Watersports</td><td>40</td></tr><tr><td>Intl soccer</td><td>37</td></tr><tr><td>Boat racing</td><td>34</td></tr><tr><td>Skating</td><td>23</td></tr><tr><td>Equestrian</td><td>21</td></tr><tr><td>Curling</td><td>18</td></tr><tr><td>Triathlon</td><td>16</td></tr><tr><td>Skateboarding</td><td>16</td></tr><tr><td>Racquet</td><td>16</td></tr><tr><td>Squash</td><td>16</td></tr><tr><td>Cricket</td><td>16</td></tr><tr><td>Billiards</td><td>12</td></tr><tr><td>Water polo</td><td>9</td></tr><tr><td>Snowmobile</td><td>8</td></tr><tr><td>Holiday special</td><td>7</td></tr><tr><td>Weightlifting</td><td>6</td></tr><tr><td>Beach volleyball</td><td>3</td></tr><tr><td>Luge</td><td>3</td></tr><tr><td>Bobsled</td><td>2</td></tr><tr><td>Skeleton</td><td>2</td></tr><tr><td>Beach soccer</td><td>1</td></tr><tr><td>Speed skating</td><td>1</td></tr></tbody></table></div>"
      ]
     },
     "metadata": {
      "application/vnd.databricks.v1+output": {
       "addedWidgets": {},
       "aggData": [],
       "aggError": "",
       "aggOverflow": false,
       "aggSchema": [],
       "aggSeriesLimitReached": false,
       "aggType": "",
       "arguments": {},
       "columnCustomDisplayInfos": {},
       "data": [
        [
         "Shopping",
         87077505
        ],
        [
         "News",
         53445738
        ],
        [
         "Sports non-event",
         32979662
        ],
        [
         "Sports talk",
         31346200
        ],
        [
         "Consumer",
         20058315
        ],
        [
         "Music",
         5736974
        ],
        [
         "Special",
         4019246
        ],
        [
         "Weather",
         2222742
        ],
        [
         "Talk",
         1987413
        ],
        [
         "Religious",
         1689615
        ],
        [
         "Sitcom",
         1345861
        ],
        [
         "Comedy",
         1048951
        ],
        [
         "Children",
         1007167
        ],
        [
         "Reality",
         929863
        ],
        [
         "Animated",
         905657
        ],
        [
         "Football",
         798886
        ],
        [
         "Politics",
         795927
        ],
        [
         "Entertainment",
         701600
        ],
        [
         "Baseball",
         699346
        ],
        [
         "Action",
         657858
        ],
        [
         "Adventure",
         644053
        ],
        [
         "Educational",
         484108
        ],
        [
         "Interview",
         453141
        ],
        [
         "Drama",
         426155
        ],
        [
         "Bus./financial",
         390696
        ],
        [
         "Fantasy",
         378520
        ],
        [
         "Public affairs",
         350638
        ],
        [
         "Documentary",
         344816
        ],
        [
         "Suspense",
         338497
        ],
        [
         "Crime drama",
         334779
        ],
        [
         "Musical",
         334405
        ],
        [
         "Newsmagazine",
         326939
        ],
        [
         "Variety",
         310939
        ],
        [
         "Science fiction",
         275898
        ],
        [
         "Crime",
         257964
        ],
        [
         "Anthology",
         252165
        ],
        [
         "Game show",
         247698
        ],
        [
         "Law",
         220916
        ],
        [
         "House/garden",
         219365
        ],
        [
         "Golf",
         185017
        ],
        [
         "Health",
         147940
        ],
        [
         "Mystery",
         141049
        ],
        [
         "Horror",
         139859
        ],
        [
         "Sports event",
         132677
        ],
        [
         "Romance-comedy",
         130310
        ],
        [
         "Home improvement",
         126013
        ],
        [
         "Cooking",
         109101
        ],
        [
         "Science",
         105630
        ],
        [
         "Basketball",
         104641
        ],
        [
         "Romance",
         96613
        ],
        [
         "Pro wrestling",
         85205
        ],
        [
         "Comedy-drama",
         83753
        ],
        [
         "Outdoors",
         75871
        ],
        [
         "Agriculture",
         73956
        ],
        [
         "Mixed martial arts",
         68591
        ],
        [
         "Travel",
         67944
        ],
        [
         "How-to",
         66758
        ],
        [
         "Western",
         62881
        ],
        [
         "Nature",
         62358
        ],
        [
         "Animals",
         57784
        ],
        [
         "Community",
         55763
        ],
        [
         "Medical",
         53659
        ],
        [
         "Hockey",
         52536
        ],
        [
         "Soap",
         50862
        ],
        [
         "History",
         49419
        ],
        [
         "Action sports",
         46035
        ],
        [
         "War",
         45553
        ],
        [
         "Auto racing",
         45130
        ],
        [
         "Docudrama",
         43163
        ],
        [
         "Biography",
         40293
        ],
        [
         "Auto",
         34034
        ],
        [
         "Paranormal",
         31815
        ],
        [
         "Poker",
         31708
        ],
        [
         "Card games",
         31598
        ],
        [
         "Historical drama",
         31430
        ],
        [
         "Soccer",
         25894
        ],
        [
         "Collectibles",
         25734
        ],
        [
         "Fashion",
         23600
        ],
        [
         "Exercise",
         20218
        ],
        [
         "Martial arts",
         16463
        ],
        [
         "Art",
         15433
        ],
        [
         "Playoff sports",
         14451
        ],
        [
         "Adults only",
         13438
        ],
        [
         "Fishing",
         12662
        ],
        [
         "Auction",
         12306
        ],
        [
         "Musical comedy",
         11037
        ],
        [
         "Self improvement",
         10552
        ],
        [
         "Standup",
         9613
        ],
        [
         "Hunting",
         8569
        ],
        [
         "Tennis",
         6534
        ],
        [
         "Awards",
         6497
        ],
        [
         "Technology",
         6373
        ],
        [
         "Horse",
         6324
        ],
        [
         "Boxing",
         5917
        ],
        [
         "Military",
         5755
        ],
        [
         "Dance",
         5526
        ],
        [
         "Running",
         4620
        ],
        [
         "Aviation",
         4099
        ],
        [
         "Parenting",
         3158
        ],
        [
         "Environment",
         3032
        ],
        [
         "Bowling",
         2320
        ],
        [
         "Wrestling",
         2208
        ],
        [
         "Spanish",
         2161
        ],
        [
         "Softball",
         1881
        ],
        [
         "Anime",
         1439
        ],
        [
         "Gaming",
         1436
        ],
        [
         "Computers",
         1419
        ],
        [
         "Rodeo",
         1041
        ],
        [
         "Debate",
         1002
        ],
        [
         "Miniseries",
         990
        ],
        [
         "Music special",
         868
        ],
        [
         "Motorsports",
         832
        ],
        [
         "Event",
         831
        ],
        [
         "Volleyball",
         803
        ],
        [
         "Snowboarding",
         731
        ],
        [
         "Shooting",
         715
        ],
        [
         "Skiing",
         686
        ],
        [
         "Bicycle racing",
         686
        ],
        [
         "Gay/lesbian",
         510
        ],
        [
         "Lacrosse",
         500
        ],
        [
         "Diving",
         494
        ],
        [
         "Gymnastics",
         478
        ],
        [
         "Performing arts",
         469
        ],
        [
         "Surfing",
         464
        ],
        [
         "Holiday",
         421
        ],
        [
         "Fundraiser",
         407
        ],
        [
         "Track/field",
         375
        ],
        [
         "Motorcycle",
         344
        ],
        [
         "Kayaking",
         326
        ],
        [
         "Olympics",
         322
        ],
        [
         "Arts/crafts",
         300
        ],
        [
         "Figure skating",
         295
        ],
        [
         "Parade",
         284
        ],
        [
         "Boat",
         275
        ],
        [
         "Dog show",
         217
        ],
        [
         "Pool",
         134
        ],
        [
         "Yacht racing",
         127
        ],
        [
         "Motorcycle racing",
         115
        ],
        [
         "Cheerleading",
         114
        ],
        [
         "Rugby",
         101
        ],
        [
         "Swimming",
         100
        ],
        [
         "Arm wrestling",
         88
        ],
        [
         "Drag racing",
         71
        ],
        [
         "Archery",
         58
        ],
        [
         "Field hockey",
         42
        ],
        [
         "Watersports",
         40
        ],
        [
         "Intl soccer",
         37
        ],
        [
         "Boat racing",
         34
        ],
        [
         "Skating",
         23
        ],
        [
         "Equestrian",
         21
        ],
        [
         "Curling",
         18
        ],
        [
         "Triathlon",
         16
        ],
        [
         "Skateboarding",
         16
        ],
        [
         "Racquet",
         16
        ],
        [
         "Squash",
         16
        ],
        [
         "Cricket",
         16
        ],
        [
         "Billiards",
         12
        ],
        [
         "Water polo",
         9
        ],
        [
         "Snowmobile",
         8
        ],
        [
         "Holiday special",
         7
        ],
        [
         "Weightlifting",
         6
        ],
        [
         "Beach volleyball",
         3
        ],
        [
         "Luge",
         3
        ],
        [
         "Bobsled",
         2
        ],
        [
         "Skeleton",
         2
        ],
        [
         "Beach soccer",
         1
        ],
        [
         "Speed skating",
         1
        ]
       ],
       "datasetInfos": [],
       "dbfsResultPath": null,
       "isJsonSchema": true,
       "metadata": {},
       "overflow": false,
       "plotOptions": {
        "customPlotOptions": {},
        "displayType": "table",
        "pivotAggregation": null,
        "pivotColumns": null,
        "xColumns": null,
        "yColumns": null
       },
       "removedWidgets": [],
       "schema": [
        {
         "metadata": "{}",
         "name": "genre",
         "type": "\"string\""
        },
        {
         "metadata": "{}",
         "name": "popularity",
         "type": "\"long\""
        }
       ],
       "type": "table"
      }
     },
     "output_type": "display_data"
    },
    {
     "output_type": "stream",
     "name": "stdout",
     "output_type": "stream",
     "text": [
      "\n\nData for: project1_part21_Little_RockPine_Bluff_324075548_326172756\n"
     ]
    },
    {
     "output_type": "display_data",
     "data": {
      "text/html": [
       "<style scoped>\n",
       "  .table-result-container {\n",
       "    max-height: 300px;\n",
       "    overflow: auto;\n",
       "  }\n",
       "  table, th, td {\n",
       "    border: 1px solid black;\n",
       "    border-collapse: collapse;\n",
       "  }\n",
       "  th, td {\n",
       "    padding: 5px;\n",
       "  }\n",
       "  th {\n",
       "    text-align: left;\n",
       "  }\n",
       "</style><div class='table-result-container'><table class='table-result'><thead style='background-color: white'><tr><th>genre</th><th>popularity</th></tr></thead><tbody><tr><td>Shopping</td><td>329229821</td></tr><tr><td>News</td><td>72654700</td></tr><tr><td>Sports non-event</td><td>46145770</td></tr><tr><td>Sports talk</td><td>44502530</td></tr><tr><td>Consumer</td><td>38487341</td></tr><tr><td>Music</td><td>12236128</td></tr><tr><td>Special</td><td>9423872</td></tr><tr><td>Religious</td><td>4977461</td></tr><tr><td>Talk</td><td>4524141</td></tr><tr><td>Sitcom</td><td>3377080</td></tr><tr><td>Children</td><td>2890470</td></tr><tr><td>Animated</td><td>2559173</td></tr><tr><td>Politics</td><td>2415157</td></tr><tr><td>Comedy</td><td>2323753</td></tr><tr><td>Weather</td><td>2221604</td></tr><tr><td>Interview</td><td>1974515</td></tr><tr><td>Educational</td><td>1788607</td></tr><tr><td>Reality</td><td>1426968</td></tr><tr><td>Adventure</td><td>1343482</td></tr><tr><td>Action</td><td>1321626</td></tr><tr><td>Newsmagazine</td><td>1225170</td></tr><tr><td>Football</td><td>992939</td></tr><tr><td>Drama</td><td>988991</td></tr><tr><td>Entertainment</td><td>877115</td></tr><tr><td>Game show</td><td>874684</td></tr><tr><td>Fantasy</td><td>770557</td></tr><tr><td>Anthology</td><td>728010</td></tr><tr><td>Public affairs</td><td>716135</td></tr><tr><td>Suspense</td><td>687749</td></tr><tr><td>Documentary</td><td>586685</td></tr><tr><td>Crime drama</td><td>581368</td></tr><tr><td>Science fiction</td><td>555572</td></tr><tr><td>Bus./financial</td><td>478423</td></tr><tr><td>Pro wrestling</td><td>460037</td></tr><tr><td>Crime</td><td>371280</td></tr><tr><td>Health</td><td>326901</td></tr><tr><td>Baseball</td><td>306868</td></tr><tr><td>Horror</td><td>300938</td></tr><tr><td>House/garden</td><td>297479</td></tr><tr><td>Soap</td><td>287534</td></tr><tr><td>Travel</td><td>282484</td></tr><tr><td>Western</td><td>277248</td></tr><tr><td>Community</td><td>271810</td></tr><tr><td>Law</td><td>267872</td></tr><tr><td>Mystery</td><td>266328</td></tr><tr><td>Romance-comedy</td><td>250749</td></tr><tr><td>Comedy-drama</td><td>250549</td></tr><tr><td>Variety</td><td>218220</td></tr><tr><td>Romance</td><td>201930</td></tr><tr><td>Golf</td><td>200871</td></tr><tr><td>Cooking</td><td>192648</td></tr><tr><td>Home improvement</td><td>185662</td></tr><tr><td>Outdoors</td><td>171285</td></tr><tr><td>Medical</td><td>155734</td></tr><tr><td>War</td><td>146859</td></tr><tr><td>Musical</td><td>141236</td></tr><tr><td>Sports event</td><td>115576</td></tr><tr><td>Animals</td><td>111715</td></tr><tr><td>Agriculture</td><td>111539</td></tr><tr><td>Historical drama</td><td>108996</td></tr><tr><td>History</td><td>108766</td></tr><tr><td>Science</td><td>103571</td></tr><tr><td>Nature</td><td>100405</td></tr><tr><td>Auto racing</td><td>94600</td></tr><tr><td>Biography</td><td>89355</td></tr><tr><td>How-to</td><td>79423</td></tr><tr><td>Basketball</td><td>79307</td></tr><tr><td>Docudrama</td><td>74841</td></tr><tr><td>Auto</td><td>58627</td></tr><tr><td>Mixed martial arts</td><td>55142</td></tr><tr><td>Paranormal</td><td>52346</td></tr><tr><td>Soccer</td><td>49357</td></tr><tr><td>Fashion</td><td>40734</td></tr><tr><td>Hunting</td><td>40560</td></tr><tr><td>Collectibles</td><td>35988</td></tr><tr><td>Auction</td><td>29342</td></tr><tr><td>Action sports</td><td>26005</td></tr><tr><td>Martial arts</td><td>25177</td></tr><tr><td>Musical comedy</td><td>23636</td></tr><tr><td>Fishing</td><td>22282</td></tr><tr><td>Poker</td><td>21172</td></tr><tr><td>Card games</td><td>20996</td></tr><tr><td>Self improvement</td><td>17331</td></tr><tr><td>Playoff sports</td><td>15651</td></tr><tr><td>Adults only</td><td>15198</td></tr><tr><td>Standup</td><td>12640</td></tr><tr><td>Art</td><td>11570</td></tr><tr><td>Dance</td><td>10243</td></tr><tr><td>Aviation</td><td>9200</td></tr><tr><td>Hockey</td><td>9166</td></tr><tr><td>Military</td><td>8828</td></tr><tr><td>Exercise</td><td>8606</td></tr><tr><td>Technology</td><td>7186</td></tr><tr><td>Spanish</td><td>7092</td></tr><tr><td>Tennis</td><td>6886</td></tr><tr><td>Parenting</td><td>6525</td></tr><tr><td>Horse</td><td>5174</td></tr><tr><td>Rodeo</td><td>4382</td></tr><tr><td>Awards</td><td>4112</td></tr><tr><td>Boxing</td><td>3550</td></tr><tr><td>Environment</td><td>3184</td></tr><tr><td>Gaming</td><td>3165</td></tr><tr><td>Weightlifting</td><td>2457</td></tr><tr><td>Computers</td><td>2006</td></tr><tr><td>Shooting</td><td>1884</td></tr><tr><td>Anime</td><td>1692</td></tr><tr><td>Event</td><td>1556</td></tr><tr><td>Softball</td><td>1415</td></tr><tr><td>Skiing</td><td>1335</td></tr><tr><td>Fundraiser</td><td>1257</td></tr><tr><td>Motorsports</td><td>1161</td></tr><tr><td>Wrestling</td><td>1101</td></tr><tr><td>Arts/crafts</td><td>1027</td></tr><tr><td>Debate</td><td>941</td></tr><tr><td>Miniseries</td><td>926</td></tr><tr><td>Diving</td><td>761</td></tr><tr><td>Boat</td><td>673</td></tr><tr><td>Gay/lesbian</td><td>649</td></tr><tr><td>Track/field</td><td>648</td></tr><tr><td>Motorcycle</td><td>599</td></tr><tr><td>Motorcycle racing</td><td>527</td></tr><tr><td>Archery</td><td>510</td></tr><tr><td>Surfing</td><td>485</td></tr><tr><td>Holiday</td><td>484</td></tr><tr><td>Children-special</td><td>468</td></tr><tr><td>Triathlon</td><td>439</td></tr><tr><td>Gymnastics</td><td>425</td></tr><tr><td>Olympics</td><td>422</td></tr><tr><td>Equestrian</td><td>368</td></tr><tr><td>Parade</td><td>365</td></tr><tr><td>Kayaking</td><td>335</td></tr><tr><td>Figure skating</td><td>333</td></tr><tr><td>Bicycle racing</td><td>305</td></tr><tr><td>Snowboarding</td><td>299</td></tr><tr><td>Performing arts</td><td>284</td></tr><tr><td>Pool</td><td>272</td></tr><tr><td>Volleyball</td><td>254</td></tr><tr><td>Arm wrestling</td><td>233</td></tr><tr><td>Dog show</td><td>210</td></tr><tr><td>Running</td><td>172</td></tr><tr><td>Cheerleading</td><td>162</td></tr><tr><td>Drag racing</td><td>123</td></tr><tr><td>Music special</td><td>110</td></tr><tr><td>Rugby</td><td>109</td></tr><tr><td>Holiday special</td><td>77</td></tr><tr><td>Bowling</td><td>62</td></tr><tr><td>Intl soccer</td><td>56</td></tr><tr><td>Lacrosse</td><td>56</td></tr><tr><td>Skateboarding</td><td>39</td></tr><tr><td>Swimming</td><td>37</td></tr><tr><td>Yacht racing</td><td>34</td></tr><tr><td>Snowmobile</td><td>34</td></tr><tr><td>Watersports</td><td>31</td></tr><tr><td>Table tennis</td><td>24</td></tr><tr><td>Sailing</td><td>23</td></tr><tr><td>Curling</td><td>23</td></tr><tr><td>Billiards</td><td>17</td></tr><tr><td>Cricket</td><td>16</td></tr><tr><td>Badminton</td><td>12</td></tr><tr><td>Field hockey</td><td>7</td></tr><tr><td>Beach volleyball</td><td>6</td></tr><tr><td>Beach soccer</td><td>2</td></tr><tr><td>Luge</td><td>2</td></tr><tr><td>Polo</td><td>1</td></tr></tbody></table></div>"
      ]
     },
     "metadata": {
      "application/vnd.databricks.v1+output": {
       "addedWidgets": {},
       "aggData": [],
       "aggError": "",
       "aggOverflow": false,
       "aggSchema": [],
       "aggSeriesLimitReached": false,
       "aggType": "",
       "arguments": {},
       "columnCustomDisplayInfos": {},
       "data": [
        [
         "Shopping",
         329229821
        ],
        [
         "News",
         72654700
        ],
        [
         "Sports non-event",
         46145770
        ],
        [
         "Sports talk",
         44502530
        ],
        [
         "Consumer",
         38487341
        ],
        [
         "Music",
         12236128
        ],
        [
         "Special",
         9423872
        ],
        [
         "Religious",
         4977461
        ],
        [
         "Talk",
         4524141
        ],
        [
         "Sitcom",
         3377080
        ],
        [
         "Children",
         2890470
        ],
        [
         "Animated",
         2559173
        ],
        [
         "Politics",
         2415157
        ],
        [
         "Comedy",
         2323753
        ],
        [
         "Weather",
         2221604
        ],
        [
         "Interview",
         1974515
        ],
        [
         "Educational",
         1788607
        ],
        [
         "Reality",
         1426968
        ],
        [
         "Adventure",
         1343482
        ],
        [
         "Action",
         1321626
        ],
        [
         "Newsmagazine",
         1225170
        ],
        [
         "Football",
         992939
        ],
        [
         "Drama",
         988991
        ],
        [
         "Entertainment",
         877115
        ],
        [
         "Game show",
         874684
        ],
        [
         "Fantasy",
         770557
        ],
        [
         "Anthology",
         728010
        ],
        [
         "Public affairs",
         716135
        ],
        [
         "Suspense",
         687749
        ],
        [
         "Documentary",
         586685
        ],
        [
         "Crime drama",
         581368
        ],
        [
         "Science fiction",
         555572
        ],
        [
         "Bus./financial",
         478423
        ],
        [
         "Pro wrestling",
         460037
        ],
        [
         "Crime",
         371280
        ],
        [
         "Health",
         326901
        ],
        [
         "Baseball",
         306868
        ],
        [
         "Horror",
         300938
        ],
        [
         "House/garden",
         297479
        ],
        [
         "Soap",
         287534
        ],
        [
         "Travel",
         282484
        ],
        [
         "Western",
         277248
        ],
        [
         "Community",
         271810
        ],
        [
         "Law",
         267872
        ],
        [
         "Mystery",
         266328
        ],
        [
         "Romance-comedy",
         250749
        ],
        [
         "Comedy-drama",
         250549
        ],
        [
         "Variety",
         218220
        ],
        [
         "Romance",
         201930
        ],
        [
         "Golf",
         200871
        ],
        [
         "Cooking",
         192648
        ],
        [
         "Home improvement",
         185662
        ],
        [
         "Outdoors",
         171285
        ],
        [
         "Medical",
         155734
        ],
        [
         "War",
         146859
        ],
        [
         "Musical",
         141236
        ],
        [
         "Sports event",
         115576
        ],
        [
         "Animals",
         111715
        ],
        [
         "Agriculture",
         111539
        ],
        [
         "Historical drama",
         108996
        ],
        [
         "History",
         108766
        ],
        [
         "Science",
         103571
        ],
        [
         "Nature",
         100405
        ],
        [
         "Auto racing",
         94600
        ],
        [
         "Biography",
         89355
        ],
        [
         "How-to",
         79423
        ],
        [
         "Basketball",
         79307
        ],
        [
         "Docudrama",
         74841
        ],
        [
         "Auto",
         58627
        ],
        [
         "Mixed martial arts",
         55142
        ],
        [
         "Paranormal",
         52346
        ],
        [
         "Soccer",
         49357
        ],
        [
         "Fashion",
         40734
        ],
        [
         "Hunting",
         40560
        ],
        [
         "Collectibles",
         35988
        ],
        [
         "Auction",
         29342
        ],
        [
         "Action sports",
         26005
        ],
        [
         "Martial arts",
         25177
        ],
        [
         "Musical comedy",
         23636
        ],
        [
         "Fishing",
         22282
        ],
        [
         "Poker",
         21172
        ],
        [
         "Card games",
         20996
        ],
        [
         "Self improvement",
         17331
        ],
        [
         "Playoff sports",
         15651
        ],
        [
         "Adults only",
         15198
        ],
        [
         "Standup",
         12640
        ],
        [
         "Art",
         11570
        ],
        [
         "Dance",
         10243
        ],
        [
         "Aviation",
         9200
        ],
        [
         "Hockey",
         9166
        ],
        [
         "Military",
         8828
        ],
        [
         "Exercise",
         8606
        ],
        [
         "Technology",
         7186
        ],
        [
         "Spanish",
         7092
        ],
        [
         "Tennis",
         6886
        ],
        [
         "Parenting",
         6525
        ],
        [
         "Horse",
         5174
        ],
        [
         "Rodeo",
         4382
        ],
        [
         "Awards",
         4112
        ],
        [
         "Boxing",
         3550
        ],
        [
         "Environment",
         3184
        ],
        [
         "Gaming",
         3165
        ],
        [
         "Weightlifting",
         2457
        ],
        [
         "Computers",
         2006
        ],
        [
         "Shooting",
         1884
        ],
        [
         "Anime",
         1692
        ],
        [
         "Event",
         1556
        ],
        [
         "Softball",
         1415
        ],
        [
         "Skiing",
         1335
        ],
        [
         "Fundraiser",
         1257
        ],
        [
         "Motorsports",
         1161
        ],
        [
         "Wrestling",
         1101
        ],
        [
         "Arts/crafts",
         1027
        ],
        [
         "Debate",
         941
        ],
        [
         "Miniseries",
         926
        ],
        [
         "Diving",
         761
        ],
        [
         "Boat",
         673
        ],
        [
         "Gay/lesbian",
         649
        ],
        [
         "Track/field",
         648
        ],
        [
         "Motorcycle",
         599
        ],
        [
         "Motorcycle racing",
         527
        ],
        [
         "Archery",
         510
        ],
        [
         "Surfing",
         485
        ],
        [
         "Holiday",
         484
        ],
        [
         "Children-special",
         468
        ],
        [
         "Triathlon",
         439
        ],
        [
         "Gymnastics",
         425
        ],
        [
         "Olympics",
         422
        ],
        [
         "Equestrian",
         368
        ],
        [
         "Parade",
         365
        ],
        [
         "Kayaking",
         335
        ],
        [
         "Figure skating",
         333
        ],
        [
         "Bicycle racing",
         305
        ],
        [
         "Snowboarding",
         299
        ],
        [
         "Performing arts",
         284
        ],
        [
         "Pool",
         272
        ],
        [
         "Volleyball",
         254
        ],
        [
         "Arm wrestling",
         233
        ],
        [
         "Dog show",
         210
        ],
        [
         "Running",
         172
        ],
        [
         "Cheerleading",
         162
        ],
        [
         "Drag racing",
         123
        ],
        [
         "Music special",
         110
        ],
        [
         "Rugby",
         109
        ],
        [
         "Holiday special",
         77
        ],
        [
         "Bowling",
         62
        ],
        [
         "Intl soccer",
         56
        ],
        [
         "Lacrosse",
         56
        ],
        [
         "Skateboarding",
         39
        ],
        [
         "Swimming",
         37
        ],
        [
         "Yacht racing",
         34
        ],
        [
         "Snowmobile",
         34
        ],
        [
         "Watersports",
         31
        ],
        [
         "Table tennis",
         24
        ],
        [
         "Sailing",
         23
        ],
        [
         "Curling",
         23
        ],
        [
         "Billiards",
         17
        ],
        [
         "Cricket",
         16
        ],
        [
         "Badminton",
         12
        ],
        [
         "Field hockey",
         7
        ],
        [
         "Beach volleyball",
         6
        ],
        [
         "Beach soccer",
         2
        ],
        [
         "Luge",
         2
        ],
        [
         "Polo",
         1
        ]
       ],
       "datasetInfos": [],
       "dbfsResultPath": null,
       "isJsonSchema": true,
       "metadata": {},
       "overflow": false,
       "plotOptions": {
        "customPlotOptions": {},
        "displayType": "table",
        "pivotAggregation": null,
        "pivotColumns": null,
        "xColumns": null,
        "yColumns": null
       },
       "removedWidgets": [],
       "schema": [
        {
         "metadata": "{}",
         "name": "genre",
         "type": "\"string\""
        },
        {
         "metadata": "{}",
         "name": "popularity",
         "type": "\"long\""
        }
       ],
       "type": "table"
      }
     },
     "output_type": "display_data"
    },
    {
     "output_type": "stream",
     "name": "stdout",
     "output_type": "stream",
     "text": [
      "\n\nData for: project1_part21_Amarillo_324075548_326172756\n"
     ]
    },
    {
     "output_type": "display_data",
     "data": {
      "text/html": [
       "<style scoped>\n",
       "  .table-result-container {\n",
       "    max-height: 300px;\n",
       "    overflow: auto;\n",
       "  }\n",
       "  table, th, td {\n",
       "    border: 1px solid black;\n",
       "    border-collapse: collapse;\n",
       "  }\n",
       "  th, td {\n",
       "    padding: 5px;\n",
       "  }\n",
       "  th {\n",
       "    text-align: left;\n",
       "  }\n",
       "</style><div class='table-result-container'><table class='table-result'><thead style='background-color: white'><tr><th>genre</th><th>popularity</th></tr></thead><tbody><tr><td>Shopping</td><td>580463283</td></tr><tr><td>News</td><td>86429073</td></tr><tr><td>Sports non-event</td><td>56444819</td></tr><tr><td>Sports talk</td><td>55209189</td></tr><tr><td>Consumer</td><td>43626934</td></tr><tr><td>Home improvement</td><td>13349425</td></tr><tr><td>Music</td><td>11279782</td></tr><tr><td>Special</td><td>7230447</td></tr><tr><td>Religious</td><td>5858670</td></tr><tr><td>Talk</td><td>5745506</td></tr><tr><td>Children</td><td>4079868</td></tr><tr><td>Politics</td><td>4019465</td></tr><tr><td>Sitcom</td><td>3748680</td></tr><tr><td>Animated</td><td>3299400</td></tr><tr><td>Comedy</td><td>3192124</td></tr><tr><td>Educational</td><td>2495269</td></tr><tr><td>Weather</td><td>2232830</td></tr><tr><td>Newsmagazine</td><td>2000756</td></tr><tr><td>Drama</td><td>1991231</td></tr><tr><td>Reality</td><td>1850478</td></tr><tr><td>Entertainment</td><td>1826366</td></tr><tr><td>Adventure</td><td>1600356</td></tr><tr><td>Action</td><td>1519548</td></tr><tr><td>Health</td><td>1285560</td></tr><tr><td>Football</td><td>1121193</td></tr><tr><td>Comedy-drama</td><td>953262</td></tr><tr><td>Fantasy</td><td>915938</td></tr><tr><td>Interview</td><td>855862</td></tr><tr><td>Game show</td><td>817716</td></tr><tr><td>Suspense</td><td>756059</td></tr><tr><td>Variety</td><td>741627</td></tr><tr><td>Pro wrestling</td><td>738781</td></tr><tr><td>Science fiction</td><td>657849</td></tr><tr><td>Crime drama</td><td>656655</td></tr><tr><td>Documentary</td><td>629710</td></tr><tr><td>Exercise</td><td>588228</td></tr><tr><td>Public affairs</td><td>560723</td></tr><tr><td>Bus./financial</td><td>518222</td></tr><tr><td>Soap</td><td>505386</td></tr><tr><td>Crime</td><td>408201</td></tr><tr><td>Law</td><td>400828</td></tr><tr><td>House/garden</td><td>394601</td></tr><tr><td>Anthology</td><td>362887</td></tr><tr><td>Romance</td><td>354728</td></tr><tr><td>Musical</td><td>341800</td></tr><tr><td>Mystery</td><td>303593</td></tr><tr><td>Horror</td><td>299949</td></tr><tr><td>Romance-comedy</td><td>277861</td></tr><tr><td>Western</td><td>236056</td></tr><tr><td>Travel</td><td>224810</td></tr><tr><td>Baseball</td><td>205578</td></tr><tr><td>Golf</td><td>187355</td></tr><tr><td>Outdoors</td><td>158870</td></tr><tr><td>Animals</td><td>153173</td></tr><tr><td>Sports event</td><td>150783</td></tr><tr><td>Science</td><td>143373</td></tr><tr><td>Nature</td><td>125386</td></tr><tr><td>Medical</td><td>124504</td></tr><tr><td>Agriculture</td><td>124292</td></tr><tr><td>Cooking</td><td>122413</td></tr><tr><td>History</td><td>116199</td></tr><tr><td>War</td><td>114103</td></tr><tr><td>Auto racing</td><td>111990</td></tr><tr><td>Soccer</td><td>108167</td></tr><tr><td>Mixed martial arts</td><td>94502</td></tr><tr><td>Biography</td><td>89744</td></tr><tr><td>How-to</td><td>84542</td></tr><tr><td>Community</td><td>83388</td></tr><tr><td>Historical drama</td><td>81993</td></tr><tr><td>Basketball</td><td>81347</td></tr><tr><td>Auto</td><td>79384</td></tr><tr><td>Docudrama</td><td>72330</td></tr><tr><td>Paranormal</td><td>62406</td></tr><tr><td>Action sports</td><td>58813</td></tr><tr><td>Fashion</td><td>45816</td></tr><tr><td>Collectibles</td><td>45418</td></tr><tr><td>Poker</td><td>31860</td></tr><tr><td>Card games</td><td>31467</td></tr><tr><td>Art</td><td>30136</td></tr><tr><td>Hunting</td><td>28604</td></tr><tr><td>Auction</td><td>28575</td></tr><tr><td>Musical comedy</td><td>26517</td></tr><tr><td>Martial arts</td><td>26222</td></tr><tr><td>Adults only</td><td>22027</td></tr><tr><td>Parenting</td><td>19680</td></tr><tr><td>Dance</td><td>15868</td></tr><tr><td>Spanish</td><td>15428</td></tr><tr><td>Playoff sports</td><td>15284</td></tr><tr><td>Self improvement</td><td>11930</td></tr><tr><td>Fishing</td><td>11439</td></tr><tr><td>Hockey</td><td>11241</td></tr><tr><td>Wrestling</td><td>9500</td></tr><tr><td>Environment</td><td>9099</td></tr><tr><td>Technology</td><td>8443</td></tr><tr><td>Aviation</td><td>7963</td></tr><tr><td>Standup</td><td>6634</td></tr><tr><td>Boxing</td><td>6571</td></tr><tr><td>Military</td><td>6563</td></tr><tr><td>Rodeo</td><td>4946</td></tr><tr><td>Horse</td><td>4911</td></tr><tr><td>Tennis</td><td>4347</td></tr><tr><td>Awards</td><td>4032</td></tr><tr><td>Arts/crafts</td><td>3200</td></tr><tr><td>Gaming</td><td>2824</td></tr><tr><td>Shooting</td><td>1986</td></tr><tr><td>Softball</td><td>1428</td></tr><tr><td>Event</td><td>1324</td></tr><tr><td>Computers</td><td>1272</td></tr><tr><td>Aerobics</td><td>1155</td></tr><tr><td>Anime</td><td>1151</td></tr><tr><td>Snowboarding</td><td>1087</td></tr><tr><td>Skiing</td><td>991</td></tr><tr><td>Debate</td><td>906</td></tr><tr><td>Dog show</td><td>808</td></tr><tr><td>Motorcycle</td><td>798</td></tr><tr><td>Miniseries</td><td>728</td></tr><tr><td>Diving</td><td>678</td></tr><tr><td>Gay/lesbian</td><td>650</td></tr><tr><td>Performing arts</td><td>642</td></tr><tr><td>Equestrian</td><td>622</td></tr><tr><td>Track/field</td><td>610</td></tr><tr><td>Parade</td><td>584</td></tr><tr><td>Boat</td><td>540</td></tr><tr><td>Motorcycle racing</td><td>509</td></tr><tr><td>Weightlifting</td><td>494</td></tr><tr><td>Volleyball</td><td>493</td></tr><tr><td>Bicycle racing</td><td>493</td></tr><tr><td>Gymnastics</td><td>459</td></tr><tr><td>Fundraiser</td><td>411</td></tr><tr><td>Motorsports</td><td>379</td></tr><tr><td>Pool</td><td>276</td></tr><tr><td>Arm wrestling</td><td>247</td></tr><tr><td>Figure skating</td><td>243</td></tr><tr><td>Olympics</td><td>238</td></tr><tr><td>Skateboarding</td><td>180</td></tr><tr><td>Triathlon</td><td>164</td></tr><tr><td>Surfing</td><td>149</td></tr><tr><td>Music special</td><td>144</td></tr><tr><td>Yacht racing</td><td>138</td></tr><tr><td>Drag racing</td><td>137</td></tr><tr><td>Running</td><td>120</td></tr><tr><td>Snowmobile</td><td>116</td></tr><tr><td>Archery</td><td>110</td></tr><tr><td>Bowling</td><td>105</td></tr><tr><td>Rugby</td><td>100</td></tr><tr><td>Swimming</td><td>83</td></tr><tr><td>Holiday</td><td>83</td></tr><tr><td>Lacrosse</td><td>61</td></tr><tr><td>Holiday special</td><td>60</td></tr><tr><td>Soap talk</td><td>54</td></tr><tr><td>Intl soccer</td><td>42</td></tr><tr><td>Water polo</td><td>37</td></tr><tr><td>Billiards</td><td>35</td></tr><tr><td>Curling</td><td>33</td></tr><tr><td>Polo</td><td>29</td></tr><tr><td>Watersports</td><td>23</td></tr><tr><td>Sailing</td><td>21</td></tr><tr><td>Theater</td><td>15</td></tr><tr><td>Beach soccer</td><td>13</td></tr><tr><td>Kayaking</td><td>13</td></tr><tr><td>Cheerleading</td><td>11</td></tr><tr><td>Beach volleyball</td><td>10</td></tr><tr><td>Field hockey</td><td>10</td></tr><tr><td>Boat racing</td><td>6</td></tr><tr><td>Badminton</td><td>1</td></tr><tr><td>Luge</td><td>1</td></tr></tbody></table></div>"
      ]
     },
     "metadata": {
      "application/vnd.databricks.v1+output": {
       "addedWidgets": {},
       "aggData": [],
       "aggError": "",
       "aggOverflow": false,
       "aggSchema": [],
       "aggSeriesLimitReached": false,
       "aggType": "",
       "arguments": {},
       "columnCustomDisplayInfos": {},
       "data": [
        [
         "Shopping",
         580463283
        ],
        [
         "News",
         86429073
        ],
        [
         "Sports non-event",
         56444819
        ],
        [
         "Sports talk",
         55209189
        ],
        [
         "Consumer",
         43626934
        ],
        [
         "Home improvement",
         13349425
        ],
        [
         "Music",
         11279782
        ],
        [
         "Special",
         7230447
        ],
        [
         "Religious",
         5858670
        ],
        [
         "Talk",
         5745506
        ],
        [
         "Children",
         4079868
        ],
        [
         "Politics",
         4019465
        ],
        [
         "Sitcom",
         3748680
        ],
        [
         "Animated",
         3299400
        ],
        [
         "Comedy",
         3192124
        ],
        [
         "Educational",
         2495269
        ],
        [
         "Weather",
         2232830
        ],
        [
         "Newsmagazine",
         2000756
        ],
        [
         "Drama",
         1991231
        ],
        [
         "Reality",
         1850478
        ],
        [
         "Entertainment",
         1826366
        ],
        [
         "Adventure",
         1600356
        ],
        [
         "Action",
         1519548
        ],
        [
         "Health",
         1285560
        ],
        [
         "Football",
         1121193
        ],
        [
         "Comedy-drama",
         953262
        ],
        [
         "Fantasy",
         915938
        ],
        [
         "Interview",
         855862
        ],
        [
         "Game show",
         817716
        ],
        [
         "Suspense",
         756059
        ],
        [
         "Variety",
         741627
        ],
        [
         "Pro wrestling",
         738781
        ],
        [
         "Science fiction",
         657849
        ],
        [
         "Crime drama",
         656655
        ],
        [
         "Documentary",
         629710
        ],
        [
         "Exercise",
         588228
        ],
        [
         "Public affairs",
         560723
        ],
        [
         "Bus./financial",
         518222
        ],
        [
         "Soap",
         505386
        ],
        [
         "Crime",
         408201
        ],
        [
         "Law",
         400828
        ],
        [
         "House/garden",
         394601
        ],
        [
         "Anthology",
         362887
        ],
        [
         "Romance",
         354728
        ],
        [
         "Musical",
         341800
        ],
        [
         "Mystery",
         303593
        ],
        [
         "Horror",
         299949
        ],
        [
         "Romance-comedy",
         277861
        ],
        [
         "Western",
         236056
        ],
        [
         "Travel",
         224810
        ],
        [
         "Baseball",
         205578
        ],
        [
         "Golf",
         187355
        ],
        [
         "Outdoors",
         158870
        ],
        [
         "Animals",
         153173
        ],
        [
         "Sports event",
         150783
        ],
        [
         "Science",
         143373
        ],
        [
         "Nature",
         125386
        ],
        [
         "Medical",
         124504
        ],
        [
         "Agriculture",
         124292
        ],
        [
         "Cooking",
         122413
        ],
        [
         "History",
         116199
        ],
        [
         "War",
         114103
        ],
        [
         "Auto racing",
         111990
        ],
        [
         "Soccer",
         108167
        ],
        [
         "Mixed martial arts",
         94502
        ],
        [
         "Biography",
         89744
        ],
        [
         "How-to",
         84542
        ],
        [
         "Community",
         83388
        ],
        [
         "Historical drama",
         81993
        ],
        [
         "Basketball",
         81347
        ],
        [
         "Auto",
         79384
        ],
        [
         "Docudrama",
         72330
        ],
        [
         "Paranormal",
         62406
        ],
        [
         "Action sports",
         58813
        ],
        [
         "Fashion",
         45816
        ],
        [
         "Collectibles",
         45418
        ],
        [
         "Poker",
         31860
        ],
        [
         "Card games",
         31467
        ],
        [
         "Art",
         30136
        ],
        [
         "Hunting",
         28604
        ],
        [
         "Auction",
         28575
        ],
        [
         "Musical comedy",
         26517
        ],
        [
         "Martial arts",
         26222
        ],
        [
         "Adults only",
         22027
        ],
        [
         "Parenting",
         19680
        ],
        [
         "Dance",
         15868
        ],
        [
         "Spanish",
         15428
        ],
        [
         "Playoff sports",
         15284
        ],
        [
         "Self improvement",
         11930
        ],
        [
         "Fishing",
         11439
        ],
        [
         "Hockey",
         11241
        ],
        [
         "Wrestling",
         9500
        ],
        [
         "Environment",
         9099
        ],
        [
         "Technology",
         8443
        ],
        [
         "Aviation",
         7963
        ],
        [
         "Standup",
         6634
        ],
        [
         "Boxing",
         6571
        ],
        [
         "Military",
         6563
        ],
        [
         "Rodeo",
         4946
        ],
        [
         "Horse",
         4911
        ],
        [
         "Tennis",
         4347
        ],
        [
         "Awards",
         4032
        ],
        [
         "Arts/crafts",
         3200
        ],
        [
         "Gaming",
         2824
        ],
        [
         "Shooting",
         1986
        ],
        [
         "Softball",
         1428
        ],
        [
         "Event",
         1324
        ],
        [
         "Computers",
         1272
        ],
        [
         "Aerobics",
         1155
        ],
        [
         "Anime",
         1151
        ],
        [
         "Snowboarding",
         1087
        ],
        [
         "Skiing",
         991
        ],
        [
         "Debate",
         906
        ],
        [
         "Dog show",
         808
        ],
        [
         "Motorcycle",
         798
        ],
        [
         "Miniseries",
         728
        ],
        [
         "Diving",
         678
        ],
        [
         "Gay/lesbian",
         650
        ],
        [
         "Performing arts",
         642
        ],
        [
         "Equestrian",
         622
        ],
        [
         "Track/field",
         610
        ],
        [
         "Parade",
         584
        ],
        [
         "Boat",
         540
        ],
        [
         "Motorcycle racing",
         509
        ],
        [
         "Weightlifting",
         494
        ],
        [
         "Volleyball",
         493
        ],
        [
         "Bicycle racing",
         493
        ],
        [
         "Gymnastics",
         459
        ],
        [
         "Fundraiser",
         411
        ],
        [
         "Motorsports",
         379
        ],
        [
         "Pool",
         276
        ],
        [
         "Arm wrestling",
         247
        ],
        [
         "Figure skating",
         243
        ],
        [
         "Olympics",
         238
        ],
        [
         "Skateboarding",
         180
        ],
        [
         "Triathlon",
         164
        ],
        [
         "Surfing",
         149
        ],
        [
         "Music special",
         144
        ],
        [
         "Yacht racing",
         138
        ],
        [
         "Drag racing",
         137
        ],
        [
         "Running",
         120
        ],
        [
         "Snowmobile",
         116
        ],
        [
         "Archery",
         110
        ],
        [
         "Bowling",
         105
        ],
        [
         "Rugby",
         100
        ],
        [
         "Swimming",
         83
        ],
        [
         "Holiday",
         83
        ],
        [
         "Lacrosse",
         61
        ],
        [
         "Holiday special",
         60
        ],
        [
         "Soap talk",
         54
        ],
        [
         "Intl soccer",
         42
        ],
        [
         "Water polo",
         37
        ],
        [
         "Billiards",
         35
        ],
        [
         "Curling",
         33
        ],
        [
         "Polo",
         29
        ],
        [
         "Watersports",
         23
        ],
        [
         "Sailing",
         21
        ],
        [
         "Theater",
         15
        ],
        [
         "Beach soccer",
         13
        ],
        [
         "Kayaking",
         13
        ],
        [
         "Cheerleading",
         11
        ],
        [
         "Beach volleyball",
         10
        ],
        [
         "Field hockey",
         10
        ],
        [
         "Boat racing",
         6
        ],
        [
         "Badminton",
         1
        ],
        [
         "Luge",
         1
        ]
       ],
       "datasetInfos": [],
       "dbfsResultPath": null,
       "isJsonSchema": true,
       "metadata": {},
       "overflow": false,
       "plotOptions": {
        "customPlotOptions": {},
        "displayType": "table",
        "pivotAggregation": null,
        "pivotColumns": null,
        "xColumns": null,
        "yColumns": null
       },
       "removedWidgets": [],
       "schema": [
        {
         "metadata": "{}",
         "name": "genre",
         "type": "\"string\""
        },
        {
         "metadata": "{}",
         "name": "popularity",
         "type": "\"long\""
        }
       ],
       "type": "table"
      }
     },
     "output_type": "display_data"
    },
    {
     "output_type": "stream",
     "name": "stdout",
     "output_type": "stream",
     "text": [
      "\n\nData for: project1_part21_Bend_OR_324075548_326172756\n"
     ]
    },
    {
     "output_type": "display_data",
     "data": {
      "text/html": [
       "<style scoped>\n",
       "  .table-result-container {\n",
       "    max-height: 300px;\n",
       "    overflow: auto;\n",
       "  }\n",
       "  table, th, td {\n",
       "    border: 1px solid black;\n",
       "    border-collapse: collapse;\n",
       "  }\n",
       "  th, td {\n",
       "    padding: 5px;\n",
       "  }\n",
       "  th {\n",
       "    text-align: left;\n",
       "  }\n",
       "</style><div class='table-result-container'><table class='table-result'><thead style='background-color: white'><tr><th>genre</th><th>popularity</th></tr></thead><tbody><tr><td>Shopping</td><td>370453913</td></tr><tr><td>News</td><td>87146042</td></tr><tr><td>Sports non-event</td><td>49062494</td></tr><tr><td>Sports talk</td><td>46129722</td></tr><tr><td>Consumer</td><td>40658385</td></tr><tr><td>Music</td><td>12415461</td></tr><tr><td>Special</td><td>9979323</td></tr><tr><td>Talk</td><td>6616623</td></tr><tr><td>Politics</td><td>4330463</td></tr><tr><td>Sitcom</td><td>4323627</td></tr><tr><td>Travel</td><td>3818488</td></tr><tr><td>Religious</td><td>2151692</td></tr><tr><td>Comedy</td><td>2028593</td></tr><tr><td>Children</td><td>1626959</td></tr><tr><td>Anthology</td><td>1619329</td></tr><tr><td>Animated</td><td>1581057</td></tr><tr><td>Public affairs</td><td>1413283</td></tr><tr><td>Reality</td><td>1407174</td></tr><tr><td>Football</td><td>1207992</td></tr><tr><td>Bus./financial</td><td>1182106</td></tr><tr><td>Weather</td><td>1157306</td></tr><tr><td>Entertainment</td><td>1150900</td></tr><tr><td>Health</td><td>1125322</td></tr><tr><td>Action</td><td>1063536</td></tr><tr><td>Adventure</td><td>1027329</td></tr><tr><td>Baseball</td><td>977203</td></tr><tr><td>Exercise</td><td>859065</td></tr><tr><td>Educational</td><td>717351</td></tr><tr><td>Newsmagazine</td><td>705211</td></tr><tr><td>Drama</td><td>661306</td></tr><tr><td>Interview</td><td>577225</td></tr><tr><td>Documentary</td><td>572627</td></tr><tr><td>Fantasy</td><td>545439</td></tr><tr><td>Suspense</td><td>530632</td></tr><tr><td>Crime drama</td><td>499361</td></tr><tr><td>Crime</td><td>434191</td></tr><tr><td>Musical</td><td>412268</td></tr><tr><td>Science fiction</td><td>406091</td></tr><tr><td>Community</td><td>400564</td></tr><tr><td>Game show</td><td>378561</td></tr><tr><td>Golf</td><td>329335</td></tr><tr><td>Outdoors</td><td>326041</td></tr><tr><td>Science</td><td>317662</td></tr><tr><td>Law</td><td>306120</td></tr><tr><td>House/garden</td><td>291057</td></tr><tr><td>Medical</td><td>269159</td></tr><tr><td>Variety</td><td>220452</td></tr><tr><td>Mystery</td><td>216388</td></tr><tr><td>Horror</td><td>209982</td></tr><tr><td>Romance-comedy</td><td>196979</td></tr><tr><td>Home improvement</td><td>195449</td></tr><tr><td>Western</td><td>162962</td></tr><tr><td>Basketball</td><td>158936</td></tr><tr><td>Animals</td><td>155706</td></tr><tr><td>Nature</td><td>153520</td></tr><tr><td>Sports event</td><td>153395</td></tr><tr><td>Romance</td><td>152772</td></tr><tr><td>Hunting</td><td>149239</td></tr><tr><td>Comedy-drama</td><td>135595</td></tr><tr><td>Cooking</td><td>119514</td></tr><tr><td>How-to</td><td>108515</td></tr><tr><td>History</td><td>87667</td></tr><tr><td>War</td><td>79829</td></tr><tr><td>Motorsports</td><td>73571</td></tr><tr><td>Motorcycle</td><td>72956</td></tr><tr><td>Historical drama</td><td>69558</td></tr><tr><td>Biography</td><td>66672</td></tr><tr><td>Action sports</td><td>61428</td></tr><tr><td>Docudrama</td><td>61070</td></tr><tr><td>Soccer</td><td>60701</td></tr><tr><td>Auto racing</td><td>53684</td></tr><tr><td>Soap</td><td>47746</td></tr><tr><td>Auto</td><td>46399</td></tr><tr><td>Collectibles</td><td>42648</td></tr><tr><td>Fashion</td><td>35646</td></tr><tr><td>Poker</td><td>33870</td></tr><tr><td>Card games</td><td>33806</td></tr><tr><td>Fishing</td><td>33303</td></tr><tr><td>Paranormal</td><td>32004</td></tr><tr><td>Technology</td><td>31717</td></tr><tr><td>Art</td><td>31287</td></tr><tr><td>Musical comedy</td><td>29218</td></tr><tr><td>Self improvement</td><td>29001</td></tr><tr><td>Mixed martial arts</td><td>27524</td></tr><tr><td>Awards</td><td>25554</td></tr><tr><td>Martial arts</td><td>23329</td></tr><tr><td>Agriculture</td><td>18931</td></tr><tr><td>Tennis</td><td>17086</td></tr><tr><td>Adults only</td><td>15107</td></tr><tr><td>Standup</td><td>14489</td></tr><tr><td>Boat</td><td>14407</td></tr><tr><td>Auction</td><td>13591</td></tr><tr><td>Horse</td><td>13039</td></tr><tr><td>Playoff sports</td><td>11352</td></tr><tr><td>Environment</td><td>10381</td></tr><tr><td>Hockey</td><td>8749</td></tr><tr><td>Dance</td><td>8148</td></tr><tr><td>Boxing</td><td>7297</td></tr><tr><td>Aviation</td><td>6577</td></tr><tr><td>Military</td><td>6488</td></tr><tr><td>Pro wrestling</td><td>6298</td></tr><tr><td>Bicycle racing</td><td>5662</td></tr><tr><td>Skiing</td><td>4369</td></tr><tr><td>Rugby</td><td>4025</td></tr><tr><td>Spanish</td><td>3664</td></tr><tr><td>Parenting</td><td>3180</td></tr><tr><td>Gaming</td><td>3074</td></tr><tr><td>Weightlifting</td><td>2527</td></tr><tr><td>Olympics</td><td>1941</td></tr><tr><td>Softball</td><td>1562</td></tr><tr><td>Volleyball</td><td>1510</td></tr><tr><td>Wrestling</td><td>1481</td></tr><tr><td>Computers</td><td>1472</td></tr><tr><td>Debate</td><td>1468</td></tr><tr><td>Arts/crafts</td><td>1354</td></tr><tr><td>Shooting</td><td>1108</td></tr><tr><td>Track/field</td><td>1056</td></tr><tr><td>Beach volleyball</td><td>991</td></tr><tr><td>Beach soccer</td><td>983</td></tr><tr><td>Event</td><td>931</td></tr><tr><td>Gymnastics</td><td>911</td></tr><tr><td>Anime</td><td>888</td></tr><tr><td>Motorcycle racing</td><td>856</td></tr><tr><td>Rodeo</td><td>843</td></tr><tr><td>Snowboarding</td><td>748</td></tr><tr><td>Watersports</td><td>740</td></tr><tr><td>Triathlon</td><td>653</td></tr><tr><td>Snowmobile</td><td>622</td></tr><tr><td>Gay/lesbian</td><td>609</td></tr><tr><td>Swimming</td><td>573</td></tr><tr><td>Diving</td><td>487</td></tr><tr><td>Figure skating</td><td>472</td></tr><tr><td>Parade</td><td>382</td></tr><tr><td>Archery</td><td>368</td></tr><tr><td>Cheerleading</td><td>350</td></tr><tr><td>Lacrosse</td><td>325</td></tr><tr><td>Equestrian</td><td>305</td></tr><tr><td>Performing arts</td><td>305</td></tr><tr><td>Miniseries</td><td>300</td></tr><tr><td>Dog show</td><td>288</td></tr><tr><td>Running</td><td>258</td></tr><tr><td>Pool</td><td>244</td></tr><tr><td>Holiday</td><td>226</td></tr><tr><td>Water polo</td><td>214</td></tr><tr><td>Arm wrestling</td><td>212</td></tr><tr><td>Skateboarding</td><td>135</td></tr><tr><td>Theater</td><td>118</td></tr><tr><td>Yacht racing</td><td>103</td></tr><tr><td>Drag racing</td><td>101</td></tr><tr><td>Bowling</td><td>101</td></tr><tr><td>Mountain biking</td><td>91</td></tr><tr><td>Intl soccer</td><td>81</td></tr><tr><td>Fundraiser</td><td>70</td></tr><tr><td>Holiday special</td><td>65</td></tr><tr><td>Kayaking</td><td>50</td></tr><tr><td>Rowing</td><td>42</td></tr><tr><td>Music special</td><td>37</td></tr><tr><td>Surfing</td><td>37</td></tr><tr><td>Boat racing</td><td>30</td></tr><tr><td>Speed skating</td><td>26</td></tr><tr><td>Sailing</td><td>16</td></tr><tr><td>Badminton</td><td>14</td></tr><tr><td>Skeleton</td><td>14</td></tr><tr><td>Bobsled</td><td>13</td></tr><tr><td>Luge</td><td>12</td></tr><tr><td>Field hockey</td><td>9</td></tr><tr><td>Fencing</td><td>7</td></tr><tr><td>Aerobics</td><td>6</td></tr><tr><td>Billiards</td><td>5</td></tr><tr><td>Ballet</td><td>4</td></tr><tr><td>Cricket</td><td>4</td></tr><tr><td>Curling</td><td>3</td></tr><tr><td>Holiday-children special</td><td>2</td></tr><tr><td>Racquet</td><td>2</td></tr><tr><td>Squash</td><td>1</td></tr><tr><td>Darts</td><td>1</td></tr></tbody></table></div>"
      ]
     },
     "metadata": {
      "application/vnd.databricks.v1+output": {
       "addedWidgets": {},
       "aggData": [],
       "aggError": "",
       "aggOverflow": false,
       "aggSchema": [],
       "aggSeriesLimitReached": false,
       "aggType": "",
       "arguments": {},
       "columnCustomDisplayInfos": {},
       "data": [
        [
         "Shopping",
         370453913
        ],
        [
         "News",
         87146042
        ],
        [
         "Sports non-event",
         49062494
        ],
        [
         "Sports talk",
         46129722
        ],
        [
         "Consumer",
         40658385
        ],
        [
         "Music",
         12415461
        ],
        [
         "Special",
         9979323
        ],
        [
         "Talk",
         6616623
        ],
        [
         "Politics",
         4330463
        ],
        [
         "Sitcom",
         4323627
        ],
        [
         "Travel",
         3818488
        ],
        [
         "Religious",
         2151692
        ],
        [
         "Comedy",
         2028593
        ],
        [
         "Children",
         1626959
        ],
        [
         "Anthology",
         1619329
        ],
        [
         "Animated",
         1581057
        ],
        [
         "Public affairs",
         1413283
        ],
        [
         "Reality",
         1407174
        ],
        [
         "Football",
         1207992
        ],
        [
         "Bus./financial",
         1182106
        ],
        [
         "Weather",
         1157306
        ],
        [
         "Entertainment",
         1150900
        ],
        [
         "Health",
         1125322
        ],
        [
         "Action",
         1063536
        ],
        [
         "Adventure",
         1027329
        ],
        [
         "Baseball",
         977203
        ],
        [
         "Exercise",
         859065
        ],
        [
         "Educational",
         717351
        ],
        [
         "Newsmagazine",
         705211
        ],
        [
         "Drama",
         661306
        ],
        [
         "Interview",
         577225
        ],
        [
         "Documentary",
         572627
        ],
        [
         "Fantasy",
         545439
        ],
        [
         "Suspense",
         530632
        ],
        [
         "Crime drama",
         499361
        ],
        [
         "Crime",
         434191
        ],
        [
         "Musical",
         412268
        ],
        [
         "Science fiction",
         406091
        ],
        [
         "Community",
         400564
        ],
        [
         "Game show",
         378561
        ],
        [
         "Golf",
         329335
        ],
        [
         "Outdoors",
         326041
        ],
        [
         "Science",
         317662
        ],
        [
         "Law",
         306120
        ],
        [
         "House/garden",
         291057
        ],
        [
         "Medical",
         269159
        ],
        [
         "Variety",
         220452
        ],
        [
         "Mystery",
         216388
        ],
        [
         "Horror",
         209982
        ],
        [
         "Romance-comedy",
         196979
        ],
        [
         "Home improvement",
         195449
        ],
        [
         "Western",
         162962
        ],
        [
         "Basketball",
         158936
        ],
        [
         "Animals",
         155706
        ],
        [
         "Nature",
         153520
        ],
        [
         "Sports event",
         153395
        ],
        [
         "Romance",
         152772
        ],
        [
         "Hunting",
         149239
        ],
        [
         "Comedy-drama",
         135595
        ],
        [
         "Cooking",
         119514
        ],
        [
         "How-to",
         108515
        ],
        [
         "History",
         87667
        ],
        [
         "War",
         79829
        ],
        [
         "Motorsports",
         73571
        ],
        [
         "Motorcycle",
         72956
        ],
        [
         "Historical drama",
         69558
        ],
        [
         "Biography",
         66672
        ],
        [
         "Action sports",
         61428
        ],
        [
         "Docudrama",
         61070
        ],
        [
         "Soccer",
         60701
        ],
        [
         "Auto racing",
         53684
        ],
        [
         "Soap",
         47746
        ],
        [
         "Auto",
         46399
        ],
        [
         "Collectibles",
         42648
        ],
        [
         "Fashion",
         35646
        ],
        [
         "Poker",
         33870
        ],
        [
         "Card games",
         33806
        ],
        [
         "Fishing",
         33303
        ],
        [
         "Paranormal",
         32004
        ],
        [
         "Technology",
         31717
        ],
        [
         "Art",
         31287
        ],
        [
         "Musical comedy",
         29218
        ],
        [
         "Self improvement",
         29001
        ],
        [
         "Mixed martial arts",
         27524
        ],
        [
         "Awards",
         25554
        ],
        [
         "Martial arts",
         23329
        ],
        [
         "Agriculture",
         18931
        ],
        [
         "Tennis",
         17086
        ],
        [
         "Adults only",
         15107
        ],
        [
         "Standup",
         14489
        ],
        [
         "Boat",
         14407
        ],
        [
         "Auction",
         13591
        ],
        [
         "Horse",
         13039
        ],
        [
         "Playoff sports",
         11352
        ],
        [
         "Environment",
         10381
        ],
        [
         "Hockey",
         8749
        ],
        [
         "Dance",
         8148
        ],
        [
         "Boxing",
         7297
        ],
        [
         "Aviation",
         6577
        ],
        [
         "Military",
         6488
        ],
        [
         "Pro wrestling",
         6298
        ],
        [
         "Bicycle racing",
         5662
        ],
        [
         "Skiing",
         4369
        ],
        [
         "Rugby",
         4025
        ],
        [
         "Spanish",
         3664
        ],
        [
         "Parenting",
         3180
        ],
        [
         "Gaming",
         3074
        ],
        [
         "Weightlifting",
         2527
        ],
        [
         "Olympics",
         1941
        ],
        [
         "Softball",
         1562
        ],
        [
         "Volleyball",
         1510
        ],
        [
         "Wrestling",
         1481
        ],
        [
         "Computers",
         1472
        ],
        [
         "Debate",
         1468
        ],
        [
         "Arts/crafts",
         1354
        ],
        [
         "Shooting",
         1108
        ],
        [
         "Track/field",
         1056
        ],
        [
         "Beach volleyball",
         991
        ],
        [
         "Beach soccer",
         983
        ],
        [
         "Event",
         931
        ],
        [
         "Gymnastics",
         911
        ],
        [
         "Anime",
         888
        ],
        [
         "Motorcycle racing",
         856
        ],
        [
         "Rodeo",
         843
        ],
        [
         "Snowboarding",
         748
        ],
        [
         "Watersports",
         740
        ],
        [
         "Triathlon",
         653
        ],
        [
         "Snowmobile",
         622
        ],
        [
         "Gay/lesbian",
         609
        ],
        [
         "Swimming",
         573
        ],
        [
         "Diving",
         487
        ],
        [
         "Figure skating",
         472
        ],
        [
         "Parade",
         382
        ],
        [
         "Archery",
         368
        ],
        [
         "Cheerleading",
         350
        ],
        [
         "Lacrosse",
         325
        ],
        [
         "Equestrian",
         305
        ],
        [
         "Performing arts",
         305
        ],
        [
         "Miniseries",
         300
        ],
        [
         "Dog show",
         288
        ],
        [
         "Running",
         258
        ],
        [
         "Pool",
         244
        ],
        [
         "Holiday",
         226
        ],
        [
         "Water polo",
         214
        ],
        [
         "Arm wrestling",
         212
        ],
        [
         "Skateboarding",
         135
        ],
        [
         "Theater",
         118
        ],
        [
         "Yacht racing",
         103
        ],
        [
         "Drag racing",
         101
        ],
        [
         "Bowling",
         101
        ],
        [
         "Mountain biking",
         91
        ],
        [
         "Intl soccer",
         81
        ],
        [
         "Fundraiser",
         70
        ],
        [
         "Holiday special",
         65
        ],
        [
         "Kayaking",
         50
        ],
        [
         "Rowing",
         42
        ],
        [
         "Music special",
         37
        ],
        [
         "Surfing",
         37
        ],
        [
         "Boat racing",
         30
        ],
        [
         "Speed skating",
         26
        ],
        [
         "Sailing",
         16
        ],
        [
         "Badminton",
         14
        ],
        [
         "Skeleton",
         14
        ],
        [
         "Bobsled",
         13
        ],
        [
         "Luge",
         12
        ],
        [
         "Field hockey",
         9
        ],
        [
         "Fencing",
         7
        ],
        [
         "Aerobics",
         6
        ],
        [
         "Billiards",
         5
        ],
        [
         "Ballet",
         4
        ],
        [
         "Cricket",
         4
        ],
        [
         "Curling",
         3
        ],
        [
         "Holiday-children special",
         2
        ],
        [
         "Racquet",
         2
        ],
        [
         "Squash",
         1
        ],
        [
         "Darts",
         1
        ]
       ],
       "datasetInfos": [],
       "dbfsResultPath": null,
       "isJsonSchema": true,
       "metadata": {},
       "overflow": false,
       "plotOptions": {
        "customPlotOptions": {},
        "displayType": "table",
        "pivotAggregation": null,
        "pivotColumns": null,
        "xColumns": null,
        "yColumns": null
       },
       "removedWidgets": [],
       "schema": [
        {
         "metadata": "{}",
         "name": "genre",
         "type": "\"string\""
        },
        {
         "metadata": "{}",
         "name": "popularity",
         "type": "\"long\""
        }
       ],
       "type": "table"
      }
     },
     "output_type": "display_data"
    },
    {
     "output_type": "stream",
     "name": "stdout",
     "output_type": "stream",
     "text": [
      "\n\nData for: project1_part21_GreenvilleNBernWashngtn_324075548_326172756\n"
     ]
    },
    {
     "output_type": "display_data",
     "data": {
      "text/html": [
       "<style scoped>\n",
       "  .table-result-container {\n",
       "    max-height: 300px;\n",
       "    overflow: auto;\n",
       "  }\n",
       "  table, th, td {\n",
       "    border: 1px solid black;\n",
       "    border-collapse: collapse;\n",
       "  }\n",
       "  th, td {\n",
       "    padding: 5px;\n",
       "  }\n",
       "  th {\n",
       "    text-align: left;\n",
       "  }\n",
       "</style><div class='table-result-container'><table class='table-result'><thead style='background-color: white'><tr><th>genre</th><th>popularity</th></tr></thead><tbody><tr><td>Shopping</td><td>223848590</td></tr><tr><td>News</td><td>104028390</td></tr><tr><td>Sports non-event</td><td>74970993</td></tr><tr><td>Sports talk</td><td>73776971</td></tr><tr><td>Consumer</td><td>36821044</td></tr><tr><td>Music</td><td>28789805</td></tr><tr><td>Variety</td><td>9655647</td></tr><tr><td>Religious</td><td>7721519</td></tr><tr><td>Special</td><td>6479778</td></tr><tr><td>Children</td><td>6478107</td></tr><tr><td>Talk</td><td>6205848</td></tr><tr><td>Educational</td><td>5376306</td></tr><tr><td>Animated</td><td>4934947</td></tr><tr><td>Politics</td><td>4563863</td></tr><tr><td>Community</td><td>4231195</td></tr><tr><td>Public affairs</td><td>3841561</td></tr><tr><td>Sitcom</td><td>3783835</td></tr><tr><td>Comedy</td><td>3103040</td></tr><tr><td>Adventure</td><td>2093083</td></tr><tr><td>Reality</td><td>2058344</td></tr><tr><td>Action</td><td>1983813</td></tr><tr><td>Weather</td><td>1795036</td></tr><tr><td>Entertainment</td><td>1473158</td></tr><tr><td>Drama</td><td>1462834</td></tr><tr><td>Fantasy</td><td>1267005</td></tr><tr><td>Football</td><td>1175188</td></tr><tr><td>Suspense</td><td>1173024</td></tr><tr><td>Anthology</td><td>1002624</td></tr><tr><td>Game show</td><td>915546</td></tr><tr><td>Crime drama</td><td>910662</td></tr><tr><td>Science fiction</td><td>854979</td></tr><tr><td>Interview</td><td>797101</td></tr><tr><td>Documentary</td><td>738090</td></tr><tr><td>Bus./financial</td><td>631545</td></tr><tr><td>Romance</td><td>526607</td></tr><tr><td>Crime</td><td>521294</td></tr><tr><td>Newsmagazine</td><td>518192</td></tr><tr><td>Horror</td><td>459233</td></tr><tr><td>Law</td><td>439506</td></tr><tr><td>Western</td><td>404406</td></tr><tr><td>Comedy-drama</td><td>402194</td></tr><tr><td>Mystery</td><td>399144</td></tr><tr><td>Romance-comedy</td><td>397817</td></tr><tr><td>Golf</td><td>396083</td></tr><tr><td>House/garden</td><td>362258</td></tr><tr><td>Health</td><td>298318</td></tr><tr><td>Travel</td><td>275005</td></tr><tr><td>Home improvement</td><td>244810</td></tr><tr><td>Outdoors</td><td>230813</td></tr><tr><td>Cooking</td><td>189759</td></tr><tr><td>War</td><td>178733</td></tr><tr><td>Sports event</td><td>168108</td></tr><tr><td>Science</td><td>166522</td></tr><tr><td>Animals</td><td>157513</td></tr><tr><td>Historical drama</td><td>151648</td></tr><tr><td>Medical</td><td>148083</td></tr><tr><td>Nature</td><td>146177</td></tr><tr><td>Soap</td><td>141124</td></tr><tr><td>Biography</td><td>139046</td></tr><tr><td>Baseball</td><td>138696</td></tr><tr><td>Auto racing</td><td>129093</td></tr><tr><td>Docudrama</td><td>127002</td></tr><tr><td>History</td><td>123786</td></tr><tr><td>Basketball</td><td>122059</td></tr><tr><td>How-to</td><td>113967</td></tr><tr><td>Pro wrestling</td><td>100019</td></tr><tr><td>Musical</td><td>93443</td></tr><tr><td>Mixed martial arts</td><td>90078</td></tr><tr><td>Auto</td><td>75237</td></tr><tr><td>Self improvement</td><td>72635</td></tr><tr><td>Fashion</td><td>66443</td></tr><tr><td>Fishing</td><td>59913</td></tr><tr><td>Paranormal</td><td>59501</td></tr><tr><td>Adults only</td><td>56536</td></tr><tr><td>Collectibles</td><td>52302</td></tr><tr><td>Soccer</td><td>51592</td></tr><tr><td>Agriculture</td><td>47913</td></tr><tr><td>Action sports</td><td>46542</td></tr><tr><td>Martial arts</td><td>44025</td></tr><tr><td>Hunting</td><td>41924</td></tr><tr><td>Musical comedy</td><td>36512</td></tr><tr><td>Art</td><td>33622</td></tr><tr><td>Poker</td><td>31563</td></tr><tr><td>Card games</td><td>31416</td></tr><tr><td>Parenting</td><td>29537</td></tr><tr><td>Auction</td><td>25262</td></tr><tr><td>Playoff sports</td><td>21699</td></tr><tr><td>Dance</td><td>21077</td></tr><tr><td>Wrestling</td><td>18942</td></tr><tr><td>Hockey</td><td>13821</td></tr><tr><td>Standup</td><td>11895</td></tr><tr><td>Technology</td><td>11534</td></tr><tr><td>Boxing</td><td>9791</td></tr><tr><td>Aviation</td><td>9462</td></tr><tr><td>Military</td><td>8658</td></tr><tr><td>Spanish</td><td>7227</td></tr><tr><td>Exercise</td><td>7038</td></tr><tr><td>Boat</td><td>6787</td></tr><tr><td>Shooting</td><td>6228</td></tr><tr><td>Gaming</td><td>5429</td></tr><tr><td>Tennis</td><td>5061</td></tr><tr><td>Environment</td><td>5053</td></tr><tr><td>Computers</td><td>4735</td></tr><tr><td>Awards</td><td>4147</td></tr><tr><td>Rodeo</td><td>3153</td></tr><tr><td>Anime</td><td>2124</td></tr><tr><td>Arts/crafts</td><td>2049</td></tr><tr><td>Event</td><td>1511</td></tr><tr><td>Diving</td><td>1290</td></tr><tr><td>Softball</td><td>1282</td></tr><tr><td>Weightlifting</td><td>1225</td></tr><tr><td>Skiing</td><td>1105</td></tr><tr><td>Debate</td><td>1066</td></tr><tr><td>Dog show</td><td>1026</td></tr><tr><td>Parade</td><td>992</td></tr><tr><td>Motorcycle</td><td>980</td></tr><tr><td>Miniseries</td><td>976</td></tr><tr><td>Gay/lesbian</td><td>967</td></tr><tr><td>Snowboarding</td><td>856</td></tr><tr><td>Figure skating</td><td>745</td></tr><tr><td>Motorsports</td><td>672</td></tr><tr><td>Track/field</td><td>668</td></tr><tr><td>Motorcycle racing</td><td>644</td></tr><tr><td>Bicycle racing</td><td>608</td></tr><tr><td>Equestrian</td><td>494</td></tr><tr><td>Gymnastics</td><td>479</td></tr><tr><td>Olympics</td><td>418</td></tr><tr><td>Surfing</td><td>413</td></tr><tr><td>Arm wrestling</td><td>399</td></tr><tr><td>Horse</td><td>345</td></tr><tr><td>Volleyball</td><td>338</td></tr><tr><td>Triathlon</td><td>317</td></tr><tr><td>Drag racing</td><td>316</td></tr><tr><td>Performing arts</td><td>278</td></tr><tr><td>Archery</td><td>252</td></tr><tr><td>Holiday</td><td>251</td></tr><tr><td>Fundraiser</td><td>241</td></tr><tr><td>Music special</td><td>209</td></tr><tr><td>Pool</td><td>180</td></tr><tr><td>Skateboarding</td><td>177</td></tr><tr><td>Running</td><td>172</td></tr><tr><td>Kayaking</td><td>170</td></tr><tr><td>Badminton</td><td>165</td></tr><tr><td>Lacrosse</td><td>162</td></tr><tr><td>Rugby</td><td>132</td></tr><tr><td>Theater</td><td>103</td></tr><tr><td>Swimming</td><td>91</td></tr><tr><td>Bowling</td><td>74</td></tr><tr><td>Snowmobile</td><td>56</td></tr><tr><td>Intl soccer</td><td>42</td></tr><tr><td>Water polo</td><td>40</td></tr><tr><td>Holiday special</td><td>40</td></tr><tr><td>Cheerleading</td><td>31</td></tr><tr><td>Curling</td><td>31</td></tr><tr><td>Beach volleyball</td><td>28</td></tr><tr><td>Sailing</td><td>27</td></tr><tr><td>Billiards</td><td>26</td></tr><tr><td>Yacht racing</td><td>23</td></tr><tr><td>Watersports</td><td>21</td></tr><tr><td>Cricket</td><td>20</td></tr><tr><td>Boat racing</td><td>14</td></tr><tr><td>Bicycle</td><td>12</td></tr><tr><td>Beach soccer</td><td>10</td></tr><tr><td>Table tennis</td><td>6</td></tr><tr><td>Darts</td><td>2</td></tr><tr><td>Speed skating</td><td>2</td></tr><tr><td>Field hockey</td><td>1</td></tr><tr><td>Fencing</td><td>1</td></tr></tbody></table></div>"
      ]
     },
     "metadata": {
      "application/vnd.databricks.v1+output": {
       "addedWidgets": {},
       "aggData": [],
       "aggError": "",
       "aggOverflow": false,
       "aggSchema": [],
       "aggSeriesLimitReached": false,
       "aggType": "",
       "arguments": {},
       "columnCustomDisplayInfos": {},
       "data": [
        [
         "Shopping",
         223848590
        ],
        [
         "News",
         104028390
        ],
        [
         "Sports non-event",
         74970993
        ],
        [
         "Sports talk",
         73776971
        ],
        [
         "Consumer",
         36821044
        ],
        [
         "Music",
         28789805
        ],
        [
         "Variety",
         9655647
        ],
        [
         "Religious",
         7721519
        ],
        [
         "Special",
         6479778
        ],
        [
         "Children",
         6478107
        ],
        [
         "Talk",
         6205848
        ],
        [
         "Educational",
         5376306
        ],
        [
         "Animated",
         4934947
        ],
        [
         "Politics",
         4563863
        ],
        [
         "Community",
         4231195
        ],
        [
         "Public affairs",
         3841561
        ],
        [
         "Sitcom",
         3783835
        ],
        [
         "Comedy",
         3103040
        ],
        [
         "Adventure",
         2093083
        ],
        [
         "Reality",
         2058344
        ],
        [
         "Action",
         1983813
        ],
        [
         "Weather",
         1795036
        ],
        [
         "Entertainment",
         1473158
        ],
        [
         "Drama",
         1462834
        ],
        [
         "Fantasy",
         1267005
        ],
        [
         "Football",
         1175188
        ],
        [
         "Suspense",
         1173024
        ],
        [
         "Anthology",
         1002624
        ],
        [
         "Game show",
         915546
        ],
        [
         "Crime drama",
         910662
        ],
        [
         "Science fiction",
         854979
        ],
        [
         "Interview",
         797101
        ],
        [
         "Documentary",
         738090
        ],
        [
         "Bus./financial",
         631545
        ],
        [
         "Romance",
         526607
        ],
        [
         "Crime",
         521294
        ],
        [
         "Newsmagazine",
         518192
        ],
        [
         "Horror",
         459233
        ],
        [
         "Law",
         439506
        ],
        [
         "Western",
         404406
        ],
        [
         "Comedy-drama",
         402194
        ],
        [
         "Mystery",
         399144
        ],
        [
         "Romance-comedy",
         397817
        ],
        [
         "Golf",
         396083
        ],
        [
         "House/garden",
         362258
        ],
        [
         "Health",
         298318
        ],
        [
         "Travel",
         275005
        ],
        [
         "Home improvement",
         244810
        ],
        [
         "Outdoors",
         230813
        ],
        [
         "Cooking",
         189759
        ],
        [
         "War",
         178733
        ],
        [
         "Sports event",
         168108
        ],
        [
         "Science",
         166522
        ],
        [
         "Animals",
         157513
        ],
        [
         "Historical drama",
         151648
        ],
        [
         "Medical",
         148083
        ],
        [
         "Nature",
         146177
        ],
        [
         "Soap",
         141124
        ],
        [
         "Biography",
         139046
        ],
        [
         "Baseball",
         138696
        ],
        [
         "Auto racing",
         129093
        ],
        [
         "Docudrama",
         127002
        ],
        [
         "History",
         123786
        ],
        [
         "Basketball",
         122059
        ],
        [
         "How-to",
         113967
        ],
        [
         "Pro wrestling",
         100019
        ],
        [
         "Musical",
         93443
        ],
        [
         "Mixed martial arts",
         90078
        ],
        [
         "Auto",
         75237
        ],
        [
         "Self improvement",
         72635
        ],
        [
         "Fashion",
         66443
        ],
        [
         "Fishing",
         59913
        ],
        [
         "Paranormal",
         59501
        ],
        [
         "Adults only",
         56536
        ],
        [
         "Collectibles",
         52302
        ],
        [
         "Soccer",
         51592
        ],
        [
         "Agriculture",
         47913
        ],
        [
         "Action sports",
         46542
        ],
        [
         "Martial arts",
         44025
        ],
        [
         "Hunting",
         41924
        ],
        [
         "Musical comedy",
         36512
        ],
        [
         "Art",
         33622
        ],
        [
         "Poker",
         31563
        ],
        [
         "Card games",
         31416
        ],
        [
         "Parenting",
         29537
        ],
        [
         "Auction",
         25262
        ],
        [
         "Playoff sports",
         21699
        ],
        [
         "Dance",
         21077
        ],
        [
         "Wrestling",
         18942
        ],
        [
         "Hockey",
         13821
        ],
        [
         "Standup",
         11895
        ],
        [
         "Technology",
         11534
        ],
        [
         "Boxing",
         9791
        ],
        [
         "Aviation",
         9462
        ],
        [
         "Military",
         8658
        ],
        [
         "Spanish",
         7227
        ],
        [
         "Exercise",
         7038
        ],
        [
         "Boat",
         6787
        ],
        [
         "Shooting",
         6228
        ],
        [
         "Gaming",
         5429
        ],
        [
         "Tennis",
         5061
        ],
        [
         "Environment",
         5053
        ],
        [
         "Computers",
         4735
        ],
        [
         "Awards",
         4147
        ],
        [
         "Rodeo",
         3153
        ],
        [
         "Anime",
         2124
        ],
        [
         "Arts/crafts",
         2049
        ],
        [
         "Event",
         1511
        ],
        [
         "Diving",
         1290
        ],
        [
         "Softball",
         1282
        ],
        [
         "Weightlifting",
         1225
        ],
        [
         "Skiing",
         1105
        ],
        [
         "Debate",
         1066
        ],
        [
         "Dog show",
         1026
        ],
        [
         "Parade",
         992
        ],
        [
         "Motorcycle",
         980
        ],
        [
         "Miniseries",
         976
        ],
        [
         "Gay/lesbian",
         967
        ],
        [
         "Snowboarding",
         856
        ],
        [
         "Figure skating",
         745
        ],
        [
         "Motorsports",
         672
        ],
        [
         "Track/field",
         668
        ],
        [
         "Motorcycle racing",
         644
        ],
        [
         "Bicycle racing",
         608
        ],
        [
         "Equestrian",
         494
        ],
        [
         "Gymnastics",
         479
        ],
        [
         "Olympics",
         418
        ],
        [
         "Surfing",
         413
        ],
        [
         "Arm wrestling",
         399
        ],
        [
         "Horse",
         345
        ],
        [
         "Volleyball",
         338
        ],
        [
         "Triathlon",
         317
        ],
        [
         "Drag racing",
         316
        ],
        [
         "Performing arts",
         278
        ],
        [
         "Archery",
         252
        ],
        [
         "Holiday",
         251
        ],
        [
         "Fundraiser",
         241
        ],
        [
         "Music special",
         209
        ],
        [
         "Pool",
         180
        ],
        [
         "Skateboarding",
         177
        ],
        [
         "Running",
         172
        ],
        [
         "Kayaking",
         170
        ],
        [
         "Badminton",
         165
        ],
        [
         "Lacrosse",
         162
        ],
        [
         "Rugby",
         132
        ],
        [
         "Theater",
         103
        ],
        [
         "Swimming",
         91
        ],
        [
         "Bowling",
         74
        ],
        [
         "Snowmobile",
         56
        ],
        [
         "Intl soccer",
         42
        ],
        [
         "Water polo",
         40
        ],
        [
         "Holiday special",
         40
        ],
        [
         "Cheerleading",
         31
        ],
        [
         "Curling",
         31
        ],
        [
         "Beach volleyball",
         28
        ],
        [
         "Sailing",
         27
        ],
        [
         "Billiards",
         26
        ],
        [
         "Yacht racing",
         23
        ],
        [
         "Watersports",
         21
        ],
        [
         "Cricket",
         20
        ],
        [
         "Boat racing",
         14
        ],
        [
         "Bicycle",
         12
        ],
        [
         "Beach soccer",
         10
        ],
        [
         "Table tennis",
         6
        ],
        [
         "Darts",
         2
        ],
        [
         "Speed skating",
         2
        ],
        [
         "Field hockey",
         1
        ],
        [
         "Fencing",
         1
        ]
       ],
       "datasetInfos": [],
       "dbfsResultPath": null,
       "isJsonSchema": true,
       "metadata": {},
       "overflow": false,
       "plotOptions": {
        "customPlotOptions": {},
        "displayType": "table",
        "pivotAggregation": null,
        "pivotColumns": null,
        "xColumns": null,
        "yColumns": null
       },
       "removedWidgets": [],
       "schema": [
        {
         "metadata": "{}",
         "name": "genre",
         "type": "\"string\""
        },
        {
         "metadata": "{}",
         "name": "popularity",
         "type": "\"long\""
        }
       ],
       "type": "table"
      }
     },
     "output_type": "display_data"
    },
    {
     "output_type": "stream",
     "name": "stdout",
     "output_type": "stream",
     "text": [
      "\n\nData for: project1_part21_Washington_DC_Hagrstwn_324075548_326172756\n"
     ]
    },
    {
     "output_type": "display_data",
     "data": {
      "text/html": [
       "<style scoped>\n",
       "  .table-result-container {\n",
       "    max-height: 300px;\n",
       "    overflow: auto;\n",
       "  }\n",
       "  table, th, td {\n",
       "    border: 1px solid black;\n",
       "    border-collapse: collapse;\n",
       "  }\n",
       "  th, td {\n",
       "    padding: 5px;\n",
       "  }\n",
       "  th {\n",
       "    text-align: left;\n",
       "  }\n",
       "</style><div class='table-result-container'><table class='table-result'><thead style='background-color: white'><tr><th>genre</th><th>popularity</th></tr></thead><tbody><tr><td>Shopping</td><td>127192752</td></tr><tr><td>News</td><td>40869644</td></tr><tr><td>Sports non-event</td><td>30894549</td></tr><tr><td>Sports talk</td><td>29481797</td></tr><tr><td>Consumer</td><td>23704559</td></tr><tr><td>Music</td><td>9370470</td></tr><tr><td>Special</td><td>3695182</td></tr><tr><td>Religious</td><td>2361376</td></tr><tr><td>Talk</td><td>2361299</td></tr><tr><td>Sitcom</td><td>1729578</td></tr><tr><td>Comedy</td><td>1677053</td></tr><tr><td>Children</td><td>1495273</td></tr><tr><td>Football</td><td>1470497</td></tr><tr><td>Animated</td><td>1398295</td></tr><tr><td>Politics</td><td>1098969</td></tr><tr><td>Weather</td><td>1097812</td></tr><tr><td>Baseball</td><td>1045834</td></tr><tr><td>Reality</td><td>999268</td></tr><tr><td>Newsmagazine</td><td>963713</td></tr><tr><td>Educational</td><td>933435</td></tr><tr><td>Action</td><td>919620</td></tr><tr><td>Adventure</td><td>879875</td></tr><tr><td>Entertainment</td><td>674395</td></tr><tr><td>Drama</td><td>661838</td></tr><tr><td>Fantasy</td><td>538127</td></tr><tr><td>Suspense</td><td>527958</td></tr><tr><td>Public affairs</td><td>504731</td></tr><tr><td>Anthology</td><td>425773</td></tr><tr><td>Documentary</td><td>405422</td></tr><tr><td>Crime drama</td><td>402318</td></tr><tr><td>Science fiction</td><td>349190</td></tr><tr><td>Bus./financial</td><td>342586</td></tr><tr><td>Game show</td><td>326665</td></tr><tr><td>Crime</td><td>281874</td></tr><tr><td>Law</td><td>265876</td></tr><tr><td>Interview</td><td>255617</td></tr><tr><td>Health</td><td>243123</td></tr><tr><td>Variety</td><td>240504</td></tr><tr><td>Horror</td><td>224658</td></tr><tr><td>Science</td><td>204344</td></tr><tr><td>Romance-comedy</td><td>202654</td></tr><tr><td>Mystery</td><td>176993</td></tr><tr><td>Comedy-drama</td><td>168885</td></tr><tr><td>Romance</td><td>159238</td></tr><tr><td>Musical</td><td>158667</td></tr><tr><td>House/garden</td><td>147401</td></tr><tr><td>Western</td><td>125476</td></tr><tr><td>Outdoors</td><td>109589</td></tr><tr><td>Animals</td><td>108536</td></tr><tr><td>Sports event</td><td>106474</td></tr><tr><td>Home improvement</td><td>101063</td></tr><tr><td>Auto racing</td><td>95066</td></tr><tr><td>Medical</td><td>86440</td></tr><tr><td>Nature</td><td>81109</td></tr><tr><td>Biography</td><td>76390</td></tr><tr><td>Travel</td><td>76225</td></tr><tr><td>War</td><td>70170</td></tr><tr><td>Historical drama</td><td>69279</td></tr><tr><td>Cooking</td><td>69061</td></tr><tr><td>Mixed martial arts</td><td>67564</td></tr><tr><td>Golf</td><td>65767</td></tr><tr><td>History</td><td>61327</td></tr><tr><td>Docudrama</td><td>60825</td></tr><tr><td>Community</td><td>50836</td></tr><tr><td>How-to</td><td>50220</td></tr><tr><td>Poker</td><td>46700</td></tr><tr><td>Card games</td><td>46478</td></tr><tr><td>Action sports</td><td>40805</td></tr><tr><td>Auto</td><td>39606</td></tr><tr><td>Pro wrestling</td><td>37896</td></tr><tr><td>Paranormal</td><td>32385</td></tr><tr><td>Collectibles</td><td>32111</td></tr><tr><td>Fishing</td><td>31091</td></tr><tr><td>Agriculture</td><td>30091</td></tr><tr><td>Soccer</td><td>29707</td></tr><tr><td>Art</td><td>26062</td></tr><tr><td>Self improvement</td><td>25298</td></tr><tr><td>Basketball</td><td>24602</td></tr><tr><td>Horse</td><td>22902</td></tr><tr><td>Martial arts</td><td>21911</td></tr><tr><td>Fashion</td><td>20605</td></tr><tr><td>Musical comedy</td><td>19804</td></tr><tr><td>Standup</td><td>19728</td></tr><tr><td>Adults only</td><td>18315</td></tr><tr><td>Hunting</td><td>12981</td></tr><tr><td>Military</td><td>11167</td></tr><tr><td>Soap</td><td>10546</td></tr><tr><td>Auction</td><td>10337</td></tr><tr><td>Hockey</td><td>10110</td></tr><tr><td>Technology</td><td>9374</td></tr><tr><td>Arts/crafts</td><td>7799</td></tr><tr><td>Boxing</td><td>7716</td></tr><tr><td>Playoff sports</td><td>6537</td></tr><tr><td>Dance</td><td>5963</td></tr><tr><td>Softball</td><td>5468</td></tr><tr><td>Aviation</td><td>4712</td></tr><tr><td>Awards</td><td>4367</td></tr><tr><td>Wrestling</td><td>3129</td></tr><tr><td>Tennis</td><td>3019</td></tr><tr><td>Environment</td><td>2677</td></tr><tr><td>Gaming</td><td>2535</td></tr><tr><td>Parenting</td><td>2404</td></tr><tr><td>Boat</td><td>2385</td></tr><tr><td>Exercise</td><td>2008</td></tr><tr><td>Spanish</td><td>1946</td></tr><tr><td>Rodeo</td><td>1434</td></tr><tr><td>Computers</td><td>1364</td></tr><tr><td>Debate</td><td>902</td></tr><tr><td>Diving</td><td>712</td></tr><tr><td>Anime</td><td>697</td></tr><tr><td>Event</td><td>694</td></tr><tr><td>Cheerleading</td><td>657</td></tr><tr><td>Miniseries</td><td>652</td></tr><tr><td>Shooting</td><td>645</td></tr><tr><td>Motorcycle</td><td>507</td></tr><tr><td>Beach volleyball</td><td>493</td></tr><tr><td>Beach soccer</td><td>492</td></tr><tr><td>Motorsports</td><td>461</td></tr><tr><td>Fundraiser</td><td>451</td></tr><tr><td>Parade</td><td>426</td></tr><tr><td>Gay/lesbian</td><td>349</td></tr><tr><td>Lacrosse</td><td>310</td></tr><tr><td>Holiday</td><td>299</td></tr><tr><td>Performing arts</td><td>287</td></tr><tr><td>Motorcycle racing</td><td>257</td></tr><tr><td>Skiing</td><td>255</td></tr><tr><td>Weightlifting</td><td>248</td></tr><tr><td>Music special</td><td>218</td></tr><tr><td>Archery</td><td>216</td></tr><tr><td>Bicycle racing</td><td>192</td></tr><tr><td>Track/field</td><td>191</td></tr><tr><td>Volleyball</td><td>175</td></tr><tr><td>Arm wrestling</td><td>172</td></tr><tr><td>Watersports</td><td>166</td></tr><tr><td>Gymnastics</td><td>148</td></tr><tr><td>Figure skating</td><td>139</td></tr><tr><td>Snowboarding</td><td>139</td></tr><tr><td>Dog show</td><td>137</td></tr><tr><td>Rugby</td><td>109</td></tr><tr><td>Pool</td><td>104</td></tr><tr><td>Running</td><td>93</td></tr><tr><td>Olympics</td><td>92</td></tr><tr><td>Drag racing</td><td>63</td></tr><tr><td>Equestrian</td><td>63</td></tr><tr><td>Swimming</td><td>56</td></tr><tr><td>Triathlon</td><td>50</td></tr><tr><td>Water polo</td><td>32</td></tr><tr><td>Skateboarding</td><td>26</td></tr><tr><td>Holiday special</td><td>20</td></tr><tr><td>Sailing</td><td>19</td></tr><tr><td>Bowling</td><td>12</td></tr><tr><td>Field hockey</td><td>10</td></tr><tr><td>Dog racing</td><td>9</td></tr><tr><td>Intl soccer</td><td>8</td></tr><tr><td>Billiards</td><td>7</td></tr><tr><td>Kayaking</td><td>5</td></tr><tr><td>Children-special</td><td>3</td></tr><tr><td>Holiday-children special</td><td>2</td></tr><tr><td>Luge</td><td>2</td></tr><tr><td>Darts</td><td>1</td></tr></tbody></table></div>"
      ]
     },
     "metadata": {
      "application/vnd.databricks.v1+output": {
       "addedWidgets": {},
       "aggData": [],
       "aggError": "",
       "aggOverflow": false,
       "aggSchema": [],
       "aggSeriesLimitReached": false,
       "aggType": "",
       "arguments": {},
       "columnCustomDisplayInfos": {},
       "data": [
        [
         "Shopping",
         127192752
        ],
        [
         "News",
         40869644
        ],
        [
         "Sports non-event",
         30894549
        ],
        [
         "Sports talk",
         29481797
        ],
        [
         "Consumer",
         23704559
        ],
        [
         "Music",
         9370470
        ],
        [
         "Special",
         3695182
        ],
        [
         "Religious",
         2361376
        ],
        [
         "Talk",
         2361299
        ],
        [
         "Sitcom",
         1729578
        ],
        [
         "Comedy",
         1677053
        ],
        [
         "Children",
         1495273
        ],
        [
         "Football",
         1470497
        ],
        [
         "Animated",
         1398295
        ],
        [
         "Politics",
         1098969
        ],
        [
         "Weather",
         1097812
        ],
        [
         "Baseball",
         1045834
        ],
        [
         "Reality",
         999268
        ],
        [
         "Newsmagazine",
         963713
        ],
        [
         "Educational",
         933435
        ],
        [
         "Action",
         919620
        ],
        [
         "Adventure",
         879875
        ],
        [
         "Entertainment",
         674395
        ],
        [
         "Drama",
         661838
        ],
        [
         "Fantasy",
         538127
        ],
        [
         "Suspense",
         527958
        ],
        [
         "Public affairs",
         504731
        ],
        [
         "Anthology",
         425773
        ],
        [
         "Documentary",
         405422
        ],
        [
         "Crime drama",
         402318
        ],
        [
         "Science fiction",
         349190
        ],
        [
         "Bus./financial",
         342586
        ],
        [
         "Game show",
         326665
        ],
        [
         "Crime",
         281874
        ],
        [
         "Law",
         265876
        ],
        [
         "Interview",
         255617
        ],
        [
         "Health",
         243123
        ],
        [
         "Variety",
         240504
        ],
        [
         "Horror",
         224658
        ],
        [
         "Science",
         204344
        ],
        [
         "Romance-comedy",
         202654
        ],
        [
         "Mystery",
         176993
        ],
        [
         "Comedy-drama",
         168885
        ],
        [
         "Romance",
         159238
        ],
        [
         "Musical",
         158667
        ],
        [
         "House/garden",
         147401
        ],
        [
         "Western",
         125476
        ],
        [
         "Outdoors",
         109589
        ],
        [
         "Animals",
         108536
        ],
        [
         "Sports event",
         106474
        ],
        [
         "Home improvement",
         101063
        ],
        [
         "Auto racing",
         95066
        ],
        [
         "Medical",
         86440
        ],
        [
         "Nature",
         81109
        ],
        [
         "Biography",
         76390
        ],
        [
         "Travel",
         76225
        ],
        [
         "War",
         70170
        ],
        [
         "Historical drama",
         69279
        ],
        [
         "Cooking",
         69061
        ],
        [
         "Mixed martial arts",
         67564
        ],
        [
         "Golf",
         65767
        ],
        [
         "History",
         61327
        ],
        [
         "Docudrama",
         60825
        ],
        [
         "Community",
         50836
        ],
        [
         "How-to",
         50220
        ],
        [
         "Poker",
         46700
        ],
        [
         "Card games",
         46478
        ],
        [
         "Action sports",
         40805
        ],
        [
         "Auto",
         39606
        ],
        [
         "Pro wrestling",
         37896
        ],
        [
         "Paranormal",
         32385
        ],
        [
         "Collectibles",
         32111
        ],
        [
         "Fishing",
         31091
        ],
        [
         "Agriculture",
         30091
        ],
        [
         "Soccer",
         29707
        ],
        [
         "Art",
         26062
        ],
        [
         "Self improvement",
         25298
        ],
        [
         "Basketball",
         24602
        ],
        [
         "Horse",
         22902
        ],
        [
         "Martial arts",
         21911
        ],
        [
         "Fashion",
         20605
        ],
        [
         "Musical comedy",
         19804
        ],
        [
         "Standup",
         19728
        ],
        [
         "Adults only",
         18315
        ],
        [
         "Hunting",
         12981
        ],
        [
         "Military",
         11167
        ],
        [
         "Soap",
         10546
        ],
        [
         "Auction",
         10337
        ],
        [
         "Hockey",
         10110
        ],
        [
         "Technology",
         9374
        ],
        [
         "Arts/crafts",
         7799
        ],
        [
         "Boxing",
         7716
        ],
        [
         "Playoff sports",
         6537
        ],
        [
         "Dance",
         5963
        ],
        [
         "Softball",
         5468
        ],
        [
         "Aviation",
         4712
        ],
        [
         "Awards",
         4367
        ],
        [
         "Wrestling",
         3129
        ],
        [
         "Tennis",
         3019
        ],
        [
         "Environment",
         2677
        ],
        [
         "Gaming",
         2535
        ],
        [
         "Parenting",
         2404
        ],
        [
         "Boat",
         2385
        ],
        [
         "Exercise",
         2008
        ],
        [
         "Spanish",
         1946
        ],
        [
         "Rodeo",
         1434
        ],
        [
         "Computers",
         1364
        ],
        [
         "Debate",
         902
        ],
        [
         "Diving",
         712
        ],
        [
         "Anime",
         697
        ],
        [
         "Event",
         694
        ],
        [
         "Cheerleading",
         657
        ],
        [
         "Miniseries",
         652
        ],
        [
         "Shooting",
         645
        ],
        [
         "Motorcycle",
         507
        ],
        [
         "Beach volleyball",
         493
        ],
        [
         "Beach soccer",
         492
        ],
        [
         "Motorsports",
         461
        ],
        [
         "Fundraiser",
         451
        ],
        [
         "Parade",
         426
        ],
        [
         "Gay/lesbian",
         349
        ],
        [
         "Lacrosse",
         310
        ],
        [
         "Holiday",
         299
        ],
        [
         "Performing arts",
         287
        ],
        [
         "Motorcycle racing",
         257
        ],
        [
         "Skiing",
         255
        ],
        [
         "Weightlifting",
         248
        ],
        [
         "Music special",
         218
        ],
        [
         "Archery",
         216
        ],
        [
         "Bicycle racing",
         192
        ],
        [
         "Track/field",
         191
        ],
        [
         "Volleyball",
         175
        ],
        [
         "Arm wrestling",
         172
        ],
        [
         "Watersports",
         166
        ],
        [
         "Gymnastics",
         148
        ],
        [
         "Figure skating",
         139
        ],
        [
         "Snowboarding",
         139
        ],
        [
         "Dog show",
         137
        ],
        [
         "Rugby",
         109
        ],
        [
         "Pool",
         104
        ],
        [
         "Running",
         93
        ],
        [
         "Olympics",
         92
        ],
        [
         "Drag racing",
         63
        ],
        [
         "Equestrian",
         63
        ],
        [
         "Swimming",
         56
        ],
        [
         "Triathlon",
         50
        ],
        [
         "Water polo",
         32
        ],
        [
         "Skateboarding",
         26
        ],
        [
         "Holiday special",
         20
        ],
        [
         "Sailing",
         19
        ],
        [
         "Bowling",
         12
        ],
        [
         "Field hockey",
         10
        ],
        [
         "Dog racing",
         9
        ],
        [
         "Intl soccer",
         8
        ],
        [
         "Billiards",
         7
        ],
        [
         "Kayaking",
         5
        ],
        [
         "Children-special",
         3
        ],
        [
         "Holiday-children special",
         2
        ],
        [
         "Luge",
         2
        ],
        [
         "Darts",
         1
        ]
       ],
       "datasetInfos": [],
       "dbfsResultPath": null,
       "isJsonSchema": true,
       "metadata": {},
       "overflow": false,
       "plotOptions": {
        "customPlotOptions": {},
        "displayType": "table",
        "pivotAggregation": null,
        "pivotColumns": null,
        "xColumns": null,
        "yColumns": null
       },
       "removedWidgets": [],
       "schema": [
        {
         "metadata": "{}",
         "name": "genre",
         "type": "\"string\""
        },
        {
         "metadata": "{}",
         "name": "popularity",
         "type": "\"long\""
        }
       ],
       "type": "table"
      }
     },
     "output_type": "display_data"
    },
    {
     "output_type": "stream",
     "name": "stdout",
     "output_type": "stream",
     "text": [
      "\n\nData for: project1_part21_Houston_324075548_326172756\n"
     ]
    },
    {
     "output_type": "display_data",
     "data": {
      "text/html": [
       "<style scoped>\n",
       "  .table-result-container {\n",
       "    max-height: 300px;\n",
       "    overflow: auto;\n",
       "  }\n",
       "  table, th, td {\n",
       "    border: 1px solid black;\n",
       "    border-collapse: collapse;\n",
       "  }\n",
       "  th, td {\n",
       "    padding: 5px;\n",
       "  }\n",
       "  th {\n",
       "    text-align: left;\n",
       "  }\n",
       "</style><div class='table-result-container'><table class='table-result'><thead style='background-color: white'><tr><th>genre</th><th>popularity</th></tr></thead><tbody><tr><td>Shopping</td><td>193665263</td></tr><tr><td>News</td><td>61742339</td></tr><tr><td>Consumer</td><td>43925123</td></tr><tr><td>Sports talk</td><td>36959975</td></tr><tr><td>Sports non-event</td><td>36889521</td></tr><tr><td>Music</td><td>8321993</td></tr><tr><td>Special</td><td>5598059</td></tr><tr><td>Talk</td><td>4216699</td></tr><tr><td>Religious</td><td>3945243</td></tr><tr><td>Children</td><td>2987073</td></tr><tr><td>Sitcom</td><td>2789435</td></tr><tr><td>Animated</td><td>2383776</td></tr><tr><td>Comedy</td><td>2287309</td></tr><tr><td>Educational</td><td>2268099</td></tr><tr><td>Politics</td><td>2220791</td></tr><tr><td>Entertainment</td><td>1883154</td></tr><tr><td>Newsmagazine</td><td>1802028</td></tr><tr><td>Drama</td><td>1466150</td></tr><tr><td>Reality</td><td>1301494</td></tr><tr><td>Weather</td><td>1115473</td></tr><tr><td>Adventure</td><td>1096232</td></tr><tr><td>Action</td><td>1046412</td></tr><tr><td>Football</td><td>1007445</td></tr><tr><td>Comedy-drama</td><td>867071</td></tr><tr><td>Interview</td><td>798728</td></tr><tr><td>Game show</td><td>754553</td></tr><tr><td>Soap</td><td>615129</td></tr><tr><td>Fantasy</td><td>605962</td></tr><tr><td>Suspense</td><td>567381</td></tr><tr><td>Variety</td><td>539008</td></tr><tr><td>Bus./financial</td><td>534359</td></tr><tr><td>Crime drama</td><td>479052</td></tr><tr><td>Documentary</td><td>478819</td></tr><tr><td>Science fiction</td><td>459832</td></tr><tr><td>Public affairs</td><td>440719</td></tr><tr><td>Anthology</td><td>362511</td></tr><tr><td>Romance</td><td>353977</td></tr><tr><td>Crime</td><td>346825</td></tr><tr><td>Musical</td><td>336001</td></tr><tr><td>Golf</td><td>282270</td></tr><tr><td>Law</td><td>264765</td></tr><tr><td>House/garden</td><td>244216</td></tr><tr><td>Health</td><td>236872</td></tr><tr><td>Mystery</td><td>210647</td></tr><tr><td>Horror</td><td>209207</td></tr><tr><td>Romance-comedy</td><td>190366</td></tr><tr><td>Travel</td><td>171401</td></tr><tr><td>Home improvement</td><td>149484</td></tr><tr><td>Western</td><td>133063</td></tr><tr><td>Science</td><td>121755</td></tr><tr><td>Animals</td><td>112424</td></tr><tr><td>History</td><td>103448</td></tr><tr><td>Sports event</td><td>88874</td></tr><tr><td>Nature</td><td>87923</td></tr><tr><td>Baseball</td><td>84923</td></tr><tr><td>War</td><td>84842</td></tr><tr><td>Cooking</td><td>84618</td></tr><tr><td>Soccer</td><td>82833</td></tr><tr><td>Medical</td><td>73957</td></tr><tr><td>Docudrama</td><td>70959</td></tr><tr><td>Outdoors</td><td>70172</td></tr><tr><td>Basketball</td><td>69667</td></tr><tr><td>Historical drama</td><td>64736</td></tr><tr><td>Community</td><td>64382</td></tr><tr><td>Biography</td><td>58305</td></tr><tr><td>Paranormal</td><td>58181</td></tr><tr><td>How-to</td><td>57312</td></tr><tr><td>Auto</td><td>48820</td></tr><tr><td>Auto racing</td><td>45150</td></tr><tr><td>Collectibles</td><td>30981</td></tr><tr><td>Fashion</td><td>28658</td></tr><tr><td>Spanish</td><td>22848</td></tr><tr><td>Mixed martial arts</td><td>22236</td></tr><tr><td>Martial arts</td><td>22116</td></tr><tr><td>Self improvement</td><td>21930</td></tr><tr><td>Agriculture</td><td>20676</td></tr><tr><td>Art</td><td>20080</td></tr><tr><td>Hunting</td><td>19484</td></tr><tr><td>Standup</td><td>18886</td></tr><tr><td>Adults only</td><td>16610</td></tr><tr><td>Auction</td><td>16235</td></tr><tr><td>Musical comedy</td><td>16221</td></tr><tr><td>Dance</td><td>11911</td></tr><tr><td>Playoff sports</td><td>11837</td></tr><tr><td>Fishing</td><td>11686</td></tr><tr><td>Parenting</td><td>10666</td></tr><tr><td>Poker</td><td>9810</td></tr><tr><td>Card games</td><td>9615</td></tr><tr><td>Pro wrestling</td><td>8006</td></tr><tr><td>Boxing</td><td>7728</td></tr><tr><td>Technology</td><td>7284</td></tr><tr><td>Wrestling</td><td>6818</td></tr><tr><td>Hockey</td><td>6650</td></tr><tr><td>Aviation</td><td>6220</td></tr><tr><td>Military</td><td>6097</td></tr><tr><td>Exercise</td><td>5105</td></tr><tr><td>Action sports</td><td>4664</td></tr><tr><td>Arts/crafts</td><td>3401</td></tr><tr><td>Awards</td><td>3380</td></tr><tr><td>Gaming</td><td>2705</td></tr><tr><td>Environment</td><td>2672</td></tr><tr><td>Fundraiser</td><td>1800</td></tr><tr><td>Event</td><td>1729</td></tr><tr><td>Shooting</td><td>1611</td></tr><tr><td>Anime</td><td>1606</td></tr><tr><td>Computers</td><td>1604</td></tr><tr><td>Motorsports</td><td>1476</td></tr><tr><td>Rodeo</td><td>1185</td></tr><tr><td>Debate</td><td>1079</td></tr><tr><td>Weightlifting</td><td>745</td></tr><tr><td>Softball</td><td>742</td></tr><tr><td>Miniseries</td><td>726</td></tr><tr><td>Diving</td><td>717</td></tr><tr><td>Surfing</td><td>717</td></tr><tr><td>Dog show</td><td>685</td></tr><tr><td>Motorcycle racing</td><td>661</td></tr><tr><td>Snowmobile</td><td>652</td></tr><tr><td>Motorcycle</td><td>639</td></tr><tr><td>Parade</td><td>625</td></tr><tr><td>Tennis</td><td>566</td></tr><tr><td>Horse</td><td>547</td></tr><tr><td>Skiing</td><td>531</td></tr><tr><td>Volleyball</td><td>509</td></tr><tr><td>Kayaking</td><td>487</td></tr><tr><td>Track/field</td><td>450</td></tr><tr><td>Boat</td><td>380</td></tr><tr><td>Equestrian</td><td>305</td></tr><tr><td>Gymnastics</td><td>266</td></tr><tr><td>Archery</td><td>263</td></tr><tr><td>Figure skating</td><td>261</td></tr><tr><td>Triathlon</td><td>257</td></tr><tr><td>Olympics</td><td>234</td></tr><tr><td>Bicycle racing</td><td>233</td></tr><tr><td>Snowboarding</td><td>231</td></tr><tr><td>Performing arts</td><td>226</td></tr><tr><td>Rugby</td><td>219</td></tr><tr><td>Arm wrestling</td><td>203</td></tr><tr><td>Running</td><td>177</td></tr><tr><td>Gay/lesbian</td><td>149</td></tr><tr><td>Swimming</td><td>134</td></tr><tr><td>Pool</td><td>128</td></tr><tr><td>Drag racing</td><td>83</td></tr><tr><td>Skateboarding</td><td>73</td></tr><tr><td>Theater</td><td>72</td></tr><tr><td>Bowling</td><td>66</td></tr><tr><td>Music special</td><td>44</td></tr><tr><td>Beach volleyball</td><td>41</td></tr><tr><td>Yacht racing</td><td>38</td></tr><tr><td>Lacrosse</td><td>37</td></tr><tr><td>Beach soccer</td><td>33</td></tr><tr><td>Water polo</td><td>32</td></tr><tr><td>Holiday special</td><td>23</td></tr><tr><td>Watersports</td><td>22</td></tr><tr><td>Intl soccer</td><td>22</td></tr><tr><td>Sailing</td><td>20</td></tr><tr><td>Curling</td><td>17</td></tr><tr><td>Cheerleading</td><td>14</td></tr><tr><td>Table tennis</td><td>11</td></tr><tr><td>Holiday</td><td>10</td></tr><tr><td>Holiday-children special</td><td>6</td></tr><tr><td>Boat racing</td><td>5</td></tr><tr><td>Billiards</td><td>5</td></tr><tr><td>Field hockey</td><td>4</td></tr><tr><td>Cricket</td><td>4</td></tr><tr><td>Bobsled</td><td>3</td></tr><tr><td>Polo</td><td>1</td></tr><tr><td>Luge</td><td>1</td></tr></tbody></table></div>"
      ]
     },
     "metadata": {
      "application/vnd.databricks.v1+output": {
       "addedWidgets": {},
       "aggData": [],
       "aggError": "",
       "aggOverflow": false,
       "aggSchema": [],
       "aggSeriesLimitReached": false,
       "aggType": "",
       "arguments": {},
       "columnCustomDisplayInfos": {},
       "data": [
        [
         "Shopping",
         193665263
        ],
        [
         "News",
         61742339
        ],
        [
         "Consumer",
         43925123
        ],
        [
         "Sports talk",
         36959975
        ],
        [
         "Sports non-event",
         36889521
        ],
        [
         "Music",
         8321993
        ],
        [
         "Special",
         5598059
        ],
        [
         "Talk",
         4216699
        ],
        [
         "Religious",
         3945243
        ],
        [
         "Children",
         2987073
        ],
        [
         "Sitcom",
         2789435
        ],
        [
         "Animated",
         2383776
        ],
        [
         "Comedy",
         2287309
        ],
        [
         "Educational",
         2268099
        ],
        [
         "Politics",
         2220791
        ],
        [
         "Entertainment",
         1883154
        ],
        [
         "Newsmagazine",
         1802028
        ],
        [
         "Drama",
         1466150
        ],
        [
         "Reality",
         1301494
        ],
        [
         "Weather",
         1115473
        ],
        [
         "Adventure",
         1096232
        ],
        [
         "Action",
         1046412
        ],
        [
         "Football",
         1007445
        ],
        [
         "Comedy-drama",
         867071
        ],
        [
         "Interview",
         798728
        ],
        [
         "Game show",
         754553
        ],
        [
         "Soap",
         615129
        ],
        [
         "Fantasy",
         605962
        ],
        [
         "Suspense",
         567381
        ],
        [
         "Variety",
         539008
        ],
        [
         "Bus./financial",
         534359
        ],
        [
         "Crime drama",
         479052
        ],
        [
         "Documentary",
         478819
        ],
        [
         "Science fiction",
         459832
        ],
        [
         "Public affairs",
         440719
        ],
        [
         "Anthology",
         362511
        ],
        [
         "Romance",
         353977
        ],
        [
         "Crime",
         346825
        ],
        [
         "Musical",
         336001
        ],
        [
         "Golf",
         282270
        ],
        [
         "Law",
         264765
        ],
        [
         "House/garden",
         244216
        ],
        [
         "Health",
         236872
        ],
        [
         "Mystery",
         210647
        ],
        [
         "Horror",
         209207
        ],
        [
         "Romance-comedy",
         190366
        ],
        [
         "Travel",
         171401
        ],
        [
         "Home improvement",
         149484
        ],
        [
         "Western",
         133063
        ],
        [
         "Science",
         121755
        ],
        [
         "Animals",
         112424
        ],
        [
         "History",
         103448
        ],
        [
         "Sports event",
         88874
        ],
        [
         "Nature",
         87923
        ],
        [
         "Baseball",
         84923
        ],
        [
         "War",
         84842
        ],
        [
         "Cooking",
         84618
        ],
        [
         "Soccer",
         82833
        ],
        [
         "Medical",
         73957
        ],
        [
         "Docudrama",
         70959
        ],
        [
         "Outdoors",
         70172
        ],
        [
         "Basketball",
         69667
        ],
        [
         "Historical drama",
         64736
        ],
        [
         "Community",
         64382
        ],
        [
         "Biography",
         58305
        ],
        [
         "Paranormal",
         58181
        ],
        [
         "How-to",
         57312
        ],
        [
         "Auto",
         48820
        ],
        [
         "Auto racing",
         45150
        ],
        [
         "Collectibles",
         30981
        ],
        [
         "Fashion",
         28658
        ],
        [
         "Spanish",
         22848
        ],
        [
         "Mixed martial arts",
         22236
        ],
        [
         "Martial arts",
         22116
        ],
        [
         "Self improvement",
         21930
        ],
        [
         "Agriculture",
         20676
        ],
        [
         "Art",
         20080
        ],
        [
         "Hunting",
         19484
        ],
        [
         "Standup",
         18886
        ],
        [
         "Adults only",
         16610
        ],
        [
         "Auction",
         16235
        ],
        [
         "Musical comedy",
         16221
        ],
        [
         "Dance",
         11911
        ],
        [
         "Playoff sports",
         11837
        ],
        [
         "Fishing",
         11686
        ],
        [
         "Parenting",
         10666
        ],
        [
         "Poker",
         9810
        ],
        [
         "Card games",
         9615
        ],
        [
         "Pro wrestling",
         8006
        ],
        [
         "Boxing",
         7728
        ],
        [
         "Technology",
         7284
        ],
        [
         "Wrestling",
         6818
        ],
        [
         "Hockey",
         6650
        ],
        [
         "Aviation",
         6220
        ],
        [
         "Military",
         6097
        ],
        [
         "Exercise",
         5105
        ],
        [
         "Action sports",
         4664
        ],
        [
         "Arts/crafts",
         3401
        ],
        [
         "Awards",
         3380
        ],
        [
         "Gaming",
         2705
        ],
        [
         "Environment",
         2672
        ],
        [
         "Fundraiser",
         1800
        ],
        [
         "Event",
         1729
        ],
        [
         "Shooting",
         1611
        ],
        [
         "Anime",
         1606
        ],
        [
         "Computers",
         1604
        ],
        [
         "Motorsports",
         1476
        ],
        [
         "Rodeo",
         1185
        ],
        [
         "Debate",
         1079
        ],
        [
         "Weightlifting",
         745
        ],
        [
         "Softball",
         742
        ],
        [
         "Miniseries",
         726
        ],
        [
         "Diving",
         717
        ],
        [
         "Surfing",
         717
        ],
        [
         "Dog show",
         685
        ],
        [
         "Motorcycle racing",
         661
        ],
        [
         "Snowmobile",
         652
        ],
        [
         "Motorcycle",
         639
        ],
        [
         "Parade",
         625
        ],
        [
         "Tennis",
         566
        ],
        [
         "Horse",
         547
        ],
        [
         "Skiing",
         531
        ],
        [
         "Volleyball",
         509
        ],
        [
         "Kayaking",
         487
        ],
        [
         "Track/field",
         450
        ],
        [
         "Boat",
         380
        ],
        [
         "Equestrian",
         305
        ],
        [
         "Gymnastics",
         266
        ],
        [
         "Archery",
         263
        ],
        [
         "Figure skating",
         261
        ],
        [
         "Triathlon",
         257
        ],
        [
         "Olympics",
         234
        ],
        [
         "Bicycle racing",
         233
        ],
        [
         "Snowboarding",
         231
        ],
        [
         "Performing arts",
         226
        ],
        [
         "Rugby",
         219
        ],
        [
         "Arm wrestling",
         203
        ],
        [
         "Running",
         177
        ],
        [
         "Gay/lesbian",
         149
        ],
        [
         "Swimming",
         134
        ],
        [
         "Pool",
         128
        ],
        [
         "Drag racing",
         83
        ],
        [
         "Skateboarding",
         73
        ],
        [
         "Theater",
         72
        ],
        [
         "Bowling",
         66
        ],
        [
         "Music special",
         44
        ],
        [
         "Beach volleyball",
         41
        ],
        [
         "Yacht racing",
         38
        ],
        [
         "Lacrosse",
         37
        ],
        [
         "Beach soccer",
         33
        ],
        [
         "Water polo",
         32
        ],
        [
         "Holiday special",
         23
        ],
        [
         "Watersports",
         22
        ],
        [
         "Intl soccer",
         22
        ],
        [
         "Sailing",
         20
        ],
        [
         "Curling",
         17
        ],
        [
         "Cheerleading",
         14
        ],
        [
         "Table tennis",
         11
        ],
        [
         "Holiday",
         10
        ],
        [
         "Holiday-children special",
         6
        ],
        [
         "Boat racing",
         5
        ],
        [
         "Billiards",
         5
        ],
        [
         "Field hockey",
         4
        ],
        [
         "Cricket",
         4
        ],
        [
         "Bobsled",
         3
        ],
        [
         "Polo",
         1
        ],
        [
         "Luge",
         1
        ]
       ],
       "datasetInfos": [],
       "dbfsResultPath": null,
       "isJsonSchema": true,
       "metadata": {},
       "overflow": false,
       "plotOptions": {
        "customPlotOptions": {},
        "displayType": "table",
        "pivotAggregation": null,
        "pivotColumns": null,
        "xColumns": null,
        "yColumns": null
       },
       "removedWidgets": [],
       "schema": [
        {
         "metadata": "{}",
         "name": "genre",
         "type": "\"string\""
        },
        {
         "metadata": "{}",
         "name": "popularity",
         "type": "\"long\""
        }
       ],
       "type": "table"
      }
     },
     "output_type": "display_data"
    },
    {
     "output_type": "stream",
     "name": "stdout",
     "output_type": "stream",
     "text": [
      "\n\nTop 10 genres for DMA: Wilkes Barre-Scranton-Hztn\n+----------------+----------+\n|genre           |popularity|\n+----------------+----------+\n|Shopping        |261219839 |\n|News            |148852784 |\n|Sports non-event|85822616  |\n|Sports talk     |85567230  |\n|Weather         |64017959  |\n|Consumer        |56866440  |\n|Music           |49066687  |\n|Special         |11731614  |\n|Variety         |10097387  |\n|Talk            |8871315   |\n+----------------+----------+\nonly showing top 10 rows\n\nTop 10 genres for DMA: Little Rock-Pine Bluff\n+----------------+----------+\n|genre           |popularity|\n+----------------+----------+\n|Shopping        |329229821 |\n|News            |72654700  |\n|Sports non-event|46145770  |\n|Sports talk     |44502530  |\n|Consumer        |38487341  |\n|Music           |12236128  |\n|Special         |9423872   |\n|Religious       |4977461   |\n|Talk            |4524141   |\n|Sitcom          |3377080   |\n+----------------+----------+\nonly showing top 10 rows\n\nTop 10 genres for DMA: Washington, DC (Hagrstwn)\n+----------------+----------+\n|genre           |popularity|\n+----------------+----------+\n|Shopping        |127192752 |\n|News            |40869644  |\n|Sports non-event|30894549  |\n|Sports talk     |29481797  |\n|Consumer        |23704559  |\n|Music           |9370470   |\n|Special         |3695182   |\n|Religious       |2361376   |\n|Talk            |2361299   |\n|Sitcom          |1729578   |\n+----------------+----------+\nonly showing top 10 rows\n\n"
     ]
    }
   ],
   "source": [
    "from pyspark.sql.types import *\n",
    "from pyspark.sql.functions import col, lower, when, dayofweek, to_date, lit, avg, from_unixtime, unix_timestamp, array_contains, split, first, countDistinct, count, explode\n",
    "from pyspark.sql import SparkSession\n",
    "import re\n",
    "\n",
    "spark = SparkSession.builder.appName(\"DDMS2024_Project1\").getOrCreate()\n",
    "sc = spark.sparkContext\n",
    "\n",
    "# This dict holds the correct schemata for easily loading the CSVs\n",
    "schemas_dict = {\n",
    "    'Daily program data': StructType([\n",
    "        StructField('prog_code', StringType()),\n",
    "        StructField('title', StringType()),\n",
    "        StructField('genre', StringType()),\n",
    "        StructField('air_date', StringType()),\n",
    "        StructField('air_time', StringType()),\n",
    "        StructField('Duration', FloatType())\n",
    "    ]),\n",
    "    'viewing': StructType([\n",
    "        StructField('device_id', StringType()),\n",
    "        StructField('event_date', StringType()),\n",
    "        StructField('event_time', IntegerType()),\n",
    "        StructField('mso_code', StringType()),\n",
    "        StructField('prog_code', StringType()),\n",
    "        StructField('station_num', StringType())\n",
    "    ]),\n",
    "    'viewing_full': StructType([\n",
    "        StructField('mso_code', StringType()),\n",
    "        StructField('device_id', StringType()),\n",
    "        StructField('event_date', IntegerType()),\n",
    "        StructField('event_time', IntegerType()),\n",
    "        StructField('station_num', StringType()),\n",
    "        StructField('prog_code', StringType())\n",
    "    ]),\n",
    "    'demographic': StructType([\n",
    "        StructField('household_id', StringType()),\n",
    "        StructField('household_size', IntegerType()),\n",
    "        StructField('num_adults', IntegerType()),\n",
    "        StructField('num_generations', IntegerType()),\n",
    "        StructField('adult_range', StringType()),\n",
    "        StructField('marital_status', StringType()),\n",
    "        StructField('race_code', StringType()),\n",
    "        StructField('presence_children', StringType()),\n",
    "        StructField('num_children', IntegerType()),\n",
    "        StructField('age_children', StringType()),  # format like range - 'bitwise'\n",
    "        StructField('age_range_children', StringType()),\n",
    "        StructField('dwelling_type', StringType()),\n",
    "        StructField('home_owner_status', StringType()),\n",
    "        StructField('length_residence', IntegerType()),\n",
    "        StructField('home_market_value', StringType()),\n",
    "        StructField('num_vehicles', IntegerType()),\n",
    "        StructField('vehicle_make', StringType()),\n",
    "        StructField('vehicle_model', StringType()),\n",
    "        StructField('vehicle_year', IntegerType()),\n",
    "        StructField('net_worth', IntegerType()),\n",
    "        StructField('income', StringType()),\n",
    "        StructField('gender_individual', StringType()),\n",
    "        StructField('age_individual', IntegerType()),\n",
    "        StructField('education_highest', StringType()),\n",
    "        StructField('occupation_highest', StringType()),\n",
    "        StructField('education_1', StringType()),\n",
    "        StructField('occupation_1', StringType()),\n",
    "        StructField('age_2', IntegerType()),\n",
    "        StructField('education_2', StringType()),\n",
    "        StructField('occupation_2', StringType()),\n",
    "        StructField('age_3', IntegerType()),\n",
    "        StructField('education_3', StringType()),\n",
    "        StructField('occupation_3', StringType()),\n",
    "        StructField('age_4', IntegerType()),\n",
    "        StructField('education_4', StringType()),\n",
    "        StructField('occupation_4', StringType()),\n",
    "        StructField('age_5', IntegerType()),\n",
    "        StructField('education_5', StringType()),\n",
    "        StructField('occupation_5', StringType()),\n",
    "        StructField('polit_party_regist', StringType()),\n",
    "        StructField('polit_party_input', StringType()),\n",
    "        StructField('household_clusters', StringType()),\n",
    "        StructField('insurance_groups', StringType()),\n",
    "        StructField('financial_groups', StringType()),\n",
    "        StructField('green_living', StringType())\n",
    "    ])\n",
    "}\n",
    "\n",
    "# Read a CSV into a dataframe\n",
    "def load_csv_file(filename, schema):\n",
    "    allowed_files = {\n",
    "        'Daily program data': ('Daily program data', \"|\"),\n",
    "        'demographic': ('demographic', \"|\")\n",
    "    }\n",
    "\n",
    "    if filename not in allowed_files.keys():\n",
    "        print(f'You were trying to access unknown file \\\"{filename}\\\". Only valid options are {allowed_files.keys()}')\n",
    "        return None\n",
    "\n",
    "    filepath = allowed_files[filename][0]\n",
    "    dataPath = f\"dbfs:/mnt/coursedata2024/fwm-stb-data/{filepath}\"\n",
    "    delimiter = allowed_files[filename][1]\n",
    "\n",
    "    df = spark.read.format(\"csv\")\\\n",
    "        .option(\"header\", \"false\")\\\n",
    "        .option(\"delimiter\", delimiter)\\\n",
    "        .schema(schema)\\\n",
    "        .load(dataPath)\n",
    "    return df\n",
    "\n",
    "\n",
    "# Load the data\n",
    "demographic_data = load_csv_file('demographic', schemas_dict['demographic'])\n",
    "daily_program_data = load_csv_file('Daily program data', schemas_dict['Daily program data'])\n",
    "reference_data = spark.read.parquet('dbfs:/refxml_new_parquet')\n",
    "dataPath = f\"dbfs:/viewing_10M\"\n",
    "program_viewing_data = spark.read.format(\"csv\")\\\n",
    "    .option(\"header\", \"true\")\\\n",
    "    .option(\"delimiter\", \",\")\\\n",
    "    .schema(schemas_dict['viewing_full'])\\\n",
    "    .load(dataPath)\n",
    "\n",
    "# Filter out 'Unknown' DMA\n",
    "reference_data = reference_data.filter(reference_data.dma != 'Unknown')\n",
    "\n",
    "# Get top 10 DMAs by number of devices\n",
    "top_dmas = (reference_data.groupBy(\"dma\")\n",
    "            .agg(count(\"device_id\").alias(\"device_count\"))\n",
    "            .orderBy(col(\"device_count\").desc())\n",
    "            .limit(10)\n",
    "            .collect())\n",
    "\n",
    "top_dma_names = [row['dma'] for row in top_dmas]\n",
    "\n",
    "# Explode genres into individual rows\n",
    "daily_program_data = daily_program_data.withColumn(\"genre\", explode(split(col(\"genre\"), \",\")))\n",
    "\n",
    "# Join dataframes to get DMA and genres together\n",
    "viewing_with_dma = (program_viewing_data.join(reference_data, \"device_id\")\n",
    "                    .join(daily_program_data, \"prog_code\")\n",
    "                    .select(\"dma\", \"genre\"))\n",
    "\n",
    "# Function to sanitize DMA name\n",
    "def sanitize_dma_name(dma_name):\n",
    "    # Replace spaces with underscores and remove special characters\n",
    "    return re.sub(r'\\W+', '', dma_name.replace(\" \", \"_\"))\n",
    "\n",
    "# Function to create and save genre-popularity dataframe for each DMA\n",
    "def create_genre_popularity_df(dma_name):\n",
    "    genre_popularity = (viewing_with_dma.filter(col(\"dma\") == dma_name)\n",
    "                        .groupBy(\"genre\")\n",
    "                        .agg(count(\"genre\").alias(\"popularity\"))\n",
    "                        .orderBy(col(\"popularity\").desc()))\n",
    "    return genre_popularity\n",
    "\n",
    "\n",
    "#Our ids\n",
    "id1 = \"324075548\"\n",
    "id2 = \"326172756\"\n",
    "\n",
    "# Display sample DataFrames for all top 10 DMAs\n",
    "for dma_name in top_dma_names:\n",
    "    sanitized_dma_name = sanitize_dma_name(dma_name)\n",
    "    file_name = f\"project1_part21_{sanitized_dma_name}_{id1}_{id2}\"\n",
    "    print(f\"Data for: {file_name}\")\n",
    "    sample_df = create_genre_popularity_df(dma_name)\n",
    "    display(sample_df)\n",
    "    print(\"\\n\")\n",
    "\n",
    "# Show the top 10 genres for the 1st, 5th, and 9th largest DMAs\n",
    "for index in [0, 4, 8]:\n",
    "    dma_name = top_dma_names[index]\n",
    "    print(f\"Top 10 genres for DMA: {dma_name}\")\n",
    "    create_genre_popularity_df(dma_name).show(10, truncate=False)\n"
   ]
  },
  {
   "cell_type": "markdown",
   "metadata": {
    "application/vnd.databricks.v1+cell": {
     "cellMetadata": {},
     "inputWidgets": {},
     "nuid": "f2ead404-5f11-4fb3-a99b-e82e328fe7b8",
     "showTitle": false,
     "title": ""
    }
   },
   "source": [
    "## 2.2"
   ]
  },
  {
   "cell_type": "code",
   "execution_count": 0,
   "metadata": {
    "application/vnd.databricks.v1+cell": {
     "cellMetadata": {
      "byteLimit": 2048000,
      "rowLimit": 10000
     },
     "inputWidgets": {},
     "nuid": "b54e3e98-f365-488d-8ad9-300b4633f18b",
     "showTitle": false,
     "title": ""
    }
   },
   "outputs": [
    {
     "output_type": "stream",
     "name": "stdout",
     "output_type": "stream",
     "text": [
      "\nData for: project1_part22_San_Antonio_324075548_326172756.csv\n"
     ]
    },
    {
     "output_type": "display_data",
     "data": {
      "text/html": [
       "<style scoped>\n",
       "  .table-result-container {\n",
       "    max-height: 300px;\n",
       "    overflow: auto;\n",
       "  }\n",
       "  table, th, td {\n",
       "    border: 1px solid black;\n",
       "    border-collapse: collapse;\n",
       "  }\n",
       "  th, td {\n",
       "    padding: 5px;\n",
       "  }\n",
       "  th {\n",
       "    text-align: left;\n",
       "  }\n",
       "</style><div class='table-result-container'><table class='table-result'><thead style='background-color: white'><tr><th>DMA NAME</th><th>WEALTH SCORE</th><th>ORDERED LIST OF GENRES</th></tr></thead><tbody><tr><td>San Antonio</td><td>0.811965811965812</td><td>News</td></tr><tr><td>San Antonio</td><td>0.811965811965812</td><td>Weather</td></tr><tr><td>San Antonio</td><td>0.811965811965812</td><td>Sitcom</td></tr><tr><td>San Antonio</td><td>0.811965811965812</td><td>Newsmagazine</td></tr><tr><td>San Antonio</td><td>0.811965811965812</td><td>Comedy</td></tr><tr><td>San Antonio</td><td>0.811965811965812</td><td>Talk</td></tr><tr><td>San Antonio</td><td>0.811965811965812</td><td>Auto</td></tr><tr><td>San Antonio</td><td>0.811965811965812</td><td>Reality</td></tr><tr><td>San Antonio</td><td>0.811965811965812</td><td>Cooking</td></tr><tr><td>San Antonio</td><td>0.811965811965812</td><td>Drama</td></tr><tr><td>San Antonio</td><td>0.811965811965812</td><td>Western</td></tr></tbody></table></div>"
      ]
     },
     "metadata": {
      "application/vnd.databricks.v1+output": {
       "addedWidgets": {},
       "aggData": [],
       "aggError": "",
       "aggOverflow": false,
       "aggSchema": [],
       "aggSeriesLimitReached": false,
       "aggType": "",
       "arguments": {},
       "columnCustomDisplayInfos": {},
       "data": [
        [
         "San Antonio",
         0.811965811965812,
         "News"
        ],
        [
         "San Antonio",
         0.811965811965812,
         "Weather"
        ],
        [
         "San Antonio",
         0.811965811965812,
         "Sitcom"
        ],
        [
         "San Antonio",
         0.811965811965812,
         "Newsmagazine"
        ],
        [
         "San Antonio",
         0.811965811965812,
         "Comedy"
        ],
        [
         "San Antonio",
         0.811965811965812,
         "Talk"
        ],
        [
         "San Antonio",
         0.811965811965812,
         "Auto"
        ],
        [
         "San Antonio",
         0.811965811965812,
         "Reality"
        ],
        [
         "San Antonio",
         0.811965811965812,
         "Cooking"
        ],
        [
         "San Antonio",
         0.811965811965812,
         "Drama"
        ],
        [
         "San Antonio",
         0.811965811965812,
         "Western"
        ]
       ],
       "datasetInfos": [],
       "dbfsResultPath": null,
       "isJsonSchema": true,
       "metadata": {},
       "overflow": false,
       "plotOptions": {
        "customPlotOptions": {},
        "displayType": "table",
        "pivotAggregation": null,
        "pivotColumns": null,
        "xColumns": null,
        "yColumns": null
       },
       "removedWidgets": [],
       "schema": [
        {
         "metadata": "{}",
         "name": "DMA NAME",
         "type": "\"string\""
        },
        {
         "metadata": "{}",
         "name": "WEALTH SCORE",
         "type": "\"double\""
        },
        {
         "metadata": "{}",
         "name": "ORDERED LIST OF GENRES",
         "type": "\"string\""
        }
       ],
       "type": "table"
      }
     },
     "output_type": "display_data"
    },
    {
     "output_type": "stream",
     "name": "stdout",
     "output_type": "stream",
     "text": [
      "\nTop genres for DMA San Antonio (Wealth Score: 0.811965811965812):\n['News', 'Weather', 'Sitcom', 'Newsmagazine', 'Comedy', 'Talk', 'Auto', 'Reality', 'Cooking', 'Drama', 'Western']\n\nData for: project1_part22_San_FranciscoOakSan_Jose_324075548_326172756.csv\n"
     ]
    },
    {
     "output_type": "display_data",
     "data": {
      "text/html": [
       "<style scoped>\n",
       "  .table-result-container {\n",
       "    max-height: 300px;\n",
       "    overflow: auto;\n",
       "  }\n",
       "  table, th, td {\n",
       "    border: 1px solid black;\n",
       "    border-collapse: collapse;\n",
       "  }\n",
       "  th, td {\n",
       "    padding: 5px;\n",
       "  }\n",
       "  th {\n",
       "    text-align: left;\n",
       "  }\n",
       "</style><div class='table-result-container'><table class='table-result'><thead style='background-color: white'><tr><th>DMA NAME</th><th>WEALTH SCORE</th><th>ORDERED LIST OF GENRES</th></tr></thead><tbody><tr><td>San Francisco-Oak-San Jose</td><td>0.7687827880931328</td><td>Shopping</td></tr><tr><td>San Francisco-Oak-San Jose</td><td>0.7687827880931328</td><td>Consumer</td></tr><tr><td>San Francisco-Oak-San Jose</td><td>0.7687827880931328</td><td>Religious</td></tr><tr><td>San Francisco-Oak-San Jose</td><td>0.7687827880931328</td><td>Sports talk</td></tr><tr><td>San Francisco-Oak-San Jose</td><td>0.7687827880931328</td><td>Comedy-drama</td></tr><tr><td>San Francisco-Oak-San Jose</td><td>0.7687827880931328</td><td>Variety</td></tr><tr><td>San Francisco-Oak-San Jose</td><td>0.7687827880931328</td><td>Anthology</td></tr><tr><td>San Francisco-Oak-San Jose</td><td>0.7687827880931328</td><td>Game show</td></tr><tr><td>San Francisco-Oak-San Jose</td><td>0.7687827880931328</td><td>Romance-comedy</td></tr><tr><td>San Francisco-Oak-San Jose</td><td>0.7687827880931328</td><td>Soap</td></tr><tr><td>San Francisco-Oak-San Jose</td><td>0.7687827880931328</td><td>Science fiction</td></tr></tbody></table></div>"
      ]
     },
     "metadata": {
      "application/vnd.databricks.v1+output": {
       "addedWidgets": {},
       "aggData": [],
       "aggError": "",
       "aggOverflow": false,
       "aggSchema": [],
       "aggSeriesLimitReached": false,
       "aggType": "",
       "arguments": {},
       "columnCustomDisplayInfos": {},
       "data": [
        [
         "San Francisco-Oak-San Jose",
         0.7687827880931328,
         "Shopping"
        ],
        [
         "San Francisco-Oak-San Jose",
         0.7687827880931328,
         "Consumer"
        ],
        [
         "San Francisco-Oak-San Jose",
         0.7687827880931328,
         "Religious"
        ],
        [
         "San Francisco-Oak-San Jose",
         0.7687827880931328,
         "Sports talk"
        ],
        [
         "San Francisco-Oak-San Jose",
         0.7687827880931328,
         "Comedy-drama"
        ],
        [
         "San Francisco-Oak-San Jose",
         0.7687827880931328,
         "Variety"
        ],
        [
         "San Francisco-Oak-San Jose",
         0.7687827880931328,
         "Anthology"
        ],
        [
         "San Francisco-Oak-San Jose",
         0.7687827880931328,
         "Game show"
        ],
        [
         "San Francisco-Oak-San Jose",
         0.7687827880931328,
         "Romance-comedy"
        ],
        [
         "San Francisco-Oak-San Jose",
         0.7687827880931328,
         "Soap"
        ],
        [
         "San Francisco-Oak-San Jose",
         0.7687827880931328,
         "Science fiction"
        ]
       ],
       "datasetInfos": [],
       "dbfsResultPath": null,
       "isJsonSchema": true,
       "metadata": {},
       "overflow": false,
       "plotOptions": {
        "customPlotOptions": {},
        "displayType": "table",
        "pivotAggregation": null,
        "pivotColumns": null,
        "xColumns": null,
        "yColumns": null
       },
       "removedWidgets": [],
       "schema": [
        {
         "metadata": "{}",
         "name": "DMA NAME",
         "type": "\"string\""
        },
        {
         "metadata": "{}",
         "name": "WEALTH SCORE",
         "type": "\"double\""
        },
        {
         "metadata": "{}",
         "name": "ORDERED LIST OF GENRES",
         "type": "\"string\""
        }
       ],
       "type": "table"
      }
     },
     "output_type": "display_data"
    },
    {
     "output_type": "stream",
     "name": "stdout",
     "output_type": "stream",
     "text": [
      "\nData for: project1_part22_Baltimore_324075548_326172756.csv\n"
     ]
    },
    {
     "output_type": "display_data",
     "data": {
      "text/html": [
       "<style scoped>\n",
       "  .table-result-container {\n",
       "    max-height: 300px;\n",
       "    overflow: auto;\n",
       "  }\n",
       "  table, th, td {\n",
       "    border: 1px solid black;\n",
       "    border-collapse: collapse;\n",
       "  }\n",
       "  th, td {\n",
       "    padding: 5px;\n",
       "  }\n",
       "  th {\n",
       "    text-align: left;\n",
       "  }\n",
       "</style><div class='table-result-container'><table class='table-result'><thead style='background-color: white'><tr><th>DMA NAME</th><th>WEALTH SCORE</th><th>ORDERED LIST OF GENRES</th></tr></thead><tbody><tr><td>Baltimore</td><td>0.7611870628817368</td><td>Football</td></tr><tr><td>Baltimore</td><td>0.7611870628817368</td><td>Musical</td></tr><tr><td>Baltimore</td><td>0.7611870628817368</td><td>Pro wrestling</td></tr><tr><td>Baltimore</td><td>0.7611870628817368</td><td>Horror</td></tr><tr><td>Baltimore</td><td>0.7611870628817368</td><td>Action sports</td></tr><tr><td>Baltimore</td><td>0.7611870628817368</td><td>Card games</td></tr><tr><td>Baltimore</td><td>0.7611870628817368</td><td>Poker</td></tr><tr><td>Baltimore</td><td>0.7611870628817368</td><td>Action</td></tr><tr><td>Baltimore</td><td>0.7611870628817368</td><td>Adventure</td></tr><tr><td>Baltimore</td><td>0.7611870628817368</td><td>Home improvement</td></tr><tr><td>Baltimore</td><td>0.7611870628817368</td><td>Adults only</td></tr></tbody></table></div>"
      ]
     },
     "metadata": {
      "application/vnd.databricks.v1+output": {
       "addedWidgets": {},
       "aggData": [],
       "aggError": "",
       "aggOverflow": false,
       "aggSchema": [],
       "aggSeriesLimitReached": false,
       "aggType": "",
       "arguments": {},
       "columnCustomDisplayInfos": {},
       "data": [
        [
         "Baltimore",
         0.7611870628817368,
         "Football"
        ],
        [
         "Baltimore",
         0.7611870628817368,
         "Musical"
        ],
        [
         "Baltimore",
         0.7611870628817368,
         "Pro wrestling"
        ],
        [
         "Baltimore",
         0.7611870628817368,
         "Horror"
        ],
        [
         "Baltimore",
         0.7611870628817368,
         "Action sports"
        ],
        [
         "Baltimore",
         0.7611870628817368,
         "Card games"
        ],
        [
         "Baltimore",
         0.7611870628817368,
         "Poker"
        ],
        [
         "Baltimore",
         0.7611870628817368,
         "Action"
        ],
        [
         "Baltimore",
         0.7611870628817368,
         "Adventure"
        ],
        [
         "Baltimore",
         0.7611870628817368,
         "Home improvement"
        ],
        [
         "Baltimore",
         0.7611870628817368,
         "Adults only"
        ]
       ],
       "datasetInfos": [],
       "dbfsResultPath": null,
       "isJsonSchema": true,
       "metadata": {},
       "overflow": false,
       "plotOptions": {
        "customPlotOptions": {},
        "displayType": "table",
        "pivotAggregation": null,
        "pivotColumns": null,
        "xColumns": null,
        "yColumns": null
       },
       "removedWidgets": [],
       "schema": [
        {
         "metadata": "{}",
         "name": "DMA NAME",
         "type": "\"string\""
        },
        {
         "metadata": "{}",
         "name": "WEALTH SCORE",
         "type": "\"double\""
        },
        {
         "metadata": "{}",
         "name": "ORDERED LIST OF GENRES",
         "type": "\"string\""
        }
       ],
       "type": "table"
      }
     },
     "output_type": "display_data"
    },
    {
     "output_type": "stream",
     "name": "stdout",
     "output_type": "stream",
     "text": [
      "\nData for: project1_part22_SacramntoStktonModesto_324075548_326172756.csv\n"
     ]
    },
    {
     "output_type": "display_data",
     "data": {
      "text/html": [
       "<style scoped>\n",
       "  .table-result-container {\n",
       "    max-height: 300px;\n",
       "    overflow: auto;\n",
       "  }\n",
       "  table, th, td {\n",
       "    border: 1px solid black;\n",
       "    border-collapse: collapse;\n",
       "  }\n",
       "  th, td {\n",
       "    padding: 5px;\n",
       "  }\n",
       "  th {\n",
       "    text-align: left;\n",
       "  }\n",
       "</style><div class='table-result-container'><table class='table-result'><thead style='background-color: white'><tr><th>DMA NAME</th><th>WEALTH SCORE</th><th>ORDERED LIST OF GENRES</th></tr></thead><tbody><tr><td>Sacramnto-Stkton-Modesto</td><td>0.7405096974448204</td><td>Basketball</td></tr><tr><td>Sacramnto-Stkton-Modesto</td><td>0.7405096974448204</td><td>Art</td></tr><tr><td>Sacramnto-Stkton-Modesto</td><td>0.7405096974448204</td><td>Science</td></tr><tr><td>Sacramnto-Stkton-Modesto</td><td>0.7405096974448204</td><td>Boxing</td></tr><tr><td>Sacramnto-Stkton-Modesto</td><td>0.7405096974448204</td><td>Sports event</td></tr><tr><td>Sacramnto-Stkton-Modesto</td><td>0.7405096974448204</td><td>Nature</td></tr><tr><td>Sacramnto-Stkton-Modesto</td><td>0.7405096974448204</td><td>Educational</td></tr><tr><td>Sacramnto-Stkton-Modesto</td><td>0.7405096974448204</td><td>Medical</td></tr><tr><td>Sacramnto-Stkton-Modesto</td><td>0.7405096974448204</td><td>House/garden</td></tr><tr><td>Sacramnto-Stkton-Modesto</td><td>0.7405096974448204</td><td>Hockey</td></tr><tr><td>Sacramnto-Stkton-Modesto</td><td>0.7405096974448204</td><td>Biography</td></tr></tbody></table></div>"
      ]
     },
     "metadata": {
      "application/vnd.databricks.v1+output": {
       "addedWidgets": {},
       "aggData": [],
       "aggError": "",
       "aggOverflow": false,
       "aggSchema": [],
       "aggSeriesLimitReached": false,
       "aggType": "",
       "arguments": {},
       "columnCustomDisplayInfos": {},
       "data": [
        [
         "Sacramnto-Stkton-Modesto",
         0.7405096974448204,
         "Basketball"
        ],
        [
         "Sacramnto-Stkton-Modesto",
         0.7405096974448204,
         "Art"
        ],
        [
         "Sacramnto-Stkton-Modesto",
         0.7405096974448204,
         "Science"
        ],
        [
         "Sacramnto-Stkton-Modesto",
         0.7405096974448204,
         "Boxing"
        ],
        [
         "Sacramnto-Stkton-Modesto",
         0.7405096974448204,
         "Sports event"
        ],
        [
         "Sacramnto-Stkton-Modesto",
         0.7405096974448204,
         "Nature"
        ],
        [
         "Sacramnto-Stkton-Modesto",
         0.7405096974448204,
         "Educational"
        ],
        [
         "Sacramnto-Stkton-Modesto",
         0.7405096974448204,
         "Medical"
        ],
        [
         "Sacramnto-Stkton-Modesto",
         0.7405096974448204,
         "House/garden"
        ],
        [
         "Sacramnto-Stkton-Modesto",
         0.7405096974448204,
         "Hockey"
        ],
        [
         "Sacramnto-Stkton-Modesto",
         0.7405096974448204,
         "Biography"
        ]
       ],
       "datasetInfos": [],
       "dbfsResultPath": null,
       "isJsonSchema": true,
       "metadata": {},
       "overflow": false,
       "plotOptions": {
        "customPlotOptions": {},
        "displayType": "table",
        "pivotAggregation": null,
        "pivotColumns": null,
        "xColumns": null,
        "yColumns": null
       },
       "removedWidgets": [],
       "schema": [
        {
         "metadata": "{}",
         "name": "DMA NAME",
         "type": "\"string\""
        },
        {
         "metadata": "{}",
         "name": "WEALTH SCORE",
         "type": "\"double\""
        },
        {
         "metadata": "{}",
         "name": "ORDERED LIST OF GENRES",
         "type": "\"string\""
        }
       ],
       "type": "table"
      }
     },
     "output_type": "display_data"
    },
    {
     "output_type": "stream",
     "name": "stdout",
     "output_type": "stream",
     "text": [
      "\nData for: project1_part22_Bend_OR_324075548_326172756.csv\n"
     ]
    },
    {
     "output_type": "display_data",
     "data": {
      "text/html": [
       "<style scoped>\n",
       "  .table-result-container {\n",
       "    max-height: 300px;\n",
       "    overflow: auto;\n",
       "  }\n",
       "  table, th, td {\n",
       "    border: 1px solid black;\n",
       "    border-collapse: collapse;\n",
       "  }\n",
       "  th, td {\n",
       "    padding: 5px;\n",
       "  }\n",
       "  th {\n",
       "    text-align: left;\n",
       "  }\n",
       "</style><div class='table-result-container'><table class='table-result'><thead style='background-color: white'><tr><th>DMA NAME</th><th>WEALTH SCORE</th><th>ORDERED LIST OF GENRES</th></tr></thead><tbody><tr><td>Bend, OR</td><td>0.7283595037647783</td><td>Community</td></tr><tr><td>Bend, OR</td><td>0.7283595037647783</td><td>Entertainment</td></tr><tr><td>Bend, OR</td><td>0.7283595037647783</td><td>Crime</td></tr><tr><td>Bend, OR</td><td>0.7283595037647783</td><td>Law</td></tr><tr><td>Bend, OR</td><td>0.7283595037647783</td><td>Special</td></tr><tr><td>Bend, OR</td><td>0.7283595037647783</td><td>Animated</td></tr><tr><td>Bend, OR</td><td>0.7283595037647783</td><td>Awards</td></tr><tr><td>Bend, OR</td><td>0.7283595037647783</td><td>Travel</td></tr><tr><td>Bend, OR</td><td>0.7283595037647783</td><td>Boat</td></tr><tr><td>Bend, OR</td><td>0.7283595037647783</td><td>Suspense</td></tr><tr><td>Bend, OR</td><td>0.7283595037647783</td><td>Auto racing</td></tr></tbody></table></div>"
      ]
     },
     "metadata": {
      "application/vnd.databricks.v1+output": {
       "addedWidgets": {},
       "aggData": [],
       "aggError": "",
       "aggOverflow": false,
       "aggSchema": [],
       "aggSeriesLimitReached": false,
       "aggType": "",
       "arguments": {},
       "columnCustomDisplayInfos": {},
       "data": [
        [
         "Bend, OR",
         0.7283595037647783,
         "Community"
        ],
        [
         "Bend, OR",
         0.7283595037647783,
         "Entertainment"
        ],
        [
         "Bend, OR",
         0.7283595037647783,
         "Crime"
        ],
        [
         "Bend, OR",
         0.7283595037647783,
         "Law"
        ],
        [
         "Bend, OR",
         0.7283595037647783,
         "Special"
        ],
        [
         "Bend, OR",
         0.7283595037647783,
         "Animated"
        ],
        [
         "Bend, OR",
         0.7283595037647783,
         "Awards"
        ],
        [
         "Bend, OR",
         0.7283595037647783,
         "Travel"
        ],
        [
         "Bend, OR",
         0.7283595037647783,
         "Boat"
        ],
        [
         "Bend, OR",
         0.7283595037647783,
         "Suspense"
        ],
        [
         "Bend, OR",
         0.7283595037647783,
         "Auto racing"
        ]
       ],
       "datasetInfos": [],
       "dbfsResultPath": null,
       "isJsonSchema": true,
       "metadata": {},
       "overflow": false,
       "plotOptions": {
        "customPlotOptions": {},
        "displayType": "table",
        "pivotAggregation": null,
        "pivotColumns": null,
        "xColumns": null,
        "yColumns": null
       },
       "removedWidgets": [],
       "schema": [
        {
         "metadata": "{}",
         "name": "DMA NAME",
         "type": "\"string\""
        },
        {
         "metadata": "{}",
         "name": "WEALTH SCORE",
         "type": "\"double\""
        },
        {
         "metadata": "{}",
         "name": "ORDERED LIST OF GENRES",
         "type": "\"string\""
        }
       ],
       "type": "table"
      }
     },
     "output_type": "display_data"
    },
    {
     "output_type": "stream",
     "name": "stdout",
     "output_type": "stream",
     "text": [
      "\nTop genres for DMA Bend, OR (Wealth Score: 0.7283595037647783):\n['Community', 'Entertainment', 'Crime', 'Law', 'Special', 'Animated', 'Awards', 'Travel', 'Boat', 'Suspense', 'Auto racing']\n\nData for: project1_part22_Houston_324075548_326172756.csv\n"
     ]
    },
    {
     "output_type": "display_data",
     "data": {
      "text/html": [
       "<style scoped>\n",
       "  .table-result-container {\n",
       "    max-height: 300px;\n",
       "    overflow: auto;\n",
       "  }\n",
       "  table, th, td {\n",
       "    border: 1px solid black;\n",
       "    border-collapse: collapse;\n",
       "  }\n",
       "  th, td {\n",
       "    padding: 5px;\n",
       "  }\n",
       "  th {\n",
       "    text-align: left;\n",
       "  }\n",
       "</style><div class='table-result-container'><table class='table-result'><thead style='background-color: white'><tr><th>DMA NAME</th><th>WEALTH SCORE</th><th>ORDERED LIST OF GENRES</th></tr></thead><tbody><tr><td>Houston</td><td>0.7177498034535345</td><td>Romance</td></tr><tr><td>Houston</td><td>0.7177498034535345</td><td>Public affairs</td></tr><tr><td>Houston</td><td>0.7177498034535345</td><td>Animals</td></tr><tr><td>Houston</td><td>0.7177498034535345</td><td>Historical drama</td></tr><tr><td>Houston</td><td>0.7177498034535345</td><td>War</td></tr><tr><td>Houston</td><td>0.7177498034535345</td><td>Musical comedy</td></tr><tr><td>Houston</td><td>0.7177498034535345</td><td>Self improvement</td></tr><tr><td>Houston</td><td>0.7177498034535345</td><td>Dance</td></tr><tr><td>Houston</td><td>0.7177498034535345</td><td>Crime drama</td></tr><tr><td>Houston</td><td>0.7177498034535345</td><td>Golf</td></tr><tr><td>Houston</td><td>0.7177498034535345</td><td>Parenting</td></tr></tbody></table></div>"
      ]
     },
     "metadata": {
      "application/vnd.databricks.v1+output": {
       "addedWidgets": {},
       "aggData": [],
       "aggError": "",
       "aggOverflow": false,
       "aggSchema": [],
       "aggSeriesLimitReached": false,
       "aggType": "",
       "arguments": {},
       "columnCustomDisplayInfos": {},
       "data": [
        [
         "Houston",
         0.7177498034535345,
         "Romance"
        ],
        [
         "Houston",
         0.7177498034535345,
         "Public affairs"
        ],
        [
         "Houston",
         0.7177498034535345,
         "Animals"
        ],
        [
         "Houston",
         0.7177498034535345,
         "Historical drama"
        ],
        [
         "Houston",
         0.7177498034535345,
         "War"
        ],
        [
         "Houston",
         0.7177498034535345,
         "Musical comedy"
        ],
        [
         "Houston",
         0.7177498034535345,
         "Self improvement"
        ],
        [
         "Houston",
         0.7177498034535345,
         "Dance"
        ],
        [
         "Houston",
         0.7177498034535345,
         "Crime drama"
        ],
        [
         "Houston",
         0.7177498034535345,
         "Golf"
        ],
        [
         "Houston",
         0.7177498034535345,
         "Parenting"
        ]
       ],
       "datasetInfos": [],
       "dbfsResultPath": null,
       "isJsonSchema": true,
       "metadata": {},
       "overflow": false,
       "plotOptions": {
        "customPlotOptions": {},
        "displayType": "table",
        "pivotAggregation": null,
        "pivotColumns": null,
        "xColumns": null,
        "yColumns": null
       },
       "removedWidgets": [],
       "schema": [
        {
         "metadata": "{}",
         "name": "DMA NAME",
         "type": "\"string\""
        },
        {
         "metadata": "{}",
         "name": "WEALTH SCORE",
         "type": "\"double\""
        },
        {
         "metadata": "{}",
         "name": "ORDERED LIST OF GENRES",
         "type": "\"string\""
        }
       ],
       "type": "table"
      }
     },
     "output_type": "display_data"
    },
    {
     "output_type": "stream",
     "name": "stdout",
     "output_type": "stream",
     "text": [
      "\nData for: project1_part22_Austin_324075548_326172756.csv\n"
     ]
    },
    {
     "output_type": "display_data",
     "data": {
      "text/html": [
       "<style scoped>\n",
       "  .table-result-container {\n",
       "    max-height: 300px;\n",
       "    overflow: auto;\n",
       "  }\n",
       "  table, th, td {\n",
       "    border: 1px solid black;\n",
       "    border-collapse: collapse;\n",
       "  }\n",
       "  th, td {\n",
       "    padding: 5px;\n",
       "  }\n",
       "  th {\n",
       "    text-align: left;\n",
       "  }\n",
       "</style><div class='table-result-container'><table class='table-result'><thead style='background-color: white'><tr><th>DMA NAME</th><th>WEALTH SCORE</th><th>ORDERED LIST OF GENRES</th></tr></thead><tbody><tr><td>Austin</td><td>0.7128035422259249</td><td>Politics</td></tr><tr><td>Austin</td><td>0.7128035422259249</td><td>Baseball</td></tr><tr><td>Austin</td><td>0.7128035422259249</td><td>Interview</td></tr><tr><td>Austin</td><td>0.7128035422259249</td><td>Fashion</td></tr><tr><td>Austin</td><td>0.7128035422259249</td><td>Auction</td></tr><tr><td>Austin</td><td>0.7128035422259249</td><td>Collectibles</td></tr><tr><td>Austin</td><td>0.7128035422259249</td><td>Paranormal</td></tr><tr><td>Austin</td><td>0.7128035422259249</td><td>Health</td></tr><tr><td>Austin</td><td>0.7128035422259249</td><td>Wrestling</td></tr><tr><td>Austin</td><td>0.7128035422259249</td><td>How-to</td></tr><tr><td>Austin</td><td>0.7128035422259249</td><td>Mixed martial arts</td></tr></tbody></table></div>"
      ]
     },
     "metadata": {
      "application/vnd.databricks.v1+output": {
       "addedWidgets": {},
       "aggData": [],
       "aggError": "",
       "aggOverflow": false,
       "aggSchema": [],
       "aggSeriesLimitReached": false,
       "aggType": "",
       "arguments": {},
       "columnCustomDisplayInfos": {},
       "data": [
        [
         "Austin",
         0.7128035422259249,
         "Politics"
        ],
        [
         "Austin",
         0.7128035422259249,
         "Baseball"
        ],
        [
         "Austin",
         0.7128035422259249,
         "Interview"
        ],
        [
         "Austin",
         0.7128035422259249,
         "Fashion"
        ],
        [
         "Austin",
         0.7128035422259249,
         "Auction"
        ],
        [
         "Austin",
         0.7128035422259249,
         "Collectibles"
        ],
        [
         "Austin",
         0.7128035422259249,
         "Paranormal"
        ],
        [
         "Austin",
         0.7128035422259249,
         "Health"
        ],
        [
         "Austin",
         0.7128035422259249,
         "Wrestling"
        ],
        [
         "Austin",
         0.7128035422259249,
         "How-to"
        ],
        [
         "Austin",
         0.7128035422259249,
         "Mixed martial arts"
        ]
       ],
       "datasetInfos": [],
       "dbfsResultPath": null,
       "isJsonSchema": true,
       "metadata": {},
       "overflow": false,
       "plotOptions": {
        "customPlotOptions": {},
        "displayType": "table",
        "pivotAggregation": null,
        "pivotColumns": null,
        "xColumns": null,
        "yColumns": null
       },
       "removedWidgets": [],
       "schema": [
        {
         "metadata": "{}",
         "name": "DMA NAME",
         "type": "\"string\""
        },
        {
         "metadata": "{}",
         "name": "WEALTH SCORE",
         "type": "\"double\""
        },
        {
         "metadata": "{}",
         "name": "ORDERED LIST OF GENRES",
         "type": "\"string\""
        }
       ],
       "type": "table"
      }
     },
     "output_type": "display_data"
    },
    {
     "output_type": "stream",
     "name": "stdout",
     "output_type": "stream",
     "text": [
      "\nData for: project1_part22_MiamiFt_Lauderdale_324075548_326172756.csv\n"
     ]
    },
    {
     "output_type": "display_data",
     "data": {
      "text/html": [
       "<style scoped>\n",
       "  .table-result-container {\n",
       "    max-height: 300px;\n",
       "    overflow: auto;\n",
       "  }\n",
       "  table, th, td {\n",
       "    border: 1px solid black;\n",
       "    border-collapse: collapse;\n",
       "  }\n",
       "  th, td {\n",
       "    padding: 5px;\n",
       "  }\n",
       "  th {\n",
       "    text-align: left;\n",
       "  }\n",
       "</style><div class='table-result-container'><table class='table-result'><thead style='background-color: white'><tr><th>DMA NAME</th><th>WEALTH SCORE</th><th>ORDERED LIST OF GENRES</th></tr></thead><tbody><tr><td>Miami-Ft. Lauderdale</td><td>0.7101039507467781</td><td>Soccer</td></tr><tr><td>Miami-Ft. Lauderdale</td><td>0.7101039507467781</td><td>Bus./financial</td></tr><tr><td>Miami-Ft. Lauderdale</td><td>0.7101039507467781</td><td>Arts/crafts</td></tr><tr><td>Miami-Ft. Lauderdale</td><td>0.7101039507467781</td><td>Standup</td></tr><tr><td>Miami-Ft. Lauderdale</td><td>0.7101039507467781</td><td>Tennis</td></tr><tr><td>Miami-Ft. Lauderdale</td><td>0.7101039507467781</td><td>Mystery</td></tr><tr><td>Miami-Ft. Lauderdale</td><td>0.7101039507467781</td><td>Fantasy</td></tr><tr><td>Miami-Ft. Lauderdale</td><td>0.7101039507467781</td><td>Performing arts</td></tr><tr><td>Miami-Ft. Lauderdale</td><td>0.7101039507467781</td><td>Swimming</td></tr><tr><td>Miami-Ft. Lauderdale</td><td>0.7101039507467781</td><td>Sports non-event</td></tr><tr><td>Miami-Ft. Lauderdale</td><td>0.7101039507467781</td><td>Aerobics</td></tr></tbody></table></div>"
      ]
     },
     "metadata": {
      "application/vnd.databricks.v1+output": {
       "addedWidgets": {},
       "aggData": [],
       "aggError": "",
       "aggOverflow": false,
       "aggSchema": [],
       "aggSeriesLimitReached": false,
       "aggType": "",
       "arguments": {},
       "columnCustomDisplayInfos": {},
       "data": [
        [
         "Miami-Ft. Lauderdale",
         0.7101039507467781,
         "Soccer"
        ],
        [
         "Miami-Ft. Lauderdale",
         0.7101039507467781,
         "Bus./financial"
        ],
        [
         "Miami-Ft. Lauderdale",
         0.7101039507467781,
         "Arts/crafts"
        ],
        [
         "Miami-Ft. Lauderdale",
         0.7101039507467781,
         "Standup"
        ],
        [
         "Miami-Ft. Lauderdale",
         0.7101039507467781,
         "Tennis"
        ],
        [
         "Miami-Ft. Lauderdale",
         0.7101039507467781,
         "Mystery"
        ],
        [
         "Miami-Ft. Lauderdale",
         0.7101039507467781,
         "Fantasy"
        ],
        [
         "Miami-Ft. Lauderdale",
         0.7101039507467781,
         "Performing arts"
        ],
        [
         "Miami-Ft. Lauderdale",
         0.7101039507467781,
         "Swimming"
        ],
        [
         "Miami-Ft. Lauderdale",
         0.7101039507467781,
         "Sports non-event"
        ],
        [
         "Miami-Ft. Lauderdale",
         0.7101039507467781,
         "Aerobics"
        ]
       ],
       "datasetInfos": [],
       "dbfsResultPath": null,
       "isJsonSchema": true,
       "metadata": {},
       "overflow": false,
       "plotOptions": {
        "customPlotOptions": {},
        "displayType": "table",
        "pivotAggregation": null,
        "pivotColumns": null,
        "xColumns": null,
        "yColumns": null
       },
       "removedWidgets": [],
       "schema": [
        {
         "metadata": "{}",
         "name": "DMA NAME",
         "type": "\"string\""
        },
        {
         "metadata": "{}",
         "name": "WEALTH SCORE",
         "type": "\"double\""
        },
        {
         "metadata": "{}",
         "name": "ORDERED LIST OF GENRES",
         "type": "\"string\""
        }
       ],
       "type": "table"
      }
     },
     "output_type": "display_data"
    },
    {
     "output_type": "stream",
     "name": "stdout",
     "output_type": "stream",
     "text": [
      "\nData for: project1_part22_SeattleTacoma_324075548_326172756.csv\n"
     ]
    },
    {
     "output_type": "display_data",
     "data": {
      "text/html": [
       "<style scoped>\n",
       "  .table-result-container {\n",
       "    max-height: 300px;\n",
       "    overflow: auto;\n",
       "  }\n",
       "  table, th, td {\n",
       "    border: 1px solid black;\n",
       "    border-collapse: collapse;\n",
       "  }\n",
       "  th, td {\n",
       "    padding: 5px;\n",
       "  }\n",
       "  th {\n",
       "    text-align: left;\n",
       "  }\n",
       "</style><div class='table-result-container'><table class='table-result'><thead style='background-color: white'><tr><th>DMA NAME</th><th>WEALTH SCORE</th><th>ORDERED LIST OF GENRES</th></tr></thead><tbody><tr><td>Seattle-Tacoma</td><td>0.7080045191318095</td><td>Children</td></tr><tr><td>Seattle-Tacoma</td><td>0.7080045191318095</td><td>Outdoors</td></tr><tr><td>Seattle-Tacoma</td><td>0.7080045191318095</td><td>Aviation</td></tr><tr><td>Seattle-Tacoma</td><td>0.7080045191318095</td><td>Computers</td></tr><tr><td>Seattle-Tacoma</td><td>0.7080045191318095</td><td>Agriculture</td></tr><tr><td>Seattle-Tacoma</td><td>0.7080045191318095</td><td>Exercise</td></tr><tr><td>Seattle-Tacoma</td><td>0.7080045191318095</td><td>Beach soccer</td></tr><tr><td>Seattle-Tacoma</td><td>0.7080045191318095</td><td>Beach volleyball</td></tr><tr><td>Seattle-Tacoma</td><td>0.7080045191318095</td><td>Docudrama</td></tr><tr><td>Seattle-Tacoma</td><td>0.7080045191318095</td><td>Music</td></tr><tr><td>Seattle-Tacoma</td><td>0.7080045191318095</td><td>Gaming</td></tr></tbody></table></div>"
      ]
     },
     "metadata": {
      "application/vnd.databricks.v1+output": {
       "addedWidgets": {},
       "aggData": [],
       "aggError": "",
       "aggOverflow": false,
       "aggSchema": [],
       "aggSeriesLimitReached": false,
       "aggType": "",
       "arguments": {},
       "columnCustomDisplayInfos": {},
       "data": [
        [
         "Seattle-Tacoma",
         0.7080045191318095,
         "Children"
        ],
        [
         "Seattle-Tacoma",
         0.7080045191318095,
         "Outdoors"
        ],
        [
         "Seattle-Tacoma",
         0.7080045191318095,
         "Aviation"
        ],
        [
         "Seattle-Tacoma",
         0.7080045191318095,
         "Computers"
        ],
        [
         "Seattle-Tacoma",
         0.7080045191318095,
         "Agriculture"
        ],
        [
         "Seattle-Tacoma",
         0.7080045191318095,
         "Exercise"
        ],
        [
         "Seattle-Tacoma",
         0.7080045191318095,
         "Beach soccer"
        ],
        [
         "Seattle-Tacoma",
         0.7080045191318095,
         "Beach volleyball"
        ],
        [
         "Seattle-Tacoma",
         0.7080045191318095,
         "Docudrama"
        ],
        [
         "Seattle-Tacoma",
         0.7080045191318095,
         "Music"
        ],
        [
         "Seattle-Tacoma",
         0.7080045191318095,
         "Gaming"
        ]
       ],
       "datasetInfos": [],
       "dbfsResultPath": null,
       "isJsonSchema": true,
       "metadata": {},
       "overflow": false,
       "plotOptions": {
        "customPlotOptions": {},
        "displayType": "table",
        "pivotAggregation": null,
        "pivotColumns": null,
        "xColumns": null,
        "yColumns": null
       },
       "removedWidgets": [],
       "schema": [
        {
         "metadata": "{}",
         "name": "DMA NAME",
         "type": "\"string\""
        },
        {
         "metadata": "{}",
         "name": "WEALTH SCORE",
         "type": "\"double\""
        },
        {
         "metadata": "{}",
         "name": "ORDERED LIST OF GENRES",
         "type": "\"string\""
        }
       ],
       "type": "table"
      }
     },
     "output_type": "display_data"
    },
    {
     "output_type": "stream",
     "name": "stdout",
     "output_type": "stream",
     "text": [
      "\nTop genres for DMA Seattle-Tacoma (Wealth Score: 0.7080045191318095):\n['Children', 'Outdoors', 'Aviation', 'Computers', 'Agriculture', 'Exercise', 'Beach soccer', 'Beach volleyball', 'Docudrama', 'Music', 'Gaming']\n\nData for: project1_part22_Detroit_324075548_326172756.csv\n"
     ]
    },
    {
     "output_type": "display_data",
     "data": {
      "text/html": [
       "<style scoped>\n",
       "  .table-result-container {\n",
       "    max-height: 300px;\n",
       "    overflow: auto;\n",
       "  }\n",
       "  table, th, td {\n",
       "    border: 1px solid black;\n",
       "    border-collapse: collapse;\n",
       "  }\n",
       "  th, td {\n",
       "    padding: 5px;\n",
       "  }\n",
       "  th {\n",
       "    text-align: left;\n",
       "  }\n",
       "</style><div class='table-result-container'><table class='table-result'><thead style='background-color: white'><tr><th>DMA NAME</th><th>WEALTH SCORE</th><th>ORDERED LIST OF GENRES</th></tr></thead><tbody><tr><td>Detroit</td><td>0.6779135713715153</td><td>Bowling</td></tr><tr><td>Detroit</td><td>0.6779135713715153</td><td>History</td></tr><tr><td>Detroit</td><td>0.6779135713715153</td><td>Horse</td></tr><tr><td>Detroit</td><td>0.6779135713715153</td><td>Military</td></tr><tr><td>Detroit</td><td>0.6779135713715153</td><td>Playoff sports</td></tr><tr><td>Detroit</td><td>0.6779135713715153</td><td>Hunting</td></tr><tr><td>Detroit</td><td>0.6779135713715153</td><td>Rodeo</td></tr><tr><td>Detroit</td><td>0.6779135713715153</td><td>Fishing</td></tr><tr><td>Detroit</td><td>0.6779135713715153</td><td>Volleyball</td></tr><tr><td>Detroit</td><td>0.6779135713715153</td><td>Parade</td></tr><tr><td>Detroit</td><td>0.6779135713715153</td><td>Softball</td></tr></tbody></table></div>"
      ]
     },
     "metadata": {
      "application/vnd.databricks.v1+output": {
       "addedWidgets": {},
       "aggData": [],
       "aggError": "",
       "aggOverflow": false,
       "aggSchema": [],
       "aggSeriesLimitReached": false,
       "aggType": "",
       "arguments": {},
       "columnCustomDisplayInfos": {},
       "data": [
        [
         "Detroit",
         0.6779135713715153,
         "Bowling"
        ],
        [
         "Detroit",
         0.6779135713715153,
         "History"
        ],
        [
         "Detroit",
         0.6779135713715153,
         "Horse"
        ],
        [
         "Detroit",
         0.6779135713715153,
         "Military"
        ],
        [
         "Detroit",
         0.6779135713715153,
         "Playoff sports"
        ],
        [
         "Detroit",
         0.6779135713715153,
         "Hunting"
        ],
        [
         "Detroit",
         0.6779135713715153,
         "Rodeo"
        ],
        [
         "Detroit",
         0.6779135713715153,
         "Fishing"
        ],
        [
         "Detroit",
         0.6779135713715153,
         "Volleyball"
        ],
        [
         "Detroit",
         0.6779135713715153,
         "Parade"
        ],
        [
         "Detroit",
         0.6779135713715153,
         "Softball"
        ]
       ],
       "datasetInfos": [],
       "dbfsResultPath": null,
       "isJsonSchema": true,
       "metadata": {},
       "overflow": false,
       "plotOptions": {
        "customPlotOptions": {},
        "displayType": "table",
        "pivotAggregation": null,
        "pivotColumns": null,
        "xColumns": null,
        "yColumns": null
       },
       "removedWidgets": [],
       "schema": [
        {
         "metadata": "{}",
         "name": "DMA NAME",
         "type": "\"string\""
        },
        {
         "metadata": "{}",
         "name": "WEALTH SCORE",
         "type": "\"double\""
        },
        {
         "metadata": "{}",
         "name": "ORDERED LIST OF GENRES",
         "type": "\"string\""
        }
       ],
       "type": "table"
      }
     },
     "output_type": "display_data"
    }
   ],
   "source": [
    "from pyspark.sql import SparkSession\n",
    "from pyspark.sql import functions as F\n",
    "from pyspark.sql.types import *\n",
    "from pyspark.sql.window import Window\n",
    "import re\n",
    "from pyspark.sql import SparkSession\n",
    "\n",
    "spark = SparkSession.builder.appName(\"DDMS2024_Project1\").getOrCreate()\n",
    "sc = spark.sparkContext\n",
    "\n",
    "# This dict holds the correct schemata for easily loading the CSVs\n",
    "schemas_dict = {\n",
    "    'Daily program data': StructType([\n",
    "        StructField('prog_code', StringType()),\n",
    "        StructField('title', StringType()),\n",
    "        StructField('genre', StringType()),\n",
    "        StructField('air_date', StringType()),\n",
    "        StructField('air_time', StringType()),\n",
    "        StructField('Duration', FloatType())\n",
    "    ]),\n",
    "    'viewing': StructType([\n",
    "        StructField('device_id', StringType()),\n",
    "        StructField('event_date', StringType()),\n",
    "        StructField('event_time', IntegerType()),\n",
    "        StructField('mso_code', StringType()),\n",
    "        StructField('prog_code', StringType()),\n",
    "        StructField('station_num', StringType())\n",
    "    ]),\n",
    "    'viewing_full': StructType([\n",
    "        StructField('mso_code', StringType()),\n",
    "        StructField('device_id', StringType()),\n",
    "        StructField('event_date', IntegerType()),\n",
    "        StructField('event_time', IntegerType()),\n",
    "        StructField('station_num', StringType()),\n",
    "        StructField('prog_code', StringType())\n",
    "    ]),\n",
    "    'demographic': StructType([\n",
    "        StructField('household_id', StringType()),\n",
    "        StructField('household_size', IntegerType()),\n",
    "        StructField('num_adults', IntegerType()),\n",
    "        StructField('num_generations', IntegerType()),\n",
    "        StructField('adult_range', StringType()),\n",
    "        StructField('marital_status', StringType()),\n",
    "        StructField('race_code', StringType()),\n",
    "        StructField('presence_children', StringType()),\n",
    "        StructField('num_children', IntegerType()),\n",
    "        StructField('age_children', StringType()),  # format like range - 'bitwise'\n",
    "        StructField('age_range_children', StringType()),\n",
    "        StructField('dwelling_type', StringType()),\n",
    "        StructField('home_owner_status', StringType()),\n",
    "        StructField('length_residence', IntegerType()),\n",
    "        StructField('home_market_value', StringType()),\n",
    "        StructField('num_vehicles', IntegerType()),\n",
    "        StructField('vehicle_make', StringType()),\n",
    "        StructField('vehicle_model', StringType()),\n",
    "        StructField('vehicle_year', IntegerType()),\n",
    "        StructField('net_worth', IntegerType()),\n",
    "        StructField('income', StringType()),\n",
    "        StructField('gender_individual', StringType()),\n",
    "        StructField('age_individual', IntegerType()),\n",
    "        StructField('education_highest', StringType()),\n",
    "        StructField('occupation_highest', StringType()),\n",
    "        StructField('education_1', StringType()),\n",
    "        StructField('occupation_1', StringType()),\n",
    "        StructField('age_2', IntegerType()),\n",
    "        StructField('education_2', StringType()),\n",
    "        StructField('occupation_2', StringType()),\n",
    "        StructField('age_3', IntegerType()),\n",
    "        StructField('education_3', StringType()),\n",
    "        StructField('occupation_3', StringType()),\n",
    "        StructField('age_4', IntegerType()),\n",
    "        StructField('education_4', StringType()),\n",
    "        StructField('occupation_4', StringType()),\n",
    "        StructField('age_5', IntegerType()),\n",
    "        StructField('education_5', StringType()),\n",
    "        StructField('occupation_5', StringType()),\n",
    "        StructField('polit_party_regist', StringType()),\n",
    "        StructField('polit_party_input', StringType()),\n",
    "        StructField('household_clusters', StringType()),\n",
    "        StructField('insurance_groups', StringType()),\n",
    "        StructField('financial_groups', StringType()),\n",
    "        StructField('green_living', StringType())\n",
    "    ])\n",
    "}\n",
    "# Function to Convert Base 14 to Base 10\n",
    "def base14_to_base10(income_str):\n",
    "    base14_chars = \"0123456789ABCD\"\n",
    "    base10_value = 0\n",
    "    for i, char in enumerate(reversed(income_str)):\n",
    "        base10_value += base14_chars.index(char) * (14 ** i)\n",
    "    return base10_value\n",
    "\n",
    "# Register the function as a UDF\n",
    "base14_to_base10_udf = udf(base14_to_base10, IntegerType())\n",
    "\n",
    "# Load CSV file function\n",
    "def load_csv_file(filename, schema):\n",
    "    allowed_files = {\n",
    "        'Daily program data': ('Daily program data', \"|\"),\n",
    "        'demographic': ('demographic', \"|\")\n",
    "    }\n",
    "    if filename not in allowed_files.keys():\n",
    "        raise ValueError(f'Invalid filename. Allowed options are {allowed_files.keys()}')\n",
    "\n",
    "    filepath = allowed_files[filename][0]\n",
    "    dataPath = f\"dbfs:/mnt/coursedata2024/fwm-stb-data/{filepath}\"\n",
    "    delimiter = allowed_files[filename][1]\n",
    "\n",
    "    return spark.read.format(\"csv\") \\\n",
    "        .option(\"header\", \"false\") \\\n",
    "        .option(\"delimiter\", delimiter) \\\n",
    "        .schema(schema) \\\n",
    "        .load(dataPath)\n",
    "\n",
    "\n",
    "# Load data from th tables:\n",
    "demographic_data = load_csv_file('demographic', schemas_dict['demographic']) \\\n",
    "    .select('household_id', 'net_worth', 'income').dropna()\n",
    "daily_program_data = load_csv_file('Daily program data', schemas_dict['Daily program data']) \\\n",
    "    .select('prog_code', 'genre').dropna()\n",
    "reference_data = spark.read.parquet('dbfs:/refxml_new_parquet') \\\n",
    "    .select('household_id', 'device_id', 'dma').dropna()\n",
    "program_viewing_data = spark.read.csv(\"dbfs:/viewing_10M\", schema=schemas_dict['viewing_full'], header=True) \\\n",
    "    .select('device_id', 'prog_code').dropna()\n",
    "demographic_data = demographic_data.withColumn(\"income_numeric\", base14_to_base10_udf(F.col(\"income\"))).drop(\"income\")\n",
    "\n",
    "\n",
    "# Calculate wealth data - avgerage net worth and avg income for the formula later\n",
    "wealth_data = demographic_data.join(reference_data, 'household_id') \\\n",
    "    .groupBy('dma') \\\n",
    "    .agg(F.avg('net_worth').alias('avg_net_worth'), F.avg('income_numeric').alias('avg_income'))\n",
    "\n",
    "\n",
    "#calculate the max values for the formula\n",
    "max_values = demographic_data.agg(F.max('net_worth').alias('max_net_worth'), F.max('income_numeric').alias('max_income')).collect()[0]\n",
    "\n",
    "\n",
    "# Calculate wealth score by the formula (avg new worth/ max net worth)+(avg income/max income)\n",
    "wealth_score = wealth_data \\\n",
    "    .withColumn('wealth_score', \n",
    "                (F.col('avg_net_worth') / max_values['max_net_worth'] + \n",
    "                 F.col('avg_income') / max_values['max_income']) / 2) \\\n",
    "    .select('dma', 'wealth_score') \\\n",
    "    .orderBy(F.desc('wealth_score')) #clac wealth score and order by descnding order of wealth score\n",
    "\n",
    "\n",
    "# Calculate genre popularity - The window_spec is defined before it's used in the genre_popularity calculation\n",
    "window_spec = Window.partitionBy('dma').orderBy(F.desc('popularity')) #partition by dma and rders the data within each partition by the popularity column in descending order\n",
    "\n",
    "# First Join program_viewing_data with reference_data on device_id, then Join the result with daily_program_data on prog_code\n",
    "# then Group by dma and genre, then count the occurrences of each dma and genre combination\n",
    "# then Rename the count column to popularity, then Rank the genres by popularity within each DMA\n",
    "genre_popularity = program_viewing_data.join(F.broadcast(reference_data), 'device_id') \\\n",
    "    .join(F.broadcast(daily_program_data), 'prog_code') \\\n",
    "    .groupBy('dma', 'genre') \\\n",
    "    .count() \\\n",
    "    .withColumnRenamed('count', 'popularity') \\\n",
    "    .withColumn('rank', F.rank().over(window_spec)) #join tables first then group by dma and genre then count popularity and rank as to popularity\n",
    "\n",
    "\n",
    "\n",
    "# Function to clean DMA name for filename\n",
    "def clean_dma_name(dma_name):\n",
    "    # Replace spaces with underscores\n",
    "    name = dma_name.replace(\" \", \"_\")\n",
    "    # Remove all other special characters\n",
    "    return re.sub(r'[^a-zA-Z0-9_]', '', name)\n",
    "\n",
    "\n",
    "# UDF for cleaning DMA names\n",
    "clean_dma_udf = F.udf(clean_dma_name, StringType())\n",
    "\n",
    "# Explode the genre list to get individual genres\n",
    "exploded_genre_popularity = genre_popularity.withColumn('genre', F.explode(F.split(F.col('genre'), ',')))\n",
    "\n",
    "# Initialize an empty set for the blacklist\n",
    "blacklist = set()\n",
    "\n",
    "# take only the top dma with the highest wealth score\n",
    "top_10_dmas = wealth_score.limit(10)\n",
    "\n",
    "# Process each DMA separately\n",
    "for i, dma_row in enumerate(top_10_dmas.collect()):\n",
    "    dma = dma_row['dma']\n",
    "    wealth_score_value = dma_row['wealth_score'] #the wealth score\n",
    "    \n",
    "    # Filter for the DMA, then exclude genres in the blacklist, then remove Duplicate Genres \n",
    "    # then rank Genres by popularity, then Filter Top 11 Genres and select only the genre column\n",
    "    dma_genres = exploded_genre_popularity.filter(F.col('dma') == dma) \\\n",
    "        .filter(~F.col('genre').isin(blacklist)) \\\n",
    "        .dropDuplicates(['genre']) \\\n",
    "        .withColumn('rank', F.rank().over(Window.partitionBy('dma').orderBy(F.desc('popularity')))) \n",
    "\n",
    "    # Filter to get the top 11 genres per DMA\n",
    "    top_11_genres_per_dma = dma_genres.filter(F.col('rank') <= 11)\n",
    "    # This ensures the result does not exceed 11 rows.\n",
    "    top_11_genres_per_dma = top_11_genres_per_dma.limit(11)\n",
    "    # Select only the genre column\n",
    "    top_11_genres_only = top_11_genres_per_dma.select('genre')\n",
    "    # Collect genres as a list\n",
    "    genres_list = top_11_genres_only.rdd.flatMap(lambda row: row).collect()\n",
    "\n",
    "    # Ensure we have exactly 11 unique genres\n",
    "    if len(genres_list) < 11:\n",
    "        # Fill the remaining slots with empty strings\n",
    "        genres_list.extend([''] * (11 - len(genres_list)))\n",
    "\n",
    "    blacklist.update(genres_list) # Update the blacklist with the newly selected genres\n",
    "    \n",
    "    # Create a DataFrame with one row per genre\n",
    "    genre_rows = [(dma, wealth_score_value, genre) for genre in genres_list]\n",
    "    dma_result = spark.createDataFrame(genre_rows, ['DMA NAME', 'WEALTH SCORE', 'ORDERED LIST OF GENRES'])\n",
    "\n",
    "   \n",
    "    # Clean DMA name for filename\n",
    "    clean_name = clean_dma_name(dma)\n",
    "    file_name = f\"project1_part22_{clean_name}_324075548_326172756.csv\" #file nameas requested\n",
    "    \n",
    "    # Display results\n",
    "    print(f\"\\nData for: {file_name}\")\n",
    "    display(dma_result)\n",
    "    \n",
    "    # Display results for 1st, 5th, and 9th DMAs\n",
    "    if i in [0, 4, 8]:\n",
    "        genres = dma_result.select('ORDERED LIST OF GENRES').rdd.flatMap(lambda row: row).collect()\n",
    "        print(f\"\\nTop genres for DMA {dma} (Wealth Score: {wealth_score_value}):\") #print dma and its wealth score\n",
    "        print(genres)# print the genres for each dma\n",
    "   \n"
   ]
  },
  {
   "cell_type": "markdown",
   "metadata": {
    "application/vnd.databricks.v1+cell": {
     "cellMetadata": {},
     "inputWidgets": {},
     "nuid": "8b78d712-1551-46d6-8a6f-efe3557db4c2",
     "showTitle": false,
     "title": ""
    }
   },
   "source": []
  }
 ],
 "metadata": {
  "application/vnd.databricks.v1+notebook": {
   "dashboards": [],
   "environmentMetadata": null,
   "language": "python",
   "notebookMetadata": {
    "pythonIndentUnit": 4
   },
   "notebookName": "project1_part2_324075548_326172756",
   "widgets": {}
  }
 },
 "nbformat": 4,
 "nbformat_minor": 0
}
